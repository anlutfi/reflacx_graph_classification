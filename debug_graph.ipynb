{
 "cells": [
  {
   "cell_type": "markdown",
   "metadata": {},
   "source": [
    "### Tools for debugging graphs in reflacx and in DGL"
   ]
  },
  {
   "cell_type": "code",
   "execution_count": null,
   "metadata": {},
   "outputs": [],
   "source": [
    "from iou_graph import IOUGraph\n",
    "from scanpath_graph import ScanPathGraph\n",
    "from euclidean_graph import EuclideanGraph\n",
    "import matplotlib.pyplot as plt\n",
    "import cv2\n",
    "import dgl\n",
    "import torch\n",
    "import networkx as nx\n",
    "import os\n",
    "import numpy as np\n",
    "from feature_extraction.dense_feature_extraction import DenseFeatureExtractor\n",
    "\n",
    "from metadata import Metadata"
   ]
  },
  {
   "cell_type": "code",
   "execution_count": null,
   "metadata": {},
   "outputs": [],
   "source": [
    "class GraphPair:\n",
    "    def __init__(self, reflacx_graph, dgl_graph):\n",
    "        self.reflacx_graph = reflacx_graph\n",
    "        self.dgl_graph, self.dgl_labels = dgl_graph\n",
    "\n",
    "    def draw_dgl(self):\n",
    "        pass\n",
    "\n",
    "    def draw_reflacx(self):\n",
    "        pass\n",
    "\n",
    "    def dgl_iou(self):\n",
    "        pass\n",
    "\n",
    "    def reflacx_iou(self):\n",
    "        pass\n",
    "\n",
    "    def get_ious(self):\n",
    "        return {'dgl': self.dgl_iou(), 'reflacx': self.reflacx_iou()}"
   ]
  },
  {
   "cell_type": "code",
   "execution_count": null,
   "metadata": {},
   "outputs": [],
   "source": [
    "class GraphDebugger:\n",
    "    def __init__(self,\n",
    "                 dgl_dataset_dir,\n",
    "                 graph_class,\n",
    "                 extractor=DenseFeatureExtractor(),\n",
    "                 avg_fpath='./avg_DensNet_REFLACX_features.npy',\n",
    "                 reflacx_dir=\"../data/reflacx\",\n",
    "                 mimic_dir=\"../data/mimic/reflacx_imgs\",\n",
    "                 full_meta_path=\"../reflacx_lib/full_meta.json\"):\n",
    "        self.reflacx = Metadata(reflacx_dir,\n",
    "                                mimic_dir,\n",
    "                                full_meta_path,\n",
    "                                max_dicom_lib_ram_percent=20)\n",
    "        self.dataset = dgl.data.CSVDataset(dgl_dataset_dir)\n",
    "        self.graph_class = graph_class\n",
    "        self.extractor = extractor\n",
    "        self.index = {}\n",
    "        with open(os.sep.join([dgl_dataset_dir, 'index.csv'])) as f:\n",
    "            for line in (l.strip() for l in f.readlines()[1:]):\n",
    "                i, did, rid = line.split(',')\n",
    "                self.index[int(i)] = (did, rid)\n",
    "\n",
    "        self.mean_feats = np.load(avg_fpath) if avg_fpath is not None else None\n",
    "\n",
    "\n",
    "    def _fetch(self, i, sample):\n",
    "        features = self.extractor.get_reflacx_img_features(sample, to_numpy=True)\n",
    "        reflacx_g = self.graph_class(sample.dicom_id,\n",
    "                                     sample.reflacx_id,\n",
    "                                     sample,\n",
    "                                     metadata=self.reflacx,\n",
    "                                     stdevs=1,\n",
    "                                     feature_extractor=self.extractor,\n",
    "                                     img_features=features,\n",
    "                                     mean_features=self.mean_feats)\n",
    "        \n",
    "        return GraphPair(reflacx_g, self.dataset[i])\n",
    "\n",
    "    \n",
    "    def fetch_by_dgl_index(self, i):\n",
    "        assert i in self.index\n",
    "        did, rid = self.index[i]\n",
    "        sample = self.reflacx.get_sample(did, rid)\n",
    "        return self._fetch(i, sample)\n",
    "    \n",
    "    \n",
    "    def fetch_by_reflacx(self, did=None, rid=None, sample=None):\n",
    "        assert sample is not None or (did is not None and rid is not None)\n",
    "        if sample is None:\n",
    "            sample = self.reflacx.get_sample(did, rid)\n",
    "        reverse_index = {v: k for (k, v) in self.index.items()}\n",
    "        assert (did, rid) in reverse_index\n",
    "        i = reverse_index[(did, rid)]\n",
    "        return self._fetch(i, sample)"
   ]
  },
  {
   "cell_type": "code",
   "execution_count": null,
   "metadata": {},
   "outputs": [],
   "source": [
    "dgl_dataset_dir = 'datasets/reflacx_densnet225_iou'"
   ]
  },
  {
   "cell_type": "code",
   "execution_count": null,
   "metadata": {},
   "outputs": [],
   "source": [
    "gdb = GraphDebugger(dgl_dataset_dir, IOUGraph)"
   ]
  }
 ],
 "metadata": {
  "kernelspec": {
   "display_name": "graph_classification",
   "language": "python",
   "name": "python3"
  },
  "language_info": {
   "codemirror_mode": {
    "name": "ipython",
    "version": 3
   },
   "file_extension": ".py",
   "mimetype": "text/x-python",
   "name": "python",
   "nbconvert_exporter": "python",
   "pygments_lexer": "ipython3",
   "version": "3.8.10"
  }
 },
 "nbformat": 4,
 "nbformat_minor": 2
}
