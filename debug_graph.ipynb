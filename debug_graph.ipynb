{
 "cells": [
  {
   "cell_type": "markdown",
   "metadata": {},
   "source": [
    "### Tools for debugging graphs in reflacx and in DGL"
   ]
  },
  {
   "cell_type": "code",
   "execution_count": null,
   "metadata": {},
   "outputs": [],
   "source": [
    "from iou_graph import IOUGraph\n",
    "from scanpath_graph import ScanPathGraph\n",
    "from euclidean_graph import EuclideanGraph\n",
    "import matplotlib.pyplot as plt\n",
    "import cv2\n",
    "import dgl\n",
    "import torch\n",
    "import networkx as nx\n",
    "import os\n",
    "import numpy as np\n",
    "from feature_extraction.dense_feature_extraction import DenseFeatureExtractor\n",
    "\n",
    "from metadata import Metadata"
   ]
  },
  {
   "cell_type": "code",
   "execution_count": null,
   "metadata": {},
   "outputs": [],
   "source": [
    "class GraphPair:\n",
    "    def __init__(self, reflacx_graph, dgl_graph):\n",
    "        self.reflacx_graph = reflacx_graph\n",
    "        self.dgl_graph, self.dgl_labels = dgl_graph\n",
    "\n",
    "    def draw_dgl(self):\n",
    "        pass\n",
    "\n",
    "    def draw_reflacx(self):\n",
    "        pass\n",
    "\n",
    "    def dgl_ious(self, field='weight'): # TODO review field\n",
    "        result = {}\n",
    "        for i in (int(i) for i in self.dgl_graph.nodes()):\n",
    "            for j in (int(j) for j in self.dgl_graph.nodes()):\n",
    "                try:\n",
    "                    e_i = self.dgl_graph.edge_ids(i, j)\n",
    "                except dgl.DGLError:\n",
    "                    result[(i, j)] = 0.0\n",
    "                    continue\n",
    "                result[(i, j)] = np.float32(self.dgl_graph.edata[field][e_i])\n",
    "\n",
    "        return result\n",
    "\n",
    "    def reflacx_ious(self, canvas_sz=500):\n",
    "        def get_coords(node):\n",
    "            tlx, tly = node.topleft\n",
    "            brx, bry = node.bottomright\n",
    "            tlx = int(tlx * canvas_sz)\n",
    "            tly = int(tly * canvas_sz)\n",
    "            brx = int(brx * canvas_sz)\n",
    "            bry = int(bry * canvas_sz)\n",
    "            return tlx, tly, brx, bry\n",
    "        \n",
    "        def get_mask(tlx, tly, brx, bry):\n",
    "            mask = np.zeros((canvas_sz, canvas_sz))\n",
    "            mask = cv2.rectangle(mask, (tlx, tly), (brx, bry), 255, -1)\n",
    "            mask = cv2.threshold(mask, 200, 255, cv2.THRESH_BINARY)[1]\n",
    "            return mask\n",
    "        \n",
    "        result = {}\n",
    "        g = self.reflacx_graph\n",
    "        for i, node_i in enumerate(g.nodes):\n",
    "            tlx_i, tly_i, brx_i, bry_i = get_coords(node_i)\n",
    "            for j, node_j in enumerate(g.nodes):\n",
    "                if i == j:\n",
    "                    result[(i, j)] = 1.0\n",
    "                    continue\n",
    "                tlx_j, tly_j, brx_j, bry_j = get_coords(node_j)\n",
    "                imask = get_mask(tlx_i, tly_i, brx_i, bry_i)\n",
    "                umask = np.copy(imask)\n",
    "                jmask = get_mask(tlx_j, tly_j, brx_j, bry_j)\n",
    "\n",
    "                imask[imask != jmask] = 0\n",
    "                umask[umask != jmask] = 255\n",
    "                inter = np.count_nonzero(imask)\n",
    "                union = np.count_nonzero(umask)\n",
    "                \n",
    "                result[(i, j)] = inter / union\n",
    "        \n",
    "        return result\n",
    "                \n",
    "\n",
    "    def get_ious(self):\n",
    "        return {'dgl': self.dgl_iou(), 'reflacx': self.reflacx_iou()}"
   ]
  },
  {
   "cell_type": "code",
   "execution_count": null,
   "metadata": {},
   "outputs": [],
   "source": [
    "class GraphDebugger:\n",
    "    def __init__(self,\n",
    "                 dgl_dataset_dir,\n",
    "                 graph_class,\n",
    "                 extractor=DenseFeatureExtractor(),\n",
    "                 avg_fpath='./avg_DensNet_REFLACX_features.npy',\n",
    "                 reflacx_dir=\"../data/reflacx\",\n",
    "                 mimic_dir=\"../data/mimic/reflacx_imgs\",\n",
    "                 full_meta_path=\"../reflacx_lib/full_meta.json\"):\n",
    "        self.reflacx = Metadata(reflacx_dir,\n",
    "                                mimic_dir,\n",
    "                                full_meta_path,\n",
    "                                max_dicom_lib_ram_percent=20)\n",
    "        self.dataset = dgl.data.CSVDataset(dgl_dataset_dir)\n",
    "        self.graph_class = graph_class\n",
    "        self.extractor = extractor\n",
    "        self.index = {}\n",
    "        with open(os.sep.join([dgl_dataset_dir, 'index.csv'])) as f:\n",
    "            for line in (l.strip() for l in f.readlines()[1:]):\n",
    "                i, did, rid = line.split(',')\n",
    "                self.index[int(i)] = (did, rid)\n",
    "\n",
    "        self.mean_feats = np.load(avg_fpath) if avg_fpath is not None else None\n",
    "\n",
    "\n",
    "    def _fetch(self, i, sample):\n",
    "        features = self.extractor.get_reflacx_img_features(sample, to_numpy=True)\n",
    "        reflacx_g = self.graph_class(sample.dicom_id,\n",
    "                                     sample.reflacx_id,\n",
    "                                     sample,\n",
    "                                     metadata=self.reflacx,\n",
    "                                     stdevs=1,\n",
    "                                     feature_extractor=self.extractor,\n",
    "                                     img_features=features,\n",
    "                                     mean_features=self.mean_feats)\n",
    "        \n",
    "        return GraphPair(reflacx_g, self.dataset[i])\n",
    "\n",
    "    \n",
    "    def fetch_by_dgl_index(self, i):\n",
    "        assert i in self.index\n",
    "        did, rid = self.index[i]\n",
    "        sample = self.reflacx.get_sample(did, rid)\n",
    "        return self._fetch(i, sample)\n",
    "    \n",
    "    \n",
    "    def fetch_by_reflacx(self, did=None, rid=None, sample=None):\n",
    "        assert sample is not None or (did is not None and rid is not None)\n",
    "        if sample is None:\n",
    "            sample = self.reflacx.get_sample(did, rid)\n",
    "        reverse_index = {v: k for (k, v) in self.index.items()}\n",
    "        assert (did, rid) in reverse_index\n",
    "        i = reverse_index[(did, rid)]\n",
    "        return self._fetch(i, sample)"
   ]
  },
  {
   "cell_type": "code",
   "execution_count": null,
   "metadata": {},
   "outputs": [],
   "source": [
    "dgl_dataset_dir = 'datasets/reflacx_densnet225_iou'"
   ]
  },
  {
   "cell_type": "code",
   "execution_count": null,
   "metadata": {},
   "outputs": [],
   "source": [
    "gdb = GraphDebugger(dgl_dataset_dir, IOUGraph)"
   ]
  },
  {
   "cell_type": "code",
   "execution_count": null,
   "metadata": {},
   "outputs": [],
   "source": [
    "pair = gdb.fetch_by_reflacx('1bdf3180-0209f001-967acab6-0b811ea2-3c2e13eb', 'P300R510107')"
   ]
  },
  {
   "cell_type": "code",
   "execution_count": null,
   "metadata": {},
   "outputs": [],
   "source": [
    "r_ious = pair.reflacx_ious()"
   ]
  },
  {
   "cell_type": "code",
   "execution_count": null,
   "metadata": {},
   "outputs": [],
   "source": [
    "d_ious = pair.dgl_ious()"
   ]
  }
 ],
 "metadata": {
  "kernelspec": {
   "display_name": "graph_classification",
   "language": "python",
   "name": "python3"
  },
  "language_info": {
   "codemirror_mode": {
    "name": "ipython",
    "version": 3
   },
   "file_extension": ".py",
   "mimetype": "text/x-python",
   "name": "python",
   "nbconvert_exporter": "python",
   "pygments_lexer": "ipython3",
   "version": "3.8.10"
  }
 },
 "nbformat": 4,
 "nbformat_minor": 2
}
