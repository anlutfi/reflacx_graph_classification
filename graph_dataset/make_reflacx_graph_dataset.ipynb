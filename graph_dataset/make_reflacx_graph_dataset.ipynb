{
 "cells": [
  {
   "cell_type": "markdown",
   "metadata": {},
   "source": [
    "## Generating Graph datasets from REFLACX data"
   ]
  },
  {
   "cell_type": "code",
   "execution_count": null,
   "metadata": {},
   "outputs": [],
   "source": [
    "from gaze_graphs.scanpath_graph import ScanPathGraph\n",
    "from gaze_graphs.iou_graph import IOUGraph\n",
    "from gaze_graphs.euclidean_graph import EuclideanGraph\n",
    "from gaze_graphs.scanpath_iou_graph import ScanPathIOUGraph\n",
    "import os\n",
    "\n",
    "from reflacx_graph_dataset import generate_csv_dataset"
   ]
  },
  {
   "cell_type": "code",
   "execution_count": null,
   "metadata": {},
   "outputs": [],
   "source": [
    "full_meta_path = '../reflacx_lib/full_meta.json' # if file doesn't exist, it will be created\n",
    "reflacx_dir = \"../data/reflacx\"\n",
    "mimic_dir = \"../data/mimic/reflacx_imgs\"\n",
    "\n",
    "from metadata import Metadata\n",
    "\n",
    "metadata = Metadata(reflacx_dir, mimic_dir, full_meta_path, max_dicom_lib_ram_percent=30)"
   ]
  },
  {
   "cell_type": "markdown",
   "metadata": {},
   "source": [
    "#### Generating CSV Dataset"
   ]
  },
  {
   "cell_type": "code",
   "execution_count": null,
   "metadata": {},
   "outputs": [],
   "source": [
    "scp_sfx = 'reflacx_densnet225_scanpath'\n",
    "iou_sfx = 'reflacx_densnet225_iou'\n",
    "euc_sfx = 'reflacx_densnet225_euclidean'\n",
    "scp_iou_sfx = 'reflacx_densnet225_scan_iou'\n",
    "\n",
    "outdir = 'datasets'\n",
    "\n",
    "make_pth = lambda pth: os.sep.join([outdir, pth])\n",
    "make_log = lambda pth: os.sep.join(['log', pth])\n",
    "\n",
    "scp_pth = make_pth(scp_sfx)\n",
    "iou_pth = make_pth(iou_sfx)\n",
    "euc_pth = make_pth(euc_sfx)\n",
    "scp_iou_pth = make_pth(scp_iou_sfx)"
   ]
  },
  {
   "cell_type": "code",
   "execution_count": null,
   "metadata": {},
   "outputs": [],
   "source": [
    "print('scanpath dataset:')\n",
    "generate_csv_dataset(scp_sfx,\n",
    "                     metadata,\n",
    "                     outdir=outdir,\n",
    "                     graph_class=ScanPathGraph,\n",
    "                     mean_features_fpath='avg_DensNet_REFLACX_features.npy',\n",
    "                     log_dir=make_log(scp_sfx))"
   ]
  },
  {
   "cell_type": "code",
   "execution_count": null,
   "metadata": {},
   "outputs": [],
   "source": [
    "print(make_log(iou_sfx))\n",
    "print('iou dataset:')\n",
    "generate_csv_dataset(iou_sfx,\n",
    "                     metadata,\n",
    "                     outdir=outdir,\n",
    "                     graph_class=IOUGraph,\n",
    "                     mean_features_fpath='avg_DensNet_REFLACX_features.npy',\n",
    "                     log_dir=make_log(iou_sfx))"
   ]
  },
  {
   "cell_type": "code",
   "execution_count": null,
   "metadata": {},
   "outputs": [],
   "source": [
    "print('euclidean dataset:')\n",
    "generate_csv_dataset(euc_sfx,\n",
    "                     metadata,\n",
    "                     outdir=outdir,\n",
    "                     graph_class=EuclideanGraph,\n",
    "                     mean_features_fpath='avg_DensNet_REFLACX_features.npy',\n",
    "                     log_dir=make_log(euc_sfx))"
   ]
  },
  {
   "cell_type": "code",
   "execution_count": null,
   "metadata": {},
   "outputs": [],
   "source": [
    "print('scanpath iou dataset:')\n",
    "generate_csv_dataset(scp_iou_sfx,\n",
    "                     metadata,\n",
    "                     outdir=outdir,\n",
    "                     graph_class=ScanPathIOUGraph,\n",
    "                     mean_features_fpath='avg_DensNet_REFLACX_features.npy',\n",
    "                     log_dir=make_log(scp_iou_sfx))"
   ]
  },
  {
   "cell_type": "markdown",
   "metadata": {},
   "source": [
    "#### Loading CSV Dataset in DGL"
   ]
  },
  {
   "cell_type": "code",
   "execution_count": null,
   "metadata": {},
   "outputs": [],
   "source": [
    "import dgl"
   ]
  },
  {
   "cell_type": "code",
   "execution_count": null,
   "metadata": {},
   "outputs": [],
   "source": [
    "scp_ds = dgl.data.CSVDataset(scp_pth)\n",
    "len(scp_ds)"
   ]
  },
  {
   "cell_type": "code",
   "execution_count": null,
   "metadata": {},
   "outputs": [],
   "source": [
    "iou_ds = dgl.data.CSVDataset(iou_pth)\n",
    "len(iou_ds)"
   ]
  },
  {
   "cell_type": "code",
   "execution_count": null,
   "metadata": {},
   "outputs": [],
   "source": [
    "euc_ds = dgl.data.CSVDataset(euc_pth)\n",
    "len(euc_ds)"
   ]
  },
  {
   "cell_type": "code",
   "execution_count": null,
   "metadata": {},
   "outputs": [],
   "source": [
    "scp_iou_ds = dgl.data.CSVDataset(scp_iou_pth)\n",
    "len(scp_iou_ds)"
   ]
  }
 ],
 "metadata": {
  "kernelspec": {
   "display_name": "data_viz",
   "language": "python",
   "name": "python3"
  },
  "language_info": {
   "codemirror_mode": {
    "name": "ipython",
    "version": 3
   },
   "file_extension": ".py",
   "mimetype": "text/x-python",
   "name": "python",
   "nbconvert_exporter": "python",
   "pygments_lexer": "ipython3",
   "version": "3.8.10"
  }
 },
 "nbformat": 4,
 "nbformat_minor": 2
}
