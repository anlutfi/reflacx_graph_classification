{
 "cells": [
  {
   "cell_type": "markdown",
   "metadata": {},
   "source": [
    "### Message Passing for REFLACX graph datapoints"
   ]
  },
  {
   "cell_type": "code",
   "execution_count": null,
   "metadata": {},
   "outputs": [],
   "source": [
    "import torch\n",
    "import dgl.function as fn\n",
    "import dgl\n",
    "import matplotlib.pyplot as plt\n",
    "import numpy as np\n",
    "\n",
    "from iou_graph import IOUGraph\n",
    "from dgl_reflacx_tools.tools import get_node, get_edge, draw, get_connected_component\n",
    "from dgl_reflacx_tools.dgl_reflacx_collection import GraphCollection"
   ]
  },
  {
   "cell_type": "code",
   "execution_count": null,
   "metadata": {},
   "outputs": [],
   "source": [
    "dataset_pth = 'datasets/reflacx_densnet225_iou'"
   ]
  },
  {
   "cell_type": "code",
   "execution_count": null,
   "metadata": {},
   "outputs": [],
   "source": [
    "collection = GraphCollection(dataset_pth, IOUGraph)"
   ]
  },
  {
   "cell_type": "code",
   "execution_count": null,
   "metadata": {},
   "outputs": [],
   "source": [
    "pair = collection.fetch_by_reflacx('1bdf3180-0209f001-967acab6-0b811ea2-3c2e13eb', 'P300R510107')"
   ]
  },
  {
   "cell_type": "code",
   "execution_count": null,
   "metadata": {},
   "outputs": [],
   "source": [
    "g = pair.dgl_graph\n",
    "labels = pair.dgl_labels\n",
    "g, labels"
   ]
  },
  {
   "cell_type": "code",
   "execution_count": null,
   "metadata": {},
   "outputs": [],
   "source": [
    "if torch.cuda.device_count() > 0:\n",
    "    g = g.to(torch.device('cuda:0'))\n",
    "    labels = labels.to(torch.device('cuda:0'))\n",
    "g, labels, g.nodes().device, labels.device"
   ]
  },
  {
   "cell_type": "code",
   "execution_count": null,
   "metadata": {},
   "outputs": [],
   "source": [
    "draw(g)"
   ]
  },
  {
   "cell_type": "code",
   "execution_count": null,
   "metadata": {},
   "outputs": [],
   "source": [
    "def node_edge_fns(g):\n",
    "    node = lambda i: get_node(g, i)\n",
    "    edge = lambda i, j: get_edge(g, i, j)\n",
    "    return node, edge"
   ]
  },
  {
   "cell_type": "code",
   "execution_count": null,
   "metadata": {},
   "outputs": [],
   "source": [
    "adj = g.adjacency_matrix().to_dense().cpu().detach().numpy()"
   ]
  },
  {
   "cell_type": "code",
   "execution_count": null,
   "metadata": {},
   "outputs": [],
   "source": [
    "cc = get_connected_component(np.copy(adj))"
   ]
  },
  {
   "cell_type": "code",
   "execution_count": null,
   "metadata": {},
   "outputs": [],
   "source": [
    "sg = g.subgraph(list(cc))"
   ]
  },
  {
   "cell_type": "code",
   "execution_count": null,
   "metadata": {},
   "outputs": [],
   "source": [
    "dgl.mean_nodes(sg, 'feats').shape"
   ]
  },
  {
   "cell_type": "code",
   "execution_count": null,
   "metadata": {},
   "outputs": [],
   "source": [
    "draw(sg)"
   ]
  },
  {
   "cell_type": "code",
   "execution_count": null,
   "metadata": {},
   "outputs": [],
   "source": [
    "def print_keys(keys):\n",
    "    for k in keys:\n",
    "        print(k)"
   ]
  },
  {
   "cell_type": "code",
   "execution_count": null,
   "metadata": {},
   "outputs": [],
   "source": [
    "print_keys(sg.edata.keys())"
   ]
  },
  {
   "cell_type": "code",
   "execution_count": null,
   "metadata": {},
   "outputs": [],
   "source": [
    "print_keys(sg.ndata.keys())"
   ]
  },
  {
   "cell_type": "markdown",
   "metadata": {},
   "source": [
    "Setting neighborhood weight factors for duration and IOU"
   ]
  },
  {
   "cell_type": "code",
   "execution_count": null,
   "metadata": {},
   "outputs": [],
   "source": [
    "def init_gnn(g):\n",
    "    g.apply_edges(fn.u_mul_e('duration', 'weight', 'factor'))\n",
    "    g.update_all(fn.copy_e('factor', 'm'), fn.sum('m', 'neigh_factor'))\n",
    "\n",
    "init_gnn(sg)"
   ]
  },
  {
   "cell_type": "markdown",
   "metadata": {},
   "source": [
    "convolution step 1"
   ]
  },
  {
   "cell_type": "code",
   "execution_count": null,
   "metadata": {},
   "outputs": [],
   "source": [
    "def conv_1(g):\n",
    "    g.apply_edges(fn.u_mul_e('feats', 'factor', 'w_feats'))\n",
    "    g.update_all(fn.e_div_v('w_feats', 'neigh_factor', 'norm_feats'),\n",
    "                  fn.sum('norm_feats', 'conv_feats'))\n",
    "\n",
    "conv_1(sg)"
   ]
  },
  {
   "cell_type": "markdown",
   "metadata": {},
   "source": [
    "convolution steps 2 and on"
   ]
  },
  {
   "cell_type": "code",
   "execution_count": null,
   "metadata": {},
   "outputs": [],
   "source": [
    "def conv_2n(g):\n",
    "    g.apply_edges(fn.u_mul_e('conv_feats', 'factor', 'w_feats'))\n",
    "    g.update_all(fn.e_div_v('w_feats', 'neigh_factor', 'norm_feats'),\n",
    "                 fn.sum('norm_feats', 'conv_feats'))\n",
    "\n",
    "conv_2n(sg)"
   ]
  },
  {
   "cell_type": "markdown",
   "metadata": {},
   "source": [
    "### Aggregating graph into grid\n",
    "making a subgraph for each grid cell, limited by x and y"
   ]
  },
  {
   "cell_type": "code",
   "execution_count": null,
   "metadata": {},
   "outputs": [],
   "source": [
    "node, edge = node_edge_fns(g)"
   ]
  },
  {
   "cell_type": "code",
   "execution_count": null,
   "metadata": {},
   "outputs": [],
   "source": [
    "from dgl_reflacx_tools.tools import gridify, grid_readout"
   ]
  },
  {
   "cell_type": "code",
   "execution_count": null,
   "metadata": {},
   "outputs": [],
   "source": [
    "_, sg_grid = gridify(g, 4)\n",
    "sg_grid[0]"
   ]
  },
  {
   "cell_type": "code",
   "execution_count": null,
   "metadata": {},
   "outputs": [],
   "source": [
    "duration_ro = grid_readout(sg_grid, 'duration', lambda x, y: dgl.sum_nodes(x, y).cpu())\n",
    "duration_ro.shape"
   ]
  },
  {
   "cell_type": "code",
   "execution_count": null,
   "metadata": {},
   "outputs": [],
   "source": [
    "duration_ro"
   ]
  },
  {
   "cell_type": "code",
   "execution_count": null,
   "metadata": {},
   "outputs": [],
   "source": [
    "feats_ro = grid_readout(sg_grid, 'feats', lambda x, y: dgl.mean_nodes(x, y).cpu())\n",
    "feats_ro.shape"
   ]
  },
  {
   "cell_type": "markdown",
   "metadata": {},
   "source": [
    "#### Tests with batched graphs"
   ]
  },
  {
   "cell_type": "code",
   "execution_count": null,
   "metadata": {},
   "outputs": [],
   "source": [
    "g2 = collection.fetch_by_dgl_index(3).dgl_graph.to('cuda:0')\n",
    "g3 = collection.fetch_by_dgl_index(5).dgl_graph.to('cuda:0')\n",
    "b = dgl.batch([g, g2, g3])"
   ]
  },
  {
   "cell_type": "code",
   "execution_count": null,
   "metadata": {},
   "outputs": [],
   "source": [
    "gridsize = 4"
   ]
  },
  {
   "cell_type": "code",
   "execution_count": null,
   "metadata": {},
   "outputs": [],
   "source": [
    "_, bb = gridify(b, gridsize)\n",
    "_, gg1 = gridify(g, gridsize)\n",
    "_, gg2 = gridify(g2, gridsize)\n",
    "_, gg3 = gridify(g3, gridsize)\n"
   ]
  },
  {
   "cell_type": "code",
   "execution_count": null,
   "metadata": {},
   "outputs": [],
   "source": [
    "X, Y = 0, 1"
   ]
  },
  {
   "cell_type": "code",
   "execution_count": null,
   "metadata": {},
   "outputs": [],
   "source": [
    "cell_bb = bb[X][Y]\n",
    "cell_gg1 = gg1[X][Y]\n",
    "cell_gg2 = gg2[X][Y]\n",
    "cell_gg3 = gg3[X][Y]"
   ]
  },
  {
   "cell_type": "code",
   "execution_count": null,
   "metadata": {},
   "outputs": [],
   "source": [
    "cell_gg1.batch_num_nodes(), cell_gg2.batch_num_nodes(), cell_gg3.batch_num_nodes()"
   ]
  },
  {
   "cell_type": "code",
   "execution_count": null,
   "metadata": {},
   "outputs": [],
   "source": [
    "cell_bb.batch_num_nodes()"
   ]
  },
  {
   "cell_type": "code",
   "execution_count": null,
   "metadata": {},
   "outputs": [],
   "source": [
    "cell_gg1.batch_num_edges(), cell_gg2.batch_num_edges(), cell_gg3.batch_num_edges()"
   ]
  },
  {
   "cell_type": "code",
   "execution_count": null,
   "metadata": {},
   "outputs": [],
   "source": [
    "cell_bb.batch_num_edges()"
   ]
  },
  {
   "cell_type": "code",
   "execution_count": null,
   "metadata": {},
   "outputs": [],
   "source": [
    "torch.all(dgl.sum_nodes(cell_bb, 'duration') == torch.cat([dgl.sum_nodes(cell_gg1, 'duration'), dgl.sum_nodes(cell_gg2, 'duration'), dgl.sum_nodes(cell_gg3, 'duration')]))"
   ]
  },
  {
   "cell_type": "code",
   "execution_count": null,
   "metadata": {},
   "outputs": [],
   "source": [
    "torch.all(dgl.sum_edges(cell_bb, 'weight') == torch.cat([dgl.sum_edges(cell_gg1, 'weight'), dgl.sum_edges(cell_gg2, 'weight'), dgl.sum_edges(cell_gg3, 'weight')]))"
   ]
  },
  {
   "cell_type": "markdown",
   "metadata": {},
   "source": [
    "Testing readouts for batches"
   ]
  },
  {
   "cell_type": "code",
   "execution_count": null,
   "metadata": {},
   "outputs": [],
   "source": [
    "bb_ro = grid_readout(bb, 'feats', lambda x, y: dgl.mean_nodes(x, y).cpu())\n",
    "bb_gg1 = grid_readout(gg1, 'feats', lambda x, y: dgl.mean_nodes(x, y).cpu())\n",
    "bb_gg2 = grid_readout(gg2, 'feats', lambda x, y: dgl.mean_nodes(x, y).cpu())\n",
    "bb_gg3 = grid_readout(gg3, 'feats', lambda x, y: dgl.mean_nodes(x, y).cpu())\n",
    "\n",
    "bb_ro.shape, bb_gg1.shape, bb_gg2.shape, bb_gg3.shape"
   ]
  },
  {
   "cell_type": "code",
   "execution_count": null,
   "metadata": {},
   "outputs": [],
   "source": [
    "(torch.all(bb_ro[0] == bb_gg1),\n",
    " torch.all(bb_ro[1] == bb_gg2),\n",
    " torch.all(bb_ro[2] == bb_gg3))"
   ]
  },
  {
   "cell_type": "code",
   "execution_count": null,
   "metadata": {},
   "outputs": [],
   "source": [
    "bbd_ro = grid_readout(bb, 'duration', lambda x, y: dgl.sum_nodes(x, y).cpu())"
   ]
  },
  {
   "cell_type": "code",
   "execution_count": null,
   "metadata": {},
   "outputs": [],
   "source": [
    "bb_ro.shape, bbd_ro.shape"
   ]
  },
  {
   "cell_type": "code",
   "execution_count": null,
   "metadata": {},
   "outputs": [],
   "source": [
    "torch.cat([bbd_ro.unsqueeze(-1), bb_ro], dim=-1).shape"
   ]
  },
  {
   "cell_type": "code",
   "execution_count": null,
   "metadata": {},
   "outputs": [],
   "source": [
    "from dgl_reflacx_tools.tools import Readout"
   ]
  },
  {
   "cell_type": "code",
   "execution_count": null,
   "metadata": {},
   "outputs": [],
   "source": [
    "class Readout:\n",
    "    def __init__(self, feats_and_aggrs, replace_nan=True):\n",
    "        self.replace_nan = replace_nan\n",
    "        self.readouts = []\n",
    "        for feat_nm, aggr in feats_and_aggrs:\n",
    "            self.readouts.append(lambda grid, f=feat_nm, a=aggr, r=replace_nan: grid_readout(grid, f, a, r))\n",
    "            \n",
    "    def __call__(self, grid, flatten=True):\n",
    "        result = None\n",
    "        for readout in self.readouts:\n",
    "            ro = readout(grid)\n",
    "            if ro.dim() < 4:\n",
    "                ro = ro.unsqueeze(-1)\n",
    "            if result is None:\n",
    "                result = ro\n",
    "            else:\n",
    "                result = torch.cat([result, ro], dim=-1)\n",
    "        return result if not flatten else result.flatten(1, -1)"
   ]
  },
  {
   "cell_type": "code",
   "execution_count": null,
   "metadata": {},
   "outputs": [],
   "source": [
    "refro = Readout([('feats', lambda x, y: dgl.mean_nodes(x, y).cpu()),\n",
    "                 ('duration', lambda x, y: dgl.sum_nodes(x, y).cpu())\n",
    "                ])"
   ]
  },
  {
   "cell_type": "code",
   "execution_count": null,
   "metadata": {},
   "outputs": [],
   "source": [
    "cons_ro = refro(bb, flatten=False)"
   ]
  },
  {
   "cell_type": "code",
   "execution_count": null,
   "metadata": {},
   "outputs": [],
   "source": [
    "cons_ro.shape"
   ]
  },
  {
   "cell_type": "code",
   "execution_count": null,
   "metadata": {},
   "outputs": [],
   "source": [
    "cons_ro.flatten(1, -1).shape"
   ]
  },
  {
   "cell_type": "code",
   "execution_count": null,
   "metadata": {},
   "outputs": [],
   "source": [
    "4* 4* 1025"
   ]
  },
  {
   "cell_type": "code",
   "execution_count": null,
   "metadata": {},
   "outputs": [],
   "source": [
    "torch.all(cons_ro[:, :, :, :-1] == bb_ro), torch.all(cons_ro[:, :, :, -1] == bbd_ro)"
   ]
  }
 ],
 "metadata": {
  "kernelspec": {
   "display_name": "graph_classification",
   "language": "python",
   "name": "python3"
  },
  "language_info": {
   "codemirror_mode": {
    "name": "ipython",
    "version": 3
   },
   "file_extension": ".py",
   "mimetype": "text/x-python",
   "name": "python",
   "nbconvert_exporter": "python",
   "pygments_lexer": "ipython3",
   "version": "3.8.10"
  }
 },
 "nbformat": 4,
 "nbformat_minor": 2
}
