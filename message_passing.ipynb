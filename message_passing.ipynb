{
 "cells": [
  {
   "cell_type": "markdown",
   "metadata": {},
   "source": [
    "### Message Passing for REFLACX graph datapoints"
   ]
  },
  {
   "cell_type": "code",
   "execution_count": null,
   "metadata": {},
   "outputs": [],
   "source": [
    "import torch\n",
    "import dgl\n",
    "import networkx as nx\n",
    "import matplotlib.pyplot as plt"
   ]
  },
  {
   "cell_type": "code",
   "execution_count": null,
   "metadata": {},
   "outputs": [],
   "source": [
    "if torch.cuda.device_count() > 0:\n",
    "    torch.set_default_device('cuda')\n",
    "ds = dgl.data.CSVDataset('datasets/reflacx_densnet225_iou')"
   ]
  },
  {
   "cell_type": "code",
   "execution_count": null,
   "metadata": {},
   "outputs": [],
   "source": [
    "g, labels = ds[36]"
   ]
  },
  {
   "cell_type": "code",
   "execution_count": null,
   "metadata": {},
   "outputs": [],
   "source": [
    "if torch.cuda.device_count() > 0:\n",
    "    g = g.to(torch.device('cuda:0'))\n",
    "    labels = labels.to(torch.device('cuda:0'))\n",
    "g, labels, g.nodes().device, labels.device"
   ]
  },
  {
   "cell_type": "code",
   "execution_count": null,
   "metadata": {},
   "outputs": [],
   "source": [
    "options = {\n",
    "    'node_color': 'black',\n",
    "    'node_size': 20,\n",
    "    'width': 1,\n",
    "}\n",
    "G = dgl.to_networkx(g.cpu())\n",
    "plt.figure(figsize=[15,7])\n",
    "nx.draw(G, **options)"
   ]
  },
  {
   "cell_type": "code",
   "execution_count": null,
   "metadata": {},
   "outputs": [],
   "source": [
    "def get_node(graph, i):\n",
    "    assert 0 <= i < len(graph.nodes())\n",
    "    result = {}\n",
    "    for k in graph.ndata.keys():\n",
    "        result[k] = graph.ndata[k][i]\n",
    "    return result"
   ]
  },
  {
   "cell_type": "code",
   "execution_count": null,
   "metadata": {},
   "outputs": [],
   "source": [
    "def get_edge(graph, i, j):\n",
    "    try:\n",
    "        e_i = graph.edge_ids(i, j)\n",
    "    except dgl.DGLError:\n",
    "        return 0.0\n",
    "    return graph.edata['weight'][e_i] # TODO review field name str"
   ]
  },
  {
   "cell_type": "code",
   "execution_count": null,
   "metadata": {},
   "outputs": [],
   "source": [
    "node = lambda i: get_node(g, i)\n",
    "edge = lambda i, j: get_edge(g, i ,j)"
   ]
  },
  {
   "cell_type": "code",
   "execution_count": null,
   "metadata": {},
   "outputs": [],
   "source": [
    "node(0), node(1), edge(0, 1)"
   ]
  }
 ],
 "metadata": {
  "kernelspec": {
   "display_name": "graph_classification",
   "language": "python",
   "name": "python3"
  },
  "language_info": {
   "codemirror_mode": {
    "name": "ipython",
    "version": 3
   },
   "file_extension": ".py",
   "mimetype": "text/x-python",
   "name": "python",
   "nbconvert_exporter": "python",
   "pygments_lexer": "ipython3",
   "version": "3.8.10"
  }
 },
 "nbformat": 4,
 "nbformat_minor": 2
}
