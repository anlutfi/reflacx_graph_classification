{
 "cells": [
  {
   "cell_type": "code",
   "execution_count": null,
   "metadata": {},
   "outputs": [],
   "source": [
    "import dgl\n",
    "import torch\n",
    "import numpy as np\n",
    "import os\n",
    "import matplotlib.pyplot as plt"
   ]
  },
  {
   "cell_type": "code",
   "execution_count": 2,
   "metadata": {},
   "outputs": [],
   "source": [
    "make_pth = lambda pth: os.sep.join(['..', 'datasets', pth])"
   ]
  },
  {
   "cell_type": "code",
   "execution_count": null,
   "metadata": {},
   "outputs": [],
   "source": [
    "dspth = make_pth('reflacx_densnet225_scanpath')\n",
    "dspth"
   ]
  },
  {
   "cell_type": "code",
   "execution_count": 4,
   "metadata": {},
   "outputs": [],
   "source": [
    "def get_node(graph, i):\n",
    "    assert 0 <= i < len(graph.nodes())\n",
    "    result = {}\n",
    "    for k in graph.ndata.keys():\n",
    "        result[k] = graph.ndata[k][i]\n",
    "    return result\n",
    "\n",
    "def get_edge(adjmat, i, j):\n",
    "    assert 0 <= i < adjmat.shape[0]\n",
    "    assert 0 <= j < adjmat.shape[1]\n",
    "    return adjmat[i, j]"
   ]
  },
  {
   "cell_type": "code",
   "execution_count": null,
   "metadata": {},
   "outputs": [],
   "source": [
    "ds = dgl.data.CSVDataset(dspth)"
   ]
  },
  {
   "cell_type": "code",
   "execution_count": 22,
   "metadata": {},
   "outputs": [],
   "source": [
    "g, labels = ds[0]\n",
    "g = g.to(torch.device('cuda:0'))"
   ]
  },
  {
   "cell_type": "markdown",
   "metadata": {},
   "source": [
    "#### Calculating observed area from image"
   ]
  },
  {
   "cell_type": "code",
   "execution_count": 7,
   "metadata": {},
   "outputs": [],
   "source": [
    "def mark_area(node, canvas):\n",
    "    min_x, min_y = [int(a) for a in node['norm_top_left'] * canvas.shape[1]]\n",
    "    max_x, max_y = [int(a) for a in node['norm_bottom_right'] * canvas.shape[0]]\n",
    "    canvas[min_x:max_x, min_y:max_y] = 1"
   ]
  },
  {
   "cell_type": "code",
   "execution_count": 8,
   "metadata": {},
   "outputs": [],
   "source": [
    "def observed_area_percent(graph, resolution=1000):\n",
    "    canvas = np.zeros((resolution, resolution))\n",
    "    for i in range(len(graph.nodes())):\n",
    "        mark_area(get_node(graph, i), canvas)\n",
    "\n",
    "    return np.sum(canvas) / (resolution ** 2), canvas"
   ]
  },
  {
   "cell_type": "code",
   "execution_count": 9,
   "metadata": {},
   "outputs": [],
   "source": [
    "def dataset_area_percent(dataset, resolution=1000):\n",
    "    result = {}\n",
    "    for i, (g, _) in enumerate(dataset):\n",
    "        result[i], _ = observed_area_percent(g, resolution)\n",
    "    return result"
   ]
  },
  {
   "cell_type": "code",
   "execution_count": null,
   "metadata": {},
   "outputs": [],
   "source": [
    "areas = dataset_area_percent(ds)\n",
    "areas"
   ]
  },
  {
   "cell_type": "code",
   "execution_count": 24,
   "metadata": {},
   "outputs": [
    {
     "data": {
      "text/plain": [
       "(array([ 20.,   0.,   3.,  20.,  93., 144., 159., 172., 170., 245., 341.,\n",
       "        375., 352., 349., 269., 177.,  91.,  45.,  19.,   7.]),\n",
       " array([0.        , 0.03722365, 0.0744473 , 0.11167095, 0.1488946 ,\n",
       "        0.18611825, 0.2233419 , 0.26056555, 0.2977892 , 0.33501285,\n",
       "        0.3722365 , 0.40946015, 0.4466838 , 0.48390745, 0.5211311 ,\n",
       "        0.55835475, 0.5955784 , 0.63280205, 0.6700257 , 0.70724935,\n",
       "        0.744473  ]),\n",
       " <BarContainer object of 20 artists>)"
      ]
     },
     "execution_count": 24,
     "metadata": {},
     "output_type": "execute_result"
    },
    {
     "data": {
      "image/png": "[encoded data removed]",
      "text/plain": [
       "<Figure size 640x480 with 1 Axes>"
      ]
     },
     "metadata": {},
     "output_type": "display_data"
    }
   ],
   "source": [
    "plt.hist(areas.values(), bins=20)"
   ]
  }
 ],
 "metadata": {
  "kernelspec": {
   "display_name": "graph_classification",
   "language": "python",
   "name": "python3"
  },
  "language_info": {
   "codemirror_mode": {
    "name": "ipython",
    "version": 3
   },
   "file_extension": ".py",
   "mimetype": "text/x-python",
   "name": "python",
   "nbconvert_exporter": "python",
   "pygments_lexer": "ipython3",
   "version": "3.8.10"
  }
 },
 "nbformat": 4,
 "nbformat_minor": 2
}
