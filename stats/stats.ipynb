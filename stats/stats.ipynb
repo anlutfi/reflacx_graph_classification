{
 "cells": [
  {
   "cell_type": "code",
   "execution_count": 1,
   "metadata": {},
   "outputs": [
    {
     "name": "stderr",
     "output_type": "stream",
     "text": [
      "/home/antonio/dev/pyvenvs/graph_classification/lib/python3.8/site-packages/tqdm/auto.py:21: TqdmWarning: IProgress not found. Please update jupyter and ipywidgets. See https://ipywidgets.readthedocs.io/en/stable/user_install.html\n",
      "  from .autonotebook import tqdm as notebook_tqdm\n"
     ]
    }
   ],
   "source": [
    "import dgl\n",
    "import torch\n",
    "import numpy as np\n",
    "import os\n",
    "import matplotlib.pyplot as plt"
   ]
  },
  {
   "cell_type": "code",
   "execution_count": 2,
   "metadata": {},
   "outputs": [],
   "source": [
    "make_pth = lambda pth: os.sep.join(['..', 'datasets', pth])"
   ]
  },
  {
   "cell_type": "code",
   "execution_count": 3,
   "metadata": {},
   "outputs": [
    {
     "data": {
      "text/plain": [
       "'../datasets/reflacx_densnet225_scanpath'"
      ]
     },
     "execution_count": 3,
     "metadata": {},
     "output_type": "execute_result"
    }
   ],
   "source": [
    "dspth = make_pth('reflacx_densnet225_scanpath')\n",
    "dspth"
   ]
  },
  {
   "cell_type": "code",
   "execution_count": 4,
   "metadata": {},
   "outputs": [],
   "source": [
    "def get_node(graph, i):\n",
    "    assert 0 <= i < len(graph.nodes())\n",
    "    result = {}\n",
    "    for k in graph.ndata.keys():\n",
    "        result[k] = graph.ndata[k][i]\n",
    "    return result\n",
    "\n",
    "def get_edge(adjmat, i, j):\n",
    "    assert 0 <= i < adjmat.shape[0]\n",
    "    assert 0 <= j < adjmat.shape[1]\n",
    "    return adjmat[i, j]"
   ]
  },
  {
   "cell_type": "code",
   "execution_count": 5,
   "metadata": {},
   "outputs": [
    {
     "name": "stdout",
     "output_type": "stream",
     "text": [
      "Done loading data from cached files.\n"
     ]
    }
   ],
   "source": [
    "ds = dgl.data.CSVDataset(dspth)"
   ]
  },
  {
   "cell_type": "code",
   "execution_count": 6,
   "metadata": {},
   "outputs": [],
   "source": [
    "g, labels = ds[0]\n",
    "if torch.cuda.device_count() > 0:\n",
    "    g = g.to(torch.device('cuda:0'))"
   ]
  },
  {
   "cell_type": "markdown",
   "metadata": {},
   "source": [
    "#### Calculating observed area from image"
   ]
  },
  {
   "cell_type": "code",
   "execution_count": 7,
   "metadata": {},
   "outputs": [],
   "source": [
    "def mark_area(node, canvas):\n",
    "    min_x, min_y = [int(a) for a in node['norm_top_left'] * canvas.shape[1]]\n",
    "    max_x, max_y = [int(a) for a in node['norm_bottom_right'] * canvas.shape[0]]\n",
    "    canvas[min_x:max_x, min_y:max_y] = 1"
   ]
  },
  {
   "cell_type": "code",
   "execution_count": 8,
   "metadata": {},
   "outputs": [],
   "source": [
    "def observed_area_percent(graph, resolution=1000):\n",
    "    canvas = np.zeros((resolution, resolution))\n",
    "    for i in range(len(graph.nodes())):\n",
    "        mark_area(get_node(graph, i), canvas)\n",
    "\n",
    "    return np.sum(canvas) / (resolution ** 2), canvas"
   ]
  },
  {
   "cell_type": "code",
   "execution_count": 9,
   "metadata": {},
   "outputs": [],
   "source": [
    "def dataset_area_percent(dataset, resolution=1000):\n",
    "    result = {}\n",
    "    sample_canvas = None\n",
    "    for i, (g, _) in enumerate(dataset):\n",
    "        result[i], sample_canvas = observed_area_percent(g, resolution)\n",
    "    return result, sample_canvas"
   ]
  },
  {
   "cell_type": "code",
   "execution_count": 10,
   "metadata": {},
   "outputs": [
    {
     "ename": "KeyboardInterrupt",
     "evalue": "",
     "output_type": "error",
     "traceback": [
      "\u001b[0;31m---------------------------------------------------------------------------\u001b[0m",
      "\u001b[0;31mKeyboardInterrupt\u001b[0m                         Traceback (most recent call last)",
      "Cell \u001b[0;32mIn[10], line 1\u001b[0m\n\u001b[0;32m----> 1\u001b[0m areas, img \u001b[38;5;241m=\u001b[39m \u001b[43mdataset_area_percent\u001b[49m\u001b[43m(\u001b[49m\u001b[43mds\u001b[49m\u001b[43m)\u001b[49m\n",
      "Cell \u001b[0;32mIn[9], line 5\u001b[0m, in \u001b[0;36mdataset_area_percent\u001b[0;34m(dataset, resolution)\u001b[0m\n\u001b[1;32m      3\u001b[0m sample_canvas \u001b[38;5;241m=\u001b[39m \u001b[38;5;28;01mNone\u001b[39;00m\n\u001b[1;32m      4\u001b[0m \u001b[38;5;28;01mfor\u001b[39;00m i, (g, _) \u001b[38;5;129;01min\u001b[39;00m \u001b[38;5;28menumerate\u001b[39m(dataset):\n\u001b[0;32m----> 5\u001b[0m     result[i], sample_canvas \u001b[38;5;241m=\u001b[39m \u001b[43mobserved_area_percent\u001b[49m\u001b[43m(\u001b[49m\u001b[43mg\u001b[49m\u001b[43m,\u001b[49m\u001b[43m \u001b[49m\u001b[43mresolution\u001b[49m\u001b[43m)\u001b[49m\n\u001b[1;32m      6\u001b[0m \u001b[38;5;28;01mreturn\u001b[39;00m result, sample_canvas\n",
      "Cell \u001b[0;32mIn[8], line 4\u001b[0m, in \u001b[0;36mobserved_area_percent\u001b[0;34m(graph, resolution)\u001b[0m\n\u001b[1;32m      2\u001b[0m canvas \u001b[38;5;241m=\u001b[39m np\u001b[38;5;241m.\u001b[39mzeros((resolution, resolution))\n\u001b[1;32m      3\u001b[0m \u001b[38;5;28;01mfor\u001b[39;00m i \u001b[38;5;129;01min\u001b[39;00m \u001b[38;5;28mrange\u001b[39m(\u001b[38;5;28mlen\u001b[39m(graph\u001b[38;5;241m.\u001b[39mnodes())):\n\u001b[0;32m----> 4\u001b[0m     \u001b[43mmark_area\u001b[49m\u001b[43m(\u001b[49m\u001b[43mget_node\u001b[49m\u001b[43m(\u001b[49m\u001b[43mgraph\u001b[49m\u001b[43m,\u001b[49m\u001b[43m \u001b[49m\u001b[43mi\u001b[49m\u001b[43m)\u001b[49m\u001b[43m,\u001b[49m\u001b[43m \u001b[49m\u001b[43mcanvas\u001b[49m\u001b[43m)\u001b[49m\n\u001b[1;32m      6\u001b[0m \u001b[38;5;28;01mreturn\u001b[39;00m np\u001b[38;5;241m.\u001b[39msum(canvas) \u001b[38;5;241m/\u001b[39m (resolution \u001b[38;5;241m*\u001b[39m\u001b[38;5;241m*\u001b[39m \u001b[38;5;241m2\u001b[39m), canvas\n",
      "Cell \u001b[0;32mIn[7], line 4\u001b[0m, in \u001b[0;36mmark_area\u001b[0;34m(node, canvas)\u001b[0m\n\u001b[1;32m      2\u001b[0m min_x, min_y \u001b[38;5;241m=\u001b[39m [\u001b[38;5;28mint\u001b[39m(a) \u001b[38;5;28;01mfor\u001b[39;00m a \u001b[38;5;129;01min\u001b[39;00m node[\u001b[38;5;124m'\u001b[39m\u001b[38;5;124mnorm_top_left\u001b[39m\u001b[38;5;124m'\u001b[39m] \u001b[38;5;241m*\u001b[39m canvas\u001b[38;5;241m.\u001b[39mshape[\u001b[38;5;241m1\u001b[39m]]\n\u001b[1;32m      3\u001b[0m max_x, max_y \u001b[38;5;241m=\u001b[39m [\u001b[38;5;28mint\u001b[39m(a) \u001b[38;5;28;01mfor\u001b[39;00m a \u001b[38;5;129;01min\u001b[39;00m node[\u001b[38;5;124m'\u001b[39m\u001b[38;5;124mnorm_bottom_right\u001b[39m\u001b[38;5;124m'\u001b[39m] \u001b[38;5;241m*\u001b[39m canvas\u001b[38;5;241m.\u001b[39mshape[\u001b[38;5;241m0\u001b[39m]]\n\u001b[0;32m----> 4\u001b[0m \u001b[43mcanvas\u001b[49m\u001b[43m[\u001b[49m\u001b[43mmin_x\u001b[49m\u001b[43m:\u001b[49m\u001b[43mmax_x\u001b[49m\u001b[43m,\u001b[49m\u001b[43m \u001b[49m\u001b[43mmin_y\u001b[49m\u001b[43m:\u001b[49m\u001b[43mmax_y\u001b[49m\u001b[43m]\u001b[49m \u001b[38;5;241m=\u001b[39m \u001b[38;5;241m1\u001b[39m\n",
      "\u001b[0;31mKeyboardInterrupt\u001b[0m: "
     ]
    }
   ],
   "source": [
    "areas, img = dataset_area_percent(ds)"
   ]
  },
  {
   "cell_type": "code",
   "execution_count": null,
   "metadata": {},
   "outputs": [
    {
     "data": {
      "text/plain": [
       "<matplotlib.image.AxesImage at 0x7f16ddcb2f30>"
      ]
     },
     "execution_count": 14,
     "metadata": {},
     "output_type": "execute_result"
    },
    {
     "data": {
      "image/png": "[encoded data removed]",
      "text/plain": [
       "<Figure size 640x480 with 1 Axes>"
      ]
     },
     "metadata": {},
     "output_type": "display_data"
    }
   ],
   "source": [
    "plt.imshow(img)"
   ]
  },
  {
   "cell_type": "code",
   "execution_count": null,
   "metadata": {},
   "outputs": [
    {
     "data": {
      "text/plain": [
       "(0.0, 0.744473, 0.4123161822353329)"
      ]
     },
     "execution_count": 15,
     "metadata": {},
     "output_type": "execute_result"
    }
   ],
   "source": [
    "vs = areas.values()\n",
    "min(vs), max(vs), sum(vs)/len(vs)"
   ]
  },
  {
   "cell_type": "code",
   "execution_count": null,
   "metadata": {},
   "outputs": [
    {
     "data": {
      "text/plain": [
       "(array([ 20.,   0.,   3.,  20.,  93., 144., 159., 172., 170., 245., 341.,\n",
       "        375., 352., 349., 269., 177.,  91.,  45.,  19.,   7.]),\n",
       " array([0.        , 0.03722365, 0.0744473 , 0.11167095, 0.1488946 ,\n",
       "        0.18611825, 0.2233419 , 0.26056555, 0.2977892 , 0.33501285,\n",
       "        0.3722365 , 0.40946015, 0.4466838 , 0.48390745, 0.5211311 ,\n",
       "        0.55835475, 0.5955784 , 0.63280205, 0.6700257 , 0.70724935,\n",
       "        0.744473  ]),\n",
       " <BarContainer object of 20 artists>)"
      ]
     },
     "execution_count": 16,
     "metadata": {},
     "output_type": "execute_result"
    },
    {
     "data": {
      "image/png": "[encoded data removed]",
      "text/plain": [
       "<Figure size 640x480 with 1 Axes>"
      ]
     },
     "metadata": {},
     "output_type": "display_data"
    }
   ],
   "source": [
    "plt.hist(vs, bins=20)"
   ]
  },
  {
   "cell_type": "markdown",
   "metadata": {},
   "source": [
    "### Testing grids"
   ]
  },
  {
   "cell_type": "code",
   "execution_count": null,
   "metadata": {},
   "outputs": [],
   "source": [
    "def gridify(g, dim, aggr_by_duration=True):\n",
    "    result = np.zeros((dim, dim, 3))\n",
    "    for node in (get_node(g, i) for i in range(len(g.nodes()))):\n",
    "        x = node['norm_x']\n",
    "        y = node['norm_y']\n",
    "        x = min(dim - 1, int(x * dim))\n",
    "        y = min(dim - 1, int(y * dim))\n",
    "\n",
    "        incr = node['duration'] if aggr_by_duration else 1\n",
    "        result[x, y] += (incr, incr, incr)\n",
    "\n",
    "    \n",
    "    return result\n",
    "\n",
    "def display_grid(grid, zero_color=(255, 0, 255)):\n",
    "    grid[np.where(grid == (0, 0, 0))[:2]] = zero_color\n",
    "    return grid"
   ]
  },
  {
   "cell_type": "code",
   "execution_count": null,
   "metadata": {},
   "outputs": [
    {
     "name": "stderr",
     "output_type": "stream",
     "text": [
      "Clipping input data to the valid range for imshow with RGB data ([0..1] for floats or [0..255] for integers). Got range [0.0..255.0].\n"
     ]
    },
    {
     "data": {
      "text/plain": [
       "<matplotlib.image.AxesImage at 0x7f4f214b6210>"
      ]
     },
     "execution_count": 70,
     "metadata": {},
     "output_type": "execute_result"
    },
    {
     "data": {
      "image/png": "[encoded data removed]",
      "text/plain": [
       "<Figure size 640x480 with 1 Axes>"
      ]
     },
     "metadata": {},
     "output_type": "display_data"
    }
   ],
   "source": [
    "plt.imshow(display_grid(gridify(ds[10][0], 9)))"
   ]
  },
  {
   "cell_type": "code",
   "execution_count": null,
   "metadata": {},
   "outputs": [],
   "source": [
    "def grid_stats(dataset, dims, aggr_by_duration=True):\n",
    "    result = {x: {'zero_counts': [],\n",
    "                  'grids': []}\n",
    "              for x in dims}\n",
    "    \n",
    "    for i, (g, _) in enumerate(dataset):\n",
    "        for dim in dims:\n",
    "            grid = gridify(g, dim, aggr_by_duration=aggr_by_duration)\n",
    "            result[dim]['zero_counts'].append(len(np.where(grid == (0, 0, 0))[0]))\n",
    "            result[dim]['grids'].append(grid)\n",
    "\n",
    "    for dim in dims:\n",
    "        result[dim]['avg_zeros'] = sum(result[dim]['zero_counts']) / len(result[dim]['zero_counts'])\n",
    "    return result\n"
   ]
  },
  {
   "cell_type": "code",
   "execution_count": null,
   "metadata": {},
   "outputs": [],
   "source": [
    "x = grid_stats(ds, [2, 3, 4, 5, 8, 10])"
   ]
  },
  {
   "cell_type": "code",
   "execution_count": null,
   "metadata": {},
   "outputs": [
    {
     "data": {
      "text/plain": [
       "{2: 0.08161258603736479,\n",
       " 3: 1.3067846607669618,\n",
       " 4: 7.094395280235989,\n",
       " 5: 18.250737463126843,\n",
       " 8: 90.07177974434612,\n",
       " 10: 172.45624385447394}"
      ]
     },
     "execution_count": 84,
     "metadata": {},
     "output_type": "execute_result"
    }
   ],
   "source": [
    "{d: x[d]['avg_zeros'] for d in x}"
   ]
  },
  {
   "cell_type": "markdown",
   "metadata": {},
   "source": [
    "### Analisys of diagnostics distribution"
   ]
  },
  {
   "cell_type": "code",
   "execution_count": 13,
   "metadata": {},
   "outputs": [],
   "source": [
    "labels = None\n",
    "for _, label in ds:\n",
    "    label = label.unsqueeze(0)\n",
    "    if labels is None:\n",
    "        labels = label\n",
    "    else:\n",
    "        labels = torch.cat([labels, label])"
   ]
  },
  {
   "cell_type": "code",
   "execution_count": 19,
   "metadata": {},
   "outputs": [
    {
     "data": {
      "text/plain": [
       "tensor([0.2770, 0.2681, 0.2347, 0.1282, 0.0347, 0.1403])"
      ]
     },
     "execution_count": 19,
     "metadata": {},
     "output_type": "execute_result"
    }
   ],
   "source": [
    "labels.count_nonzero(dim=0) / labels.shape[0]"
   ]
  },
  {
   "cell_type": "code",
   "execution_count": 48,
   "metadata": {},
   "outputs": [],
   "source": [
    "hists = torch.cat([(torch.histc(labels[:, i], 6) / labels.shape[0]).unsqueeze(0)\n",
    "                   for i in range(labels.shape[1])],\n",
    "                  dim=0)"
   ]
  },
  {
   "cell_type": "code",
   "execution_count": 50,
   "metadata": {},
   "outputs": [
    {
     "data": {
      "text/plain": [
       "array([[7.23041654e-01, 3.27761401e-04, 2.29432969e-03, 1.80268772e-02,\n",
       "        1.05539165e-01, 1.50770232e-01],\n",
       "       [7.31891155e-01, 3.27761401e-04, 3.93313682e-03, 1.70435924e-02,\n",
       "        7.80072138e-02, 1.68797120e-01],\n",
       "       [7.65322864e-01, 3.27761401e-04, 4.91642067e-03, 1.99934449e-02,\n",
       "        3.47427055e-02, 1.74696818e-01],\n",
       "       [8.71845305e-01, 0.00000000e+00, 3.27761401e-04, 9.83284134e-03,\n",
       "        3.70370373e-02, 8.09570625e-02],\n",
       "       [9.65257287e-01, 1.31104561e-03, 1.31104561e-03, 3.93313682e-03,\n",
       "        4.91642067e-03, 2.32710578e-02],\n",
       "       [8.59718144e-01, 3.27761401e-04, 2.94985250e-03, 1.76991150e-02,\n",
       "        5.63749596e-02, 6.29301891e-02]], dtype=float32)"
      ]
     },
     "execution_count": 50,
     "metadata": {},
     "output_type": "execute_result"
    }
   ],
   "source": [
    "hists = hists.detach().numpy()\n",
    "hists"
   ]
  },
  {
   "cell_type": "code",
   "execution_count": 53,
   "metadata": {},
   "outputs": [
    {
     "data": {
      "text/plain": [
       "array([0. , 0.2, 0.4, 0.6, 0.8])"
      ]
     },
     "execution_count": 53,
     "metadata": {},
     "output_type": "execute_result"
    }
   ],
   "source": [
    "np.arange(0, 1, 0.2)"
   ]
  },
  {
   "cell_type": "code",
   "execution_count": 59,
   "metadata": {},
   "outputs": [
    {
     "data": {
      "text/plain": [
       "array([7.23041654e-01, 3.27761401e-04, 2.29432969e-03, 1.80268772e-02,\n",
       "       1.05539165e-01, 1.50770232e-01], dtype=float32)"
      ]
     },
     "execution_count": 59,
     "metadata": {},
     "output_type": "execute_result"
    }
   ],
   "source": [
    "hists[0]"
   ]
  },
  {
   "cell_type": "code",
   "execution_count": 88,
   "metadata": {},
   "outputs": [],
   "source": [
    "PHASE_1_LABELS = [\"Airway wall thickening\",\n",
    "                  \"Atelectasis\",\n",
    "                  \"Consolidation\",\n",
    "                  \"Emphysema\",\n",
    "                  \"Enlarged cardiac silhouette\",\n",
    "                  \"Fibrosis\",\n",
    "                  \"Fracture\",\n",
    "                  \"Groundglass opacity\",\n",
    "                  \"Mass\",\n",
    "                  \"Nodule\",\n",
    "                  \"Pleural effusion\",\n",
    "                  \"Pleural thickening\",\n",
    "                  \"Pneumothorax\",\n",
    "                  \"Pulmonary edema\",\n",
    "                  \"Wide mediastinum\"]\n",
    "\n",
    "PHASE_2_3_LABELS = [\"Abnormal mediastinal contour\",\n",
    "                    \"Acute fracture\",\n",
    "                    \"Atelectasis\",\n",
    "                    \"Consolidation\",\n",
    "                    \"Enlarged cardiac silhouette\",\n",
    "                    \"Enlarged hilum\",\n",
    "                    \"Groundglass opacity\",\n",
    "                    \"Hiatal hernia\",\n",
    "                    \"High lung volume / emphysema, Interstitial lung disease\",\n",
    "                    \"Lung nodule or mass\",\n",
    "                    \"Pleural abnormality\",\n",
    "                    \"Pneumothorax\",\n",
    "                    \"Pulmonary edema\"]\n",
    "\n",
    "labels = [k for k in PHASE_1_LABELS if k in PHASE_2_3_LABELS]"
   ]
  },
  {
   "cell_type": "code",
   "execution_count": 94,
   "metadata": {},
   "outputs": [
    {
     "data": {
      "image/png": "[encoded data removed]",
      "text/plain": [
       "<Figure size 640x480 with 1 Axes>"
      ]
     },
     "metadata": {},
     "output_type": "display_data"
    }
   ],
   "source": [
    "colors = [(1, 0, 0), (0, 1, 0), (0, 0, 1), (1, 0, 1), (1, 0.8, 0), (0, 0.8, 1)]\n",
    "xs = np.arange(0, 1.2, 0.2)\n",
    "for i in range(hists.shape[0]):\n",
    "    width = 0.15 / hists.shape[1]\n",
    "    plt.bar((xs - width * hists.shape[1] / 2) + width * i,\n",
    "            hists[i] * 100,\n",
    "            width,\n",
    "            label=labels[i],\n",
    "            color = colors[i])\n",
    "plt.xlabel('Probability')\n",
    "plt.ylabel('% of samples')\n",
    "plt.legend()\n",
    "plt.show()\n"
   ]
  }
 ],
 "metadata": {
  "kernelspec": {
   "display_name": "graph_classification",
   "language": "python",
   "name": "python3"
  },
  "language_info": {
   "codemirror_mode": {
    "name": "ipython",
    "version": 3
   },
   "file_extension": ".py",
   "mimetype": "text/x-python",
   "name": "python",
   "nbconvert_exporter": "python",
   "pygments_lexer": "ipython3",
   "version": "3.8.10"
  }
 },
 "nbformat": 4,
 "nbformat_minor": 2
}
