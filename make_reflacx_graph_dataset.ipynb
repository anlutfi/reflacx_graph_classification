{
 "cells": [
  {
   "cell_type": "markdown",
   "metadata": {},
   "source": [
    "## Generating Graph datasets from REFLACX data"
   ]
  },
  {
   "cell_type": "code",
   "execution_count": null,
   "metadata": {},
   "outputs": [],
   "source": [
    "from scanpath_graph import ScanPathGraph\n",
    "from iou_graph import IOUGraph\n",
    "from euclidean_graph import EuclideanGraph\n",
    "from scanpath_iou_graph import ScanPathIOUGraph\n",
    "\n",
    "from reflacx_graph_dataset import generate_csv_dataset"
   ]
  },
  {
   "cell_type": "code",
   "execution_count": null,
   "metadata": {},
   "outputs": [],
   "source": [
    "full_meta_path = '../reflacx_lib/full_meta.json' # if file doesn't exist, it will be created\n",
    "reflacx_dir = \"../data/reflacx\"\n",
    "mimic_dir = \"../data/mimic/reflacx_imgs\"\n",
    "\n",
    "from metadata import Metadata\n",
    "\n",
    "metadata = Metadata(reflacx_dir, mimic_dir, full_meta_path, max_dicom_lib_ram_percent=30)"
   ]
  },
  {
   "cell_type": "markdown",
   "metadata": {},
   "source": [
    "#### Generating CSV Dataset"
   ]
  },
  {
   "cell_type": "code",
   "execution_count": null,
   "metadata": {},
   "outputs": [],
   "source": [
    "scp_pth = 'reflacx_densnet225_scanpath'\n",
    "iou_pth = 'reflacx_densnet225_iou'\n",
    "euc_pth = 'reflacx_densnet225_euclidean'\n",
    "scp_iou_pth = 'reflacx_densnet225_scan_iou'"
   ]
  },
  {
   "cell_type": "code",
   "execution_count": null,
   "metadata": {},
   "outputs": [],
   "source": [
    "print('scanpath dataset:')\n",
    "generate_csv_dataset(scp_pth,\n",
    "                     metadata,\n",
    "                     graph_class=ScanPathGraph,\n",
    "                     mean_features_fpath='avg_DensNet_REFLACX_features.npy',\n",
    "                     log_dir='./log/{}'.format(scp_pth))"
   ]
  },
  {
   "cell_type": "code",
   "execution_count": null,
   "metadata": {},
   "outputs": [],
   "source": [
    "print('iou dataset:')\n",
    "generate_csv_dataset(iou_pth,\n",
    "                     metadata,\n",
    "                     graph_class=IOUGraph,\n",
    "                     mean_features_fpath='avg_DensNet_REFLACX_features.npy',\n",
    "                     log_dir='./log/{}'.format(iou_pth))"
   ]
  },
  {
   "cell_type": "code",
   "execution_count": null,
   "metadata": {},
   "outputs": [],
   "source": [
    "print('euclidean dataset:')\n",
    "generate_csv_dataset(euc_pth,\n",
    "                     metadata,\n",
    "                     graph_class=EuclideanGraph,\n",
    "                     mean_features_fpath='avg_DensNet_REFLACX_features.npy',\n",
    "                     log_dir='./log/{}'.format(euc_pth))"
   ]
  },
  {
   "cell_type": "code",
   "execution_count": null,
   "metadata": {},
   "outputs": [],
   "source": [
    "print('scanpath iou dataset:')\n",
    "generate_csv_dataset(scp_iou_pth,\n",
    "                     metadata,\n",
    "                     graph_class=ScanPathIOUGraph,\n",
    "                     mean_features_fpath='avg_DensNet_REFLACX_features.npy',\n",
    "                     log_dir='./log/{}'.format(scp_iou_pth))"
   ]
  },
  {
   "cell_type": "markdown",
   "metadata": {},
   "source": [
    "#### Loading CSV Dataset in DGL"
   ]
  },
  {
   "cell_type": "code",
   "execution_count": null,
   "metadata": {},
   "outputs": [],
   "source": [
    "import dgl"
   ]
  },
  {
   "cell_type": "code",
   "execution_count": null,
   "metadata": {},
   "outputs": [],
   "source": [
    "scp_ds = dgl.data.CSVDataset(scp_pth)\n",
    "len(scp_ds)"
   ]
  },
  {
   "cell_type": "code",
   "execution_count": null,
   "metadata": {},
   "outputs": [],
   "source": [
    "iou_ds = dgl.data.CSVDataset(iou_pth)\n",
    "len(iou_ds)"
   ]
  },
  {
   "cell_type": "code",
   "execution_count": null,
   "metadata": {},
   "outputs": [],
   "source": [
    "euc_ds = dgl.data.CSVDataset(euc_pth)\n",
    "len(euc_ds)"
   ]
  },
  {
   "cell_type": "code",
   "execution_count": null,
   "metadata": {},
   "outputs": [],
   "source": [
    "scp_iou_ds = dgl.data.CSVDataset(scp_iou_pth)\n",
    "len(scp_iou_ds)"
   ]
  }
 ],
 "metadata": {
  "kernelspec": {
   "display_name": "data_viz",
   "language": "python",
   "name": "python3"
  },
  "language_info": {
   "codemirror_mode": {
    "name": "ipython",
    "version": 3
   },
   "file_extension": ".py",
   "mimetype": "text/x-python",
   "name": "python",
   "nbconvert_exporter": "python",
   "pygments_lexer": "ipython3",
   "version": "3.8.10"
  }
 },
 "nbformat": 4,
 "nbformat_minor": 2
}
