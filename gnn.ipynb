{
 "cells": [
  {
   "cell_type": "code",
   "execution_count": null,
   "metadata": {},
   "outputs": [],
   "source": [
    "import dgl\n",
    "import dgl.function as fn\n",
    "import torch\n",
    "\n",
    "\n",
    "from iou_graph import IOUGraph\n",
    "from dgl_reflacx_tools.tools import gridify, grid_readout\n",
    "\n",
    "from dgl_reflacx_tools.dgl_reflacx_collection import GraphCollection"
   ]
  },
  {
   "cell_type": "code",
   "execution_count": null,
   "metadata": {},
   "outputs": [],
   "source": [
    "dataset_pth = 'datasets/reflacx_densnet225_iou'\n",
    "collection = GraphCollection(dataset_pth, IOUGraph)"
   ]
  },
  {
   "cell_type": "markdown",
   "metadata": {},
   "source": [
    "#### Getting sample batch"
   ]
  },
  {
   "cell_type": "code",
   "execution_count": null,
   "metadata": {},
   "outputs": [],
   "source": [
    "batch_size = 5\n",
    "grid_size = 4"
   ]
  },
  {
   "cell_type": "code",
   "execution_count": null,
   "metadata": {},
   "outputs": [],
   "source": [
    "pairs = [collection.fetch_by_dgl_index(i) for i in range(batch_size)]"
   ]
  },
  {
   "cell_type": "code",
   "execution_count": null,
   "metadata": {},
   "outputs": [],
   "source": [
    "graphs = [pair.dgl_graph for pair in pairs]\n",
    "labels = [pair.dgl_labels for pair in pairs]\n"
   ]
  },
  {
   "cell_type": "code",
   "execution_count": null,
   "metadata": {},
   "outputs": [],
   "source": [
    "batch = dgl.batch(graphs)\n",
    "grid = gridify(batch, grid_size)\n",
    "labels = torch.cat(labels).reshape((batch_size, len(labels[0])))\n",
    "\n",
    "batch, (len(grid), len(grid[0])), labels.shape"
   ]
  },
  {
   "cell_type": "markdown",
   "metadata": {},
   "source": [
    "#### initialization"
   ]
  },
  {
   "cell_type": "code",
   "execution_count": null,
   "metadata": {},
   "outputs": [],
   "source": [
    "batch.ndata['conv_feats'] = batch.ndata['feats'].clone()"
   ]
  },
  {
   "cell_type": "code",
   "execution_count": null,
   "metadata": {},
   "outputs": [],
   "source": [
    "batch.ndata.keys()"
   ]
  },
  {
   "cell_type": "code",
   "execution_count": null,
   "metadata": {},
   "outputs": [],
   "source": [
    "grid[0][0].ndata.keys()"
   ]
  },
  {
   "cell_type": "code",
   "execution_count": null,
   "metadata": {},
   "outputs": [],
   "source": [
    "grid[0][0].apply_edges(fn.u_mul_e('feats', 'weight', 'w_feats'))\n",
    "grid[0][0].update_all(fn.e_div_v('w_feats', 'duration', 'norm_feats'),\n",
    "                fn.sum('norm_feats', 'blabla'))"
   ]
  },
  {
   "cell_type": "code",
   "execution_count": null,
   "metadata": {},
   "outputs": [],
   "source": [
    "grid[0][0].ndata.keys()"
   ]
  }
 ],
 "metadata": {
  "kernelspec": {
   "display_name": "graph_classification",
   "language": "python",
   "name": "python3"
  },
  "language_info": {
   "codemirror_mode": {
    "name": "ipython",
    "version": 3
   },
   "file_extension": ".py",
   "mimetype": "text/x-python",
   "name": "python",
   "nbconvert_exporter": "python",
   "pygments_lexer": "ipython3",
   "version": "3.8.10"
  }
 },
 "nbformat": 4,
 "nbformat_minor": 2
}
