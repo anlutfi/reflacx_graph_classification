{
 "cells": [
  {
   "cell_type": "code",
   "execution_count": 1,
   "metadata": {},
   "outputs": [
    {
     "name": "stderr",
     "output_type": "stream",
     "text": [
      "/home/antonio/dev/pyvenvs/graph_classification/lib/python3.8/site-packages/tqdm/auto.py:21: TqdmWarning: IProgress not found. Please update jupyter and ipywidgets. See https://ipywidgets.readthedocs.io/en/stable/user_install.html\n",
      "  from .autonotebook import tqdm as notebook_tqdm\n"
     ]
    }
   ],
   "source": [
    "import dgl\n",
    "import dgl.function as fn\n",
    "import torch\n",
    "\n",
    "\n",
    "from iou_graph import IOUGraph\n",
    "from dgl_reflacx_tools.tools import gridify, grid_readout\n",
    "\n",
    "from dgl_reflacx_tools.dgl_reflacx_collection import GraphCollection"
   ]
  },
  {
   "cell_type": "code",
   "execution_count": 4,
   "metadata": {},
   "outputs": [
    {
     "name": "stdout",
     "output_type": "stream",
     "text": [
      "loading metadata\n",
      "metadata loaded from file\n",
      "Done loading data from cached files.\n"
     ]
    }
   ],
   "source": [
    "dataset_pth = 'datasets/reflacx_densnet225_iou'\n",
    "collection = GraphCollection(dataset_pth, IOUGraph)"
   ]
  },
  {
   "cell_type": "markdown",
   "metadata": {},
   "source": [
    "#### Getting sample batch"
   ]
  },
  {
   "cell_type": "code",
   "execution_count": 12,
   "metadata": {},
   "outputs": [],
   "source": [
    "batch_size = 5\n",
    "grid_size = 4"
   ]
  },
  {
   "cell_type": "code",
   "execution_count": 9,
   "metadata": {},
   "outputs": [
    {
     "name": "stderr",
     "output_type": "stream",
     "text": [
      "34cedb74-d0996b40-6d218312-a9174bea-d48dc033 -- P102R108387 \n",
      "  Fixation 3 out of chest bounding box\n",
      "\n",
      "34cedb74-d0996b40-6d218312-a9174bea-d48dc033 -- P102R108387 \n",
      "  Fixation 4 out of chest bounding box\n",
      "\n",
      "34cedb74-d0996b40-6d218312-a9174bea-d48dc033 -- P102R108387 \n",
      "  Fixation 5 out of chest bounding box\n",
      "\n",
      "34cedb74-d0996b40-6d218312-a9174bea-d48dc033 -- P102R108387 \n",
      "  Fixation 18 out of chest bounding box\n",
      "\n",
      "34cedb74-d0996b40-6d218312-a9174bea-d48dc033 -- P102R108387 \n",
      "  Fixation 20 out of chest bounding box\n",
      "\n",
      "34cedb74-d0996b40-6d218312-a9174bea-d48dc033 -- P102R108387 \n",
      "  Fixation 28 out of chest bounding box\n",
      "\n",
      "34cedb74-d0996b40-6d218312-a9174bea-d48dc033 -- P102R108387 \n",
      "  Fixation 30 out of chest bounding box\n",
      "\n",
      "34cedb74-d0996b40-6d218312-a9174bea-d48dc033 -- P102R108387 \n",
      "  Fixation 31 out of chest bounding box\n",
      "\n",
      "34cedb74-d0996b40-6d218312-a9174bea-d48dc033 -- P102R108387 \n",
      "  Fixation 53 out of chest bounding box\n",
      "\n",
      "34cedb74-d0996b40-6d218312-a9174bea-d48dc033 -- P102R108387 \n",
      "  Fixation 55 out of chest bounding box\n",
      "\n",
      "34cedb74-d0996b40-6d218312-a9174bea-d48dc033 -- P102R108387 \n",
      "  Fixation 56 out of chest bounding box\n",
      "\n",
      "34cedb74-d0996b40-6d218312-a9174bea-d48dc033 -- P102R379837 \n",
      "  Fixation 65 out of chest bounding box\n",
      "\n",
      "34cedb74-d0996b40-6d218312-a9174bea-d48dc033 -- P102R379837 \n",
      "  Fixation 74 out of chest bounding box\n",
      "\n",
      "34cedb74-d0996b40-6d218312-a9174bea-d48dc033 -- P102R379837 \n",
      "  Fixation 78 out of chest bounding box\n",
      "\n",
      "34cedb74-d0996b40-6d218312-a9174bea-d48dc033 -- P102R379837 \n",
      "  Fixation 79 out of chest bounding box\n",
      "\n",
      "34cedb74-d0996b40-6d218312-a9174bea-d48dc033 -- P102R379837 \n",
      "  Fixation 80 out of chest bounding box\n",
      "\n",
      "34cedb74-d0996b40-6d218312-a9174bea-d48dc033 -- P102R379837 \n",
      "  Fixation 83 out of chest bounding box\n",
      "\n",
      "34cedb74-d0996b40-6d218312-a9174bea-d48dc033 -- P102R379837 \n",
      "  Fixation 84 out of chest bounding box\n",
      "\n",
      "34cedb74-d0996b40-6d218312-a9174bea-d48dc033 -- P102R379837 \n",
      "  Fixation 94 out of chest bounding box\n",
      "\n",
      "34cedb74-d0996b40-6d218312-a9174bea-d48dc033 -- P102R379837 \n",
      "  Fixation 95 out of chest bounding box\n",
      "\n",
      "34cedb74-d0996b40-6d218312-a9174bea-d48dc033 -- P102R379837 \n",
      "  Fixation 97 out of chest bounding box\n",
      "\n",
      "34cedb74-d0996b40-6d218312-a9174bea-d48dc033 -- P102R379837 \n",
      "  Fixation 98 out of chest bounding box\n",
      "\n",
      "34cedb74-d0996b40-6d218312-a9174bea-d48dc033 -- P102R558314 \n",
      "  Fixation 5 out of chest bounding box\n",
      "\n",
      "34cedb74-d0996b40-6d218312-a9174bea-d48dc033 -- P102R558314 \n",
      "  Fixation 12 out of chest bounding box\n",
      "\n",
      "34cedb74-d0996b40-6d218312-a9174bea-d48dc033 -- P102R558314 \n",
      "  Fixation 21 out of chest bounding box\n",
      "\n",
      "34cedb74-d0996b40-6d218312-a9174bea-d48dc033 -- P102R558314 \n",
      "  Fixation 25 out of chest bounding box\n",
      "\n",
      "34cedb74-d0996b40-6d218312-a9174bea-d48dc033 -- P102R558314 \n",
      "  Fixation 27 out of chest bounding box\n",
      "\n",
      "34cedb74-d0996b40-6d218312-a9174bea-d48dc033 -- P102R558314 \n",
      "  Fixation 34 out of chest bounding box\n",
      "\n",
      "34cedb74-d0996b40-6d218312-a9174bea-d48dc033 -- P102R558314 \n",
      "  Fixation 102 out of chest bounding box\n",
      "\n",
      "34cedb74-d0996b40-6d218312-a9174bea-d48dc033 -- P102R558314 \n",
      "  Fixation 156 out of chest bounding box\n",
      "\n",
      "34cedb74-d0996b40-6d218312-a9174bea-d48dc033 -- P102R558314 \n",
      "  Fixation 202 out of chest bounding box\n",
      "\n",
      "34cedb74-d0996b40-6d218312-a9174bea-d48dc033 -- P102R558314 \n",
      "  Fixation 206 out of chest bounding box\n",
      "\n",
      "34cedb74-d0996b40-6d218312-a9174bea-d48dc033 -- P102R558314 \n",
      "  Fixation 211 out of chest bounding box\n",
      "\n",
      "34cedb74-d0996b40-6d218312-a9174bea-d48dc033 -- P102R558314 \n",
      "  Fixation 212 out of chest bounding box\n",
      "\n",
      "34cedb74-d0996b40-6d218312-a9174bea-d48dc033 -- P102R558314 \n",
      "  Fixation 215 out of chest bounding box\n",
      "\n",
      "34cedb74-d0996b40-6d218312-a9174bea-d48dc033 -- P102R558314 \n",
      "  Fixation 216 out of chest bounding box\n",
      "\n",
      "34cedb74-d0996b40-6d218312-a9174bea-d48dc033 -- P102R558314 \n",
      "  Fixation 219 out of chest bounding box\n",
      "\n",
      "34cedb74-d0996b40-6d218312-a9174bea-d48dc033 -- P102R558314 \n",
      "  Fixation 220 out of chest bounding box\n",
      "\n",
      "34cedb74-d0996b40-6d218312-a9174bea-d48dc033 -- P102R765317 \n",
      "  Fixation 6 out of chest bounding box\n",
      "\n",
      "34cedb74-d0996b40-6d218312-a9174bea-d48dc033 -- P102R765317 \n",
      "  Fixation 7 out of chest bounding box\n",
      "\n",
      "34cedb74-d0996b40-6d218312-a9174bea-d48dc033 -- P102R765317 \n",
      "  Fixation 11 out of chest bounding box\n",
      "\n",
      "34cedb74-d0996b40-6d218312-a9174bea-d48dc033 -- P102R765317 \n",
      "  Fixation 12 out of chest bounding box\n",
      "\n",
      "34cedb74-d0996b40-6d218312-a9174bea-d48dc033 -- P102R765317 \n",
      "  Fixation 16 out of chest bounding box\n",
      "\n",
      "34cedb74-d0996b40-6d218312-a9174bea-d48dc033 -- P102R765317 \n",
      "  Fixation 17 out of chest bounding box\n",
      "\n",
      "34cedb74-d0996b40-6d218312-a9174bea-d48dc033 -- P102R765317 \n",
      "  Fixation 26 out of chest bounding box\n",
      "\n",
      "34cedb74-d0996b40-6d218312-a9174bea-d48dc033 -- P102R765317 \n",
      "  Fixation 30 out of chest bounding box\n",
      "\n",
      "34cedb74-d0996b40-6d218312-a9174bea-d48dc033 -- P102R765317 \n",
      "  Fixation 31 out of chest bounding box\n",
      "\n",
      "34cedb74-d0996b40-6d218312-a9174bea-d48dc033 -- P102R765317 \n",
      "  Fixation 33 out of chest bounding box\n",
      "\n",
      "34cedb74-d0996b40-6d218312-a9174bea-d48dc033 -- P102R765317 \n",
      "  Fixation 40 out of chest bounding box\n",
      "\n",
      "34cedb74-d0996b40-6d218312-a9174bea-d48dc033 -- P102R765317 \n",
      "  Fixation 76 out of chest bounding box\n",
      "\n",
      "34cedb74-d0996b40-6d218312-a9174bea-d48dc033 -- P102R765317 \n",
      "  Fixation 105 out of chest bounding box\n",
      "\n",
      "34cedb74-d0996b40-6d218312-a9174bea-d48dc033 -- P102R765317 \n",
      "  Fixation 106 out of chest bounding box\n",
      "\n",
      "34cedb74-d0996b40-6d218312-a9174bea-d48dc033 -- P102R765317 \n",
      "  Fixation 149 out of chest bounding box\n",
      "\n",
      "34cedb74-d0996b40-6d218312-a9174bea-d48dc033 -- P102R765317 \n",
      "  Fixation 153 out of chest bounding box\n",
      "\n",
      "34cedb74-d0996b40-6d218312-a9174bea-d48dc033 -- P102R765317 \n",
      "  Fixation 154 out of chest bounding box\n",
      "\n",
      "34cedb74-d0996b40-6d218312-a9174bea-d48dc033 -- P102R765317 \n",
      "  Fixation 160 out of chest bounding box\n",
      "\n",
      "34cedb74-d0996b40-6d218312-a9174bea-d48dc033 -- P102R765317 \n",
      "  Fixation 196 out of chest bounding box\n",
      "\n",
      "34cedb74-d0996b40-6d218312-a9174bea-d48dc033 -- P102R765317 \n",
      "  Fixation 199 out of chest bounding box\n",
      "\n",
      "34cedb74-d0996b40-6d218312-a9174bea-d48dc033 -- P102R765317 \n",
      "  Fixation 200 out of chest bounding box\n",
      "\n",
      "34cedb74-d0996b40-6d218312-a9174bea-d48dc033 -- P102R765317 \n",
      "  Fixation 201 out of chest bounding box\n",
      "\n",
      "34cedb74-d0996b40-6d218312-a9174bea-d48dc033 -- P102R765317 \n",
      "  Fixation 202 out of chest bounding box\n",
      "\n",
      "34cedb74-d0996b40-6d218312-a9174bea-d48dc033 -- P102R765317 \n",
      "  Fixation 203 out of chest bounding box\n",
      "\n",
      "34cedb74-d0996b40-6d218312-a9174bea-d48dc033 -- P102R765317 \n",
      "  Fixation 204 out of chest bounding box\n",
      "\n",
      "34cedb74-d0996b40-6d218312-a9174bea-d48dc033 -- P102R765317 \n",
      "  Fixation 207 out of chest bounding box\n",
      "\n",
      "34cedb74-d0996b40-6d218312-a9174bea-d48dc033 -- P102R765317 \n",
      "  Fixation 208 out of chest bounding box\n",
      "\n",
      "34cedb74-d0996b40-6d218312-a9174bea-d48dc033 -- P102R765317 \n",
      "  Fixation 211 out of chest bounding box\n",
      "\n",
      "34cedb74-d0996b40-6d218312-a9174bea-d48dc033 -- P102R765317 \n",
      "  Fixation 212 out of chest bounding box\n",
      "\n",
      "34cedb74-d0996b40-6d218312-a9174bea-d48dc033 -- P102R765317 \n",
      "  Fixation 213 out of chest bounding box\n",
      "\n",
      "34cedb74-d0996b40-6d218312-a9174bea-d48dc033 -- P102R765317 \n",
      "  Fixation 217 out of chest bounding box\n",
      "\n",
      "34cedb74-d0996b40-6d218312-a9174bea-d48dc033 -- P102R765317 \n",
      "  Fixation 218 out of chest bounding box\n",
      "\n",
      "34cedb74-d0996b40-6d218312-a9174bea-d48dc033 -- P102R765317 \n",
      "  Fixation 219 out of chest bounding box\n",
      "\n",
      "34cedb74-d0996b40-6d218312-a9174bea-d48dc033 -- P102R765317 \n",
      "  Fixation 242 out of chest bounding box\n",
      "\n",
      "34cedb74-d0996b40-6d218312-a9174bea-d48dc033 -- P102R765317 \n",
      "  Fixation 244 out of chest bounding box\n",
      "\n",
      "34cedb74-d0996b40-6d218312-a9174bea-d48dc033 -- P102R765317 \n",
      "  Fixation 270 out of chest bounding box\n",
      "\n",
      "34cedb74-d0996b40-6d218312-a9174bea-d48dc033 -- P102R765317 \n",
      "  Fixation 271 out of chest bounding box\n",
      "\n",
      "34cedb74-d0996b40-6d218312-a9174bea-d48dc033 -- P102R765317 \n",
      "  Fixation 278 out of chest bounding box\n",
      "\n",
      "34cedb74-d0996b40-6d218312-a9174bea-d48dc033 -- P102R765317 \n",
      "  Fixation 280 out of chest bounding box\n",
      "\n",
      "34cedb74-d0996b40-6d218312-a9174bea-d48dc033 -- P102R765317 \n",
      "  Fixation 281 out of chest bounding box\n",
      "\n",
      "34cedb74-d0996b40-6d218312-a9174bea-d48dc033 -- P102R765317 \n",
      "  Fixation 282 out of chest bounding box\n",
      "\n",
      "34cedb74-d0996b40-6d218312-a9174bea-d48dc033 -- P102R765317 \n",
      "  Fixation 283 out of chest bounding box\n",
      "\n",
      "34cedb74-d0996b40-6d218312-a9174bea-d48dc033 -- P102R765317 \n",
      "  Fixation 284 out of chest bounding box\n",
      "\n",
      "34cedb74-d0996b40-6d218312-a9174bea-d48dc033 -- P102R765317 \n",
      "  Fixation 297 out of chest bounding box\n",
      "\n",
      "34cedb74-d0996b40-6d218312-a9174bea-d48dc033 -- P102R765317 \n",
      "  Fixation 309 out of chest bounding box\n",
      "\n",
      "34cedb74-d0996b40-6d218312-a9174bea-d48dc033 -- P102R765317 \n",
      "  Fixation 310 out of chest bounding box\n",
      "\n",
      "34cedb74-d0996b40-6d218312-a9174bea-d48dc033 -- P102R765317 \n",
      "  Fixation 311 out of chest bounding box\n",
      "\n",
      "34cedb74-d0996b40-6d218312-a9174bea-d48dc033 -- P102R765317 \n",
      "  Fixation 313 out of chest bounding box\n",
      "\n",
      "34cedb74-d0996b40-6d218312-a9174bea-d48dc033 -- P102R765317 \n",
      "  Fixation 314 out of chest bounding box\n",
      "\n",
      "34cedb74-d0996b40-6d218312-a9174bea-d48dc033 -- P102R765317 \n",
      "  Fixation 316 out of chest bounding box\n",
      "\n",
      "34cedb74-d0996b40-6d218312-a9174bea-d48dc033 -- P102R765317 \n",
      "  Fixation 317 out of chest bounding box\n",
      "\n",
      "34cedb74-d0996b40-6d218312-a9174bea-d48dc033 -- P102R765317 \n",
      "  Fixation 319 out of chest bounding box\n",
      "\n",
      "34cedb74-d0996b40-6d218312-a9174bea-d48dc033 -- P102R765317 \n",
      "  Fixation 320 out of chest bounding box\n",
      "\n",
      "34cedb74-d0996b40-6d218312-a9174bea-d48dc033 -- P102R765317 \n",
      "  Fixation 322 out of chest bounding box\n",
      "\n",
      "34cedb74-d0996b40-6d218312-a9174bea-d48dc033 -- P102R765317 \n",
      "  Fixation 326 out of chest bounding box\n",
      "\n",
      "34cedb74-d0996b40-6d218312-a9174bea-d48dc033 -- P102R765317 \n",
      "  Fixation 332 out of chest bounding box\n",
      "\n",
      "34cedb74-d0996b40-6d218312-a9174bea-d48dc033 -- P102R765317 \n",
      "  Fixation 333 out of chest bounding box\n",
      "\n",
      "34cedb74-d0996b40-6d218312-a9174bea-d48dc033 -- P102R765317 \n",
      "  Fixation 334 out of chest bounding box\n",
      "\n",
      "34cedb74-d0996b40-6d218312-a9174bea-d48dc033 -- P102R765317 \n",
      "  Fixation 335 out of chest bounding box\n",
      "\n",
      "34cedb74-d0996b40-6d218312-a9174bea-d48dc033 -- P102R765317 \n",
      "  Fixation 337 out of chest bounding box\n",
      "\n",
      "34cedb74-d0996b40-6d218312-a9174bea-d48dc033 -- P102R915878 \n",
      "  Fixation 15 out of chest bounding box\n",
      "\n",
      "34cedb74-d0996b40-6d218312-a9174bea-d48dc033 -- P102R915878 \n",
      "  Fixation 16 out of chest bounding box\n",
      "\n",
      "34cedb74-d0996b40-6d218312-a9174bea-d48dc033 -- P102R915878 \n",
      "  Fixation 17 out of chest bounding box\n",
      "\n",
      "34cedb74-d0996b40-6d218312-a9174bea-d48dc033 -- P102R915878 \n",
      "  Fixation 35 out of chest bounding box\n",
      "\n",
      "34cedb74-d0996b40-6d218312-a9174bea-d48dc033 -- P102R915878 \n",
      "  Fixation 36 out of chest bounding box\n",
      "\n",
      "34cedb74-d0996b40-6d218312-a9174bea-d48dc033 -- P102R915878 \n",
      "  Fixation 37 out of chest bounding box\n",
      "\n",
      "34cedb74-d0996b40-6d218312-a9174bea-d48dc033 -- P102R915878 \n",
      "  Fixation 38 out of chest bounding box\n",
      "\n",
      "34cedb74-d0996b40-6d218312-a9174bea-d48dc033 -- P102R915878 \n",
      "  Fixation 51 out of chest bounding box\n",
      "\n",
      "34cedb74-d0996b40-6d218312-a9174bea-d48dc033 -- P102R915878 \n",
      "  Fixation 97 out of chest bounding box\n",
      "\n",
      "34cedb74-d0996b40-6d218312-a9174bea-d48dc033 -- P102R915878 \n",
      "  Fixation 98 out of chest bounding box\n",
      "\n",
      "34cedb74-d0996b40-6d218312-a9174bea-d48dc033 -- P102R915878 \n",
      "  Fixation 100 out of chest bounding box\n",
      "\n",
      "34cedb74-d0996b40-6d218312-a9174bea-d48dc033 -- P102R915878 \n",
      "  Fixation 110 out of chest bounding box\n",
      "\n",
      "34cedb74-d0996b40-6d218312-a9174bea-d48dc033 -- P102R915878 \n",
      "  Fixation 111 out of chest bounding box\n",
      "\n",
      "34cedb74-d0996b40-6d218312-a9174bea-d48dc033 -- P102R915878 \n",
      "  Fixation 112 out of chest bounding box\n",
      "\n",
      "34cedb74-d0996b40-6d218312-a9174bea-d48dc033 -- P102R915878 \n",
      "  Fixation 113 out of chest bounding box\n",
      "\n"
     ]
    }
   ],
   "source": [
    "pairs = [collection.fetch_by_dgl_index(i) for i in range(batch_size)]"
   ]
  },
  {
   "cell_type": "code",
   "execution_count": 35,
   "metadata": {},
   "outputs": [],
   "source": [
    "graphs = [pair.dgl_graph for pair in pairs]\n",
    "labels = [pair.dgl_labels for pair in pairs]\n"
   ]
  },
  {
   "cell_type": "code",
   "execution_count": 36,
   "metadata": {},
   "outputs": [
    {
     "data": {
      "text/plain": [
       "(Graph(num_nodes=721, num_edges=12067,\n",
       "       ndata_schemes={'feats': Scheme(shape=(1024,), dtype=torch.float32), 'duration': Scheme(shape=(), dtype=torch.float32), 'norm_bottom_right': Scheme(shape=(2,), dtype=torch.float32), 'norm_top_left': Scheme(shape=(2,), dtype=torch.float32), 'norm_y': Scheme(shape=(), dtype=torch.float32), 'norm_x': Scheme(shape=(), dtype=torch.float32)}\n",
       "       edata_schemes={'weight': Scheme(shape=(), dtype=torch.float32)}),\n",
       " (4, 4),\n",
       " torch.Size([5, 6]))"
      ]
     },
     "execution_count": 36,
     "metadata": {},
     "output_type": "execute_result"
    }
   ],
   "source": [
    "batch = dgl.batch(graphs)\n",
    "grid = gridify(batch, grid_size)\n",
    "labels = torch.cat(labels).reshape((batch_size, len(labels[0])))\n",
    "\n",
    "batch, (len(grid), len(grid[0])), labels.shape"
   ]
  },
  {
   "cell_type": "markdown",
   "metadata": {},
   "source": [
    "#### initialization"
   ]
  },
  {
   "cell_type": "code",
   "execution_count": 38,
   "metadata": {},
   "outputs": [],
   "source": [
    "batch.ndata['conv_feats'] = batch.ndata['feats'].clone()"
   ]
  },
  {
   "cell_type": "code",
   "execution_count": 43,
   "metadata": {},
   "outputs": [
    {
     "data": {
      "text/plain": [
       "dict_keys(['feats', 'duration', 'norm_bottom_right', 'norm_top_left', 'norm_y', 'norm_x', 'conv_feats'])"
      ]
     },
     "execution_count": 43,
     "metadata": {},
     "output_type": "execute_result"
    }
   ],
   "source": [
    "batch.ndata.keys()"
   ]
  },
  {
   "cell_type": "code",
   "execution_count": 42,
   "metadata": {},
   "outputs": [
    {
     "data": {
      "text/plain": [
       "dict_keys(['feats', 'duration', 'norm_bottom_right', 'norm_top_left', 'norm_y', 'norm_x', '_ID'])"
      ]
     },
     "execution_count": 42,
     "metadata": {},
     "output_type": "execute_result"
    }
   ],
   "source": [
    "grid[0][0].ndata.keys()"
   ]
  },
  {
   "cell_type": "code",
   "execution_count": 46,
   "metadata": {},
   "outputs": [],
   "source": [
    "grid[0][0].apply_edges(fn.u_mul_e('feats', 'weight', 'w_feats'))\n",
    "grid[0][0].update_all(fn.e_div_v('w_feats', 'duration', 'norm_feats'),\n",
    "                fn.sum('norm_feats', 'blabla'))"
   ]
  },
  {
   "cell_type": "code",
   "execution_count": 47,
   "metadata": {},
   "outputs": [
    {
     "data": {
      "text/plain": [
       "dict_keys(['feats', 'duration', 'norm_bottom_right', 'norm_top_left', 'norm_y', 'norm_x', '_ID', 'blabla'])"
      ]
     },
     "execution_count": 47,
     "metadata": {},
     "output_type": "execute_result"
    }
   ],
   "source": [
    "grid[0][0].ndata.keys()"
   ]
  },
  {
   "cell_type": "code",
   "execution_count": 49,
   "metadata": {},
   "outputs": [
    {
     "data": {
      "text/plain": [
       "dict_keys(['feats', 'duration', 'norm_bottom_right', 'norm_top_left', 'norm_y', 'norm_x', 'conv_feats'])"
      ]
     },
     "execution_count": 49,
     "metadata": {},
     "output_type": "execute_result"
    }
   ],
   "source": [
    "batch.ndata.keys()"
   ]
  }
 ],
 "metadata": {
  "kernelspec": {
   "display_name": "graph_classification",
   "language": "python",
   "name": "python3"
  },
  "language_info": {
   "codemirror_mode": {
    "name": "ipython",
    "version": 3
   },
   "file_extension": ".py",
   "mimetype": "text/x-python",
   "name": "python",
   "nbconvert_exporter": "python",
   "pygments_lexer": "ipython3",
   "version": "3.8.10"
  }
 },
 "nbformat": 4,
 "nbformat_minor": 2
}
