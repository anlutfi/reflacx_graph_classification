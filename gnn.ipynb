{
 "cells": [
  {
   "cell_type": "code",
   "execution_count": 1,
   "metadata": {},
   "outputs": [
    {
     "name": "stderr",
     "output_type": "stream",
     "text": [
      "/home/antonio/dev/pyvenvs/graph_classification/lib/python3.8/site-packages/tqdm/auto.py:21: TqdmWarning: IProgress not found. Please update jupyter and ipywidgets. See https://ipywidgets.readthedocs.io/en/stable/user_install.html\n",
      "  from .autonotebook import tqdm as notebook_tqdm\n"
     ]
    }
   ],
   "source": [
    "import dgl\n",
    "import dgl.function as fn\n",
    "import torch\n",
    "import torch.nn as nn\n",
    "import torch.nn.functional as F\n",
    "\n",
    "\n",
    "from iou_graph import IOUGraph\n",
    "from dgl_reflacx_tools.tools import gridify, gridify_indices, gridify_by_indices, grid_readout\n",
    "\n",
    "from dgl_reflacx_tools.dgl_reflacx_collection import GraphCollection"
   ]
  },
  {
   "cell_type": "code",
   "execution_count": 2,
   "metadata": {},
   "outputs": [
    {
     "data": {
      "text/plain": [
       "device(type='cuda', index=0)"
      ]
     },
     "execution_count": 2,
     "metadata": {},
     "output_type": "execute_result"
    }
   ],
   "source": [
    "device = torch.device(\"cuda:0\" if torch.cuda.is_available() else \"cpu\")\n",
    "device"
   ]
  },
  {
   "cell_type": "code",
   "execution_count": 3,
   "metadata": {},
   "outputs": [
    {
     "name": "stdout",
     "output_type": "stream",
     "text": [
      "loading metadata\n",
      "metadata loaded from file\n",
      "Done loading data from cached files.\n"
     ]
    }
   ],
   "source": [
    "dataset_pth = 'datasets/reflacx_densnet225_iou'\n",
    "collection = GraphCollection(dataset_pth, IOUGraph)"
   ]
  },
  {
   "cell_type": "markdown",
   "metadata": {},
   "source": [
    "#### Getting sample batch"
   ]
  },
  {
   "cell_type": "code",
   "execution_count": 4,
   "metadata": {},
   "outputs": [],
   "source": [
    "batch_size = 5\n",
    "grid_size = 4"
   ]
  },
  {
   "cell_type": "code",
   "execution_count": 5,
   "metadata": {},
   "outputs": [
    {
     "name": "stderr",
     "output_type": "stream",
     "text": [
      "34cedb74-d0996b40-6d218312-a9174bea-d48dc033 -- P102R108387 \n",
      "  Fixation 3 out of chest bounding box\n",
      "\n",
      "34cedb74-d0996b40-6d218312-a9174bea-d48dc033 -- P102R108387 \n",
      "  Fixation 4 out of chest bounding box\n",
      "\n",
      "34cedb74-d0996b40-6d218312-a9174bea-d48dc033 -- P102R108387 \n",
      "  Fixation 5 out of chest bounding box\n",
      "\n",
      "34cedb74-d0996b40-6d218312-a9174bea-d48dc033 -- P102R108387 \n",
      "  Fixation 18 out of chest bounding box\n",
      "\n",
      "34cedb74-d0996b40-6d218312-a9174bea-d48dc033 -- P102R108387 \n",
      "  Fixation 20 out of chest bounding box\n",
      "\n",
      "34cedb74-d0996b40-6d218312-a9174bea-d48dc033 -- P102R108387 \n",
      "  Fixation 28 out of chest bounding box\n",
      "\n",
      "34cedb74-d0996b40-6d218312-a9174bea-d48dc033 -- P102R108387 \n",
      "  Fixation 30 out of chest bounding box\n",
      "\n",
      "34cedb74-d0996b40-6d218312-a9174bea-d48dc033 -- P102R108387 \n",
      "  Fixation 31 out of chest bounding box\n",
      "\n",
      "34cedb74-d0996b40-6d218312-a9174bea-d48dc033 -- P102R108387 \n",
      "  Fixation 53 out of chest bounding box\n",
      "\n",
      "34cedb74-d0996b40-6d218312-a9174bea-d48dc033 -- P102R108387 \n",
      "  Fixation 55 out of chest bounding box\n",
      "\n",
      "34cedb74-d0996b40-6d218312-a9174bea-d48dc033 -- P102R108387 \n",
      "  Fixation 56 out of chest bounding box\n",
      "\n",
      "34cedb74-d0996b40-6d218312-a9174bea-d48dc033 -- P102R379837 \n",
      "  Fixation 65 out of chest bounding box\n",
      "\n",
      "34cedb74-d0996b40-6d218312-a9174bea-d48dc033 -- P102R379837 \n",
      "  Fixation 74 out of chest bounding box\n",
      "\n",
      "34cedb74-d0996b40-6d218312-a9174bea-d48dc033 -- P102R379837 \n",
      "  Fixation 78 out of chest bounding box\n",
      "\n",
      "34cedb74-d0996b40-6d218312-a9174bea-d48dc033 -- P102R379837 \n",
      "  Fixation 79 out of chest bounding box\n",
      "\n",
      "34cedb74-d0996b40-6d218312-a9174bea-d48dc033 -- P102R379837 \n",
      "  Fixation 80 out of chest bounding box\n",
      "\n",
      "34cedb74-d0996b40-6d218312-a9174bea-d48dc033 -- P102R379837 \n",
      "  Fixation 83 out of chest bounding box\n",
      "\n",
      "34cedb74-d0996b40-6d218312-a9174bea-d48dc033 -- P102R379837 \n",
      "  Fixation 84 out of chest bounding box\n",
      "\n",
      "34cedb74-d0996b40-6d218312-a9174bea-d48dc033 -- P102R379837 \n",
      "  Fixation 94 out of chest bounding box\n",
      "\n",
      "34cedb74-d0996b40-6d218312-a9174bea-d48dc033 -- P102R379837 \n",
      "  Fixation 95 out of chest bounding box\n",
      "\n",
      "34cedb74-d0996b40-6d218312-a9174bea-d48dc033 -- P102R379837 \n",
      "  Fixation 97 out of chest bounding box\n",
      "\n",
      "34cedb74-d0996b40-6d218312-a9174bea-d48dc033 -- P102R379837 \n",
      "  Fixation 98 out of chest bounding box\n",
      "\n",
      "34cedb74-d0996b40-6d218312-a9174bea-d48dc033 -- P102R558314 \n",
      "  Fixation 5 out of chest bounding box\n",
      "\n",
      "34cedb74-d0996b40-6d218312-a9174bea-d48dc033 -- P102R558314 \n",
      "  Fixation 12 out of chest bounding box\n",
      "\n",
      "34cedb74-d0996b40-6d218312-a9174bea-d48dc033 -- P102R558314 \n",
      "  Fixation 21 out of chest bounding box\n",
      "\n",
      "34cedb74-d0996b40-6d218312-a9174bea-d48dc033 -- P102R558314 \n",
      "  Fixation 25 out of chest bounding box\n",
      "\n",
      "34cedb74-d0996b40-6d218312-a9174bea-d48dc033 -- P102R558314 \n",
      "  Fixation 27 out of chest bounding box\n",
      "\n",
      "34cedb74-d0996b40-6d218312-a9174bea-d48dc033 -- P102R558314 \n",
      "  Fixation 34 out of chest bounding box\n",
      "\n",
      "34cedb74-d0996b40-6d218312-a9174bea-d48dc033 -- P102R558314 \n",
      "  Fixation 102 out of chest bounding box\n",
      "\n",
      "34cedb74-d0996b40-6d218312-a9174bea-d48dc033 -- P102R558314 \n",
      "  Fixation 156 out of chest bounding box\n",
      "\n",
      "34cedb74-d0996b40-6d218312-a9174bea-d48dc033 -- P102R558314 \n",
      "  Fixation 202 out of chest bounding box\n",
      "\n",
      "34cedb74-d0996b40-6d218312-a9174bea-d48dc033 -- P102R558314 \n",
      "  Fixation 206 out of chest bounding box\n",
      "\n",
      "34cedb74-d0996b40-6d218312-a9174bea-d48dc033 -- P102R558314 \n",
      "  Fixation 211 out of chest bounding box\n",
      "\n",
      "34cedb74-d0996b40-6d218312-a9174bea-d48dc033 -- P102R558314 \n",
      "  Fixation 212 out of chest bounding box\n",
      "\n",
      "34cedb74-d0996b40-6d218312-a9174bea-d48dc033 -- P102R558314 \n",
      "  Fixation 215 out of chest bounding box\n",
      "\n",
      "34cedb74-d0996b40-6d218312-a9174bea-d48dc033 -- P102R558314 \n",
      "  Fixation 216 out of chest bounding box\n",
      "\n",
      "34cedb74-d0996b40-6d218312-a9174bea-d48dc033 -- P102R558314 \n",
      "  Fixation 219 out of chest bounding box\n",
      "\n",
      "34cedb74-d0996b40-6d218312-a9174bea-d48dc033 -- P102R558314 \n",
      "  Fixation 220 out of chest bounding box\n",
      "\n",
      "34cedb74-d0996b40-6d218312-a9174bea-d48dc033 -- P102R765317 \n",
      "  Fixation 6 out of chest bounding box\n",
      "\n",
      "34cedb74-d0996b40-6d218312-a9174bea-d48dc033 -- P102R765317 \n",
      "  Fixation 7 out of chest bounding box\n",
      "\n",
      "34cedb74-d0996b40-6d218312-a9174bea-d48dc033 -- P102R765317 \n",
      "  Fixation 11 out of chest bounding box\n",
      "\n",
      "34cedb74-d0996b40-6d218312-a9174bea-d48dc033 -- P102R765317 \n",
      "  Fixation 12 out of chest bounding box\n",
      "\n",
      "34cedb74-d0996b40-6d218312-a9174bea-d48dc033 -- P102R765317 \n",
      "  Fixation 16 out of chest bounding box\n",
      "\n",
      "34cedb74-d0996b40-6d218312-a9174bea-d48dc033 -- P102R765317 \n",
      "  Fixation 17 out of chest bounding box\n",
      "\n",
      "34cedb74-d0996b40-6d218312-a9174bea-d48dc033 -- P102R765317 \n",
      "  Fixation 26 out of chest bounding box\n",
      "\n",
      "34cedb74-d0996b40-6d218312-a9174bea-d48dc033 -- P102R765317 \n",
      "  Fixation 30 out of chest bounding box\n",
      "\n",
      "34cedb74-d0996b40-6d218312-a9174bea-d48dc033 -- P102R765317 \n",
      "  Fixation 31 out of chest bounding box\n",
      "\n",
      "34cedb74-d0996b40-6d218312-a9174bea-d48dc033 -- P102R765317 \n",
      "  Fixation 33 out of chest bounding box\n",
      "\n",
      "34cedb74-d0996b40-6d218312-a9174bea-d48dc033 -- P102R765317 \n",
      "  Fixation 40 out of chest bounding box\n",
      "\n",
      "34cedb74-d0996b40-6d218312-a9174bea-d48dc033 -- P102R765317 \n",
      "  Fixation 76 out of chest bounding box\n",
      "\n",
      "34cedb74-d0996b40-6d218312-a9174bea-d48dc033 -- P102R765317 \n",
      "  Fixation 105 out of chest bounding box\n",
      "\n",
      "34cedb74-d0996b40-6d218312-a9174bea-d48dc033 -- P102R765317 \n",
      "  Fixation 106 out of chest bounding box\n",
      "\n",
      "34cedb74-d0996b40-6d218312-a9174bea-d48dc033 -- P102R765317 \n",
      "  Fixation 149 out of chest bounding box\n",
      "\n",
      "34cedb74-d0996b40-6d218312-a9174bea-d48dc033 -- P102R765317 \n",
      "  Fixation 153 out of chest bounding box\n",
      "\n",
      "34cedb74-d0996b40-6d218312-a9174bea-d48dc033 -- P102R765317 \n",
      "  Fixation 154 out of chest bounding box\n",
      "\n",
      "34cedb74-d0996b40-6d218312-a9174bea-d48dc033 -- P102R765317 \n",
      "  Fixation 160 out of chest bounding box\n",
      "\n",
      "34cedb74-d0996b40-6d218312-a9174bea-d48dc033 -- P102R765317 \n",
      "  Fixation 196 out of chest bounding box\n",
      "\n",
      "34cedb74-d0996b40-6d218312-a9174bea-d48dc033 -- P102R765317 \n",
      "  Fixation 199 out of chest bounding box\n",
      "\n",
      "34cedb74-d0996b40-6d218312-a9174bea-d48dc033 -- P102R765317 \n",
      "  Fixation 200 out of chest bounding box\n",
      "\n",
      "34cedb74-d0996b40-6d218312-a9174bea-d48dc033 -- P102R765317 \n",
      "  Fixation 201 out of chest bounding box\n",
      "\n",
      "34cedb74-d0996b40-6d218312-a9174bea-d48dc033 -- P102R765317 \n",
      "  Fixation 202 out of chest bounding box\n",
      "\n",
      "34cedb74-d0996b40-6d218312-a9174bea-d48dc033 -- P102R765317 \n",
      "  Fixation 203 out of chest bounding box\n",
      "\n",
      "34cedb74-d0996b40-6d218312-a9174bea-d48dc033 -- P102R765317 \n",
      "  Fixation 204 out of chest bounding box\n",
      "\n",
      "34cedb74-d0996b40-6d218312-a9174bea-d48dc033 -- P102R765317 \n",
      "  Fixation 207 out of chest bounding box\n",
      "\n",
      "34cedb74-d0996b40-6d218312-a9174bea-d48dc033 -- P102R765317 \n",
      "  Fixation 208 out of chest bounding box\n",
      "\n",
      "34cedb74-d0996b40-6d218312-a9174bea-d48dc033 -- P102R765317 \n",
      "  Fixation 211 out of chest bounding box\n",
      "\n",
      "34cedb74-d0996b40-6d218312-a9174bea-d48dc033 -- P102R765317 \n",
      "  Fixation 212 out of chest bounding box\n",
      "\n",
      "34cedb74-d0996b40-6d218312-a9174bea-d48dc033 -- P102R765317 \n",
      "  Fixation 213 out of chest bounding box\n",
      "\n",
      "34cedb74-d0996b40-6d218312-a9174bea-d48dc033 -- P102R765317 \n",
      "  Fixation 217 out of chest bounding box\n",
      "\n",
      "34cedb74-d0996b40-6d218312-a9174bea-d48dc033 -- P102R765317 \n",
      "  Fixation 218 out of chest bounding box\n",
      "\n",
      "34cedb74-d0996b40-6d218312-a9174bea-d48dc033 -- P102R765317 \n",
      "  Fixation 219 out of chest bounding box\n",
      "\n",
      "34cedb74-d0996b40-6d218312-a9174bea-d48dc033 -- P102R765317 \n",
      "  Fixation 242 out of chest bounding box\n",
      "\n",
      "34cedb74-d0996b40-6d218312-a9174bea-d48dc033 -- P102R765317 \n",
      "  Fixation 244 out of chest bounding box\n",
      "\n",
      "34cedb74-d0996b40-6d218312-a9174bea-d48dc033 -- P102R765317 \n",
      "  Fixation 270 out of chest bounding box\n",
      "\n",
      "34cedb74-d0996b40-6d218312-a9174bea-d48dc033 -- P102R765317 \n",
      "  Fixation 271 out of chest bounding box\n",
      "\n",
      "34cedb74-d0996b40-6d218312-a9174bea-d48dc033 -- P102R765317 \n",
      "  Fixation 278 out of chest bounding box\n",
      "\n",
      "34cedb74-d0996b40-6d218312-a9174bea-d48dc033 -- P102R765317 \n",
      "  Fixation 280 out of chest bounding box\n",
      "\n",
      "34cedb74-d0996b40-6d218312-a9174bea-d48dc033 -- P102R765317 \n",
      "  Fixation 281 out of chest bounding box\n",
      "\n",
      "34cedb74-d0996b40-6d218312-a9174bea-d48dc033 -- P102R765317 \n",
      "  Fixation 282 out of chest bounding box\n",
      "\n",
      "34cedb74-d0996b40-6d218312-a9174bea-d48dc033 -- P102R765317 \n",
      "  Fixation 283 out of chest bounding box\n",
      "\n",
      "34cedb74-d0996b40-6d218312-a9174bea-d48dc033 -- P102R765317 \n",
      "  Fixation 284 out of chest bounding box\n",
      "\n",
      "34cedb74-d0996b40-6d218312-a9174bea-d48dc033 -- P102R765317 \n",
      "  Fixation 297 out of chest bounding box\n",
      "\n",
      "34cedb74-d0996b40-6d218312-a9174bea-d48dc033 -- P102R765317 \n",
      "  Fixation 309 out of chest bounding box\n",
      "\n",
      "34cedb74-d0996b40-6d218312-a9174bea-d48dc033 -- P102R765317 \n",
      "  Fixation 310 out of chest bounding box\n",
      "\n",
      "34cedb74-d0996b40-6d218312-a9174bea-d48dc033 -- P102R765317 \n",
      "  Fixation 311 out of chest bounding box\n",
      "\n",
      "34cedb74-d0996b40-6d218312-a9174bea-d48dc033 -- P102R765317 \n",
      "  Fixation 313 out of chest bounding box\n",
      "\n",
      "34cedb74-d0996b40-6d218312-a9174bea-d48dc033 -- P102R765317 \n",
      "  Fixation 314 out of chest bounding box\n",
      "\n",
      "34cedb74-d0996b40-6d218312-a9174bea-d48dc033 -- P102R765317 \n",
      "  Fixation 316 out of chest bounding box\n",
      "\n",
      "34cedb74-d0996b40-6d218312-a9174bea-d48dc033 -- P102R765317 \n",
      "  Fixation 317 out of chest bounding box\n",
      "\n",
      "34cedb74-d0996b40-6d218312-a9174bea-d48dc033 -- P102R765317 \n",
      "  Fixation 319 out of chest bounding box\n",
      "\n",
      "34cedb74-d0996b40-6d218312-a9174bea-d48dc033 -- P102R765317 \n",
      "  Fixation 320 out of chest bounding box\n",
      "\n",
      "34cedb74-d0996b40-6d218312-a9174bea-d48dc033 -- P102R765317 \n",
      "  Fixation 322 out of chest bounding box\n",
      "\n",
      "34cedb74-d0996b40-6d218312-a9174bea-d48dc033 -- P102R765317 \n",
      "  Fixation 326 out of chest bounding box\n",
      "\n",
      "34cedb74-d0996b40-6d218312-a9174bea-d48dc033 -- P102R765317 \n",
      "  Fixation 332 out of chest bounding box\n",
      "\n",
      "34cedb74-d0996b40-6d218312-a9174bea-d48dc033 -- P102R765317 \n",
      "  Fixation 333 out of chest bounding box\n",
      "\n",
      "34cedb74-d0996b40-6d218312-a9174bea-d48dc033 -- P102R765317 \n",
      "  Fixation 334 out of chest bounding box\n",
      "\n",
      "34cedb74-d0996b40-6d218312-a9174bea-d48dc033 -- P102R765317 \n",
      "  Fixation 335 out of chest bounding box\n",
      "\n",
      "34cedb74-d0996b40-6d218312-a9174bea-d48dc033 -- P102R765317 \n",
      "  Fixation 337 out of chest bounding box\n",
      "\n",
      "34cedb74-d0996b40-6d218312-a9174bea-d48dc033 -- P102R915878 \n",
      "  Fixation 15 out of chest bounding box\n",
      "\n",
      "34cedb74-d0996b40-6d218312-a9174bea-d48dc033 -- P102R915878 \n",
      "  Fixation 16 out of chest bounding box\n",
      "\n",
      "34cedb74-d0996b40-6d218312-a9174bea-d48dc033 -- P102R915878 \n",
      "  Fixation 17 out of chest bounding box\n",
      "\n",
      "34cedb74-d0996b40-6d218312-a9174bea-d48dc033 -- P102R915878 \n",
      "  Fixation 35 out of chest bounding box\n",
      "\n",
      "34cedb74-d0996b40-6d218312-a9174bea-d48dc033 -- P102R915878 \n",
      "  Fixation 36 out of chest bounding box\n",
      "\n",
      "34cedb74-d0996b40-6d218312-a9174bea-d48dc033 -- P102R915878 \n",
      "  Fixation 37 out of chest bounding box\n",
      "\n",
      "34cedb74-d0996b40-6d218312-a9174bea-d48dc033 -- P102R915878 \n",
      "  Fixation 38 out of chest bounding box\n",
      "\n",
      "34cedb74-d0996b40-6d218312-a9174bea-d48dc033 -- P102R915878 \n",
      "  Fixation 51 out of chest bounding box\n",
      "\n",
      "34cedb74-d0996b40-6d218312-a9174bea-d48dc033 -- P102R915878 \n",
      "  Fixation 97 out of chest bounding box\n",
      "\n",
      "34cedb74-d0996b40-6d218312-a9174bea-d48dc033 -- P102R915878 \n",
      "  Fixation 98 out of chest bounding box\n",
      "\n",
      "34cedb74-d0996b40-6d218312-a9174bea-d48dc033 -- P102R915878 \n",
      "  Fixation 100 out of chest bounding box\n",
      "\n",
      "34cedb74-d0996b40-6d218312-a9174bea-d48dc033 -- P102R915878 \n",
      "  Fixation 110 out of chest bounding box\n",
      "\n",
      "34cedb74-d0996b40-6d218312-a9174bea-d48dc033 -- P102R915878 \n",
      "  Fixation 111 out of chest bounding box\n",
      "\n",
      "34cedb74-d0996b40-6d218312-a9174bea-d48dc033 -- P102R915878 \n",
      "  Fixation 112 out of chest bounding box\n",
      "\n",
      "34cedb74-d0996b40-6d218312-a9174bea-d48dc033 -- P102R915878 \n",
      "  Fixation 113 out of chest bounding box\n",
      "\n"
     ]
    }
   ],
   "source": [
    "pairs = [collection.fetch_by_dgl_index(i) for i in range(batch_size)]"
   ]
  },
  {
   "cell_type": "code",
   "execution_count": 6,
   "metadata": {},
   "outputs": [],
   "source": [
    "graphs = [pair.dgl_graph for pair in pairs]\n",
    "labels = [pair.dgl_labels for pair in pairs]\n"
   ]
  },
  {
   "cell_type": "code",
   "execution_count": 7,
   "metadata": {},
   "outputs": [
    {
     "data": {
      "text/plain": [
       "(Graph(num_nodes=721, num_edges=12067,\n",
       "       ndata_schemes={'feats': Scheme(shape=(1024,), dtype=torch.float32), 'duration': Scheme(shape=(), dtype=torch.float32), 'norm_bottom_right': Scheme(shape=(2,), dtype=torch.float32), 'norm_top_left': Scheme(shape=(2,), dtype=torch.float32), 'norm_y': Scheme(shape=(), dtype=torch.float32), 'norm_x': Scheme(shape=(), dtype=torch.float32)}\n",
       "       edata_schemes={'weight': Scheme(shape=(), dtype=torch.float32)}),\n",
       " torch.Size([5, 6]),\n",
       " device(type='cuda', index=0),\n",
       " device(type='cuda', index=0))"
      ]
     },
     "execution_count": 7,
     "metadata": {},
     "output_type": "execute_result"
    }
   ],
   "source": [
    "batch = dgl.batch(graphs).to(device)\n",
    "labels = torch.cat(labels).reshape((batch_size, len(labels[0]))).to(device)\n",
    "\n",
    "batch, labels.shape, batch.device, labels.device"
   ]
  },
  {
   "cell_type": "markdown",
   "metadata": {},
   "source": [
    "#### initialization"
   ]
  },
  {
   "cell_type": "markdown",
   "metadata": {},
   "source": [
    "Setting node features to be convolved. Concatenating (X, Y) position, duration, and extracted features from gaze crop"
   ]
  },
  {
   "cell_type": "code",
   "execution_count": 8,
   "metadata": {},
   "outputs": [],
   "source": [
    "def init_graph(g):\n",
    "    g.ndata['h'] = torch.cat([g.ndata['norm_x'].unsqueeze(1),\n",
    "                              g.ndata['norm_y'].unsqueeze(1),\n",
    "                              g.ndata['duration'].unsqueeze(1),\n",
    "                              g.ndata['feats']],\n",
    "                              dim=1)\n",
    "    g.update_all(fn.copy_e('weight', 'm'), fn.sum('m', 'neigh_weight'))\n"
   ]
  },
  {
   "cell_type": "code",
   "execution_count": 9,
   "metadata": {},
   "outputs": [
    {
     "data": {
      "text/plain": [
       "torch.Size([721, 1027])"
      ]
     },
     "execution_count": 9,
     "metadata": {},
     "output_type": "execute_result"
    }
   ],
   "source": [
    "init_graph(batch)\n",
    "batch.ndata['h'].shape"
   ]
  },
  {
   "cell_type": "markdown",
   "metadata": {},
   "source": [
    "#### convolution module on a grid"
   ]
  },
  {
   "cell_type": "code",
   "execution_count": 10,
   "metadata": {},
   "outputs": [],
   "source": [
    "def pass_messages(g, feat_nm, w_nm, sum_w_nm):\n",
    "    g.update_all(fn.v_mul_e(feat_nm, w_nm, 'm'), fn.sum('m', feat_nm))\n",
    "    g.ndata[feat_nm] = torch.divide(g.ndata[feat_nm], g.ndata[sum_w_nm].unsqueeze(1))"
   ]
  },
  {
   "cell_type": "code",
   "execution_count": 11,
   "metadata": {},
   "outputs": [],
   "source": [
    "class GridConv(nn.Module):\n",
    "    def __init__(self,\n",
    "                 device,\n",
    "                 in_feats,\n",
    "                 out_feats,\n",
    "                 grid_size,\n",
    "                 pass_messages,\n",
    "                 activation=F.relu):\n",
    "        super(GridConv, self).__init__()\n",
    "        self.grid_lin = [[nn.Linear(in_feats, out_feats).to(device)\n",
    "                          for j in range(grid_size)]\n",
    "                         for i in range(grid_size)]\n",
    "        self.grid_size = grid_size\n",
    "        self.pass_messages = pass_messages\n",
    "        self.activation = activation\n",
    "\n",
    "    def forward(self, graph, feat_nm, grid_indices, out_feat_nm=None):\n",
    "        # pass messages (convolution) in whole graph\n",
    "        self.pass_messages(graph, feat_nm)\n",
    "        \n",
    "        # activation on grid cell model\n",
    "        grid = gridify_by_indices(graph, grid_indices)\n",
    "        new_feats = None\n",
    "        i_s = None\n",
    "        for i, line in enumerate(grid):\n",
    "            for j, sg in enumerate(line):\n",
    "                conv_feats = self.activation(self.grid_lin[i][j](sg.ndata[feat_nm]))\n",
    "                \n",
    "                #concatenate new features to uptadate parent graph\n",
    "                if new_feats is None:\n",
    "                    new_feats = conv_feats\n",
    "                    i_s = grid_indices[i][j]\n",
    "                else:\n",
    "                    new_feats = torch.cat([new_feats, conv_feats])\n",
    "                    i_s = torch.cat([i_s, grid_indices[i][j]])\n",
    "        \n",
    "        #update parent graph with features calculated by grid\n",
    "        i_s = torch.sort(i_s).indices\n",
    "        new_feats = new_feats[i_s]\n",
    "        graph.ndata[feat_nm if out_feat_nm is None else out_feat_nm] = new_feats\n",
    "        \n",
    "        return new_feats"
   ]
  },
  {
   "cell_type": "code",
   "execution_count": 12,
   "metadata": {},
   "outputs": [],
   "source": [
    "f_message = lambda g, feat_nm: pass_messages(g, feat_nm, 'weight', 'neigh_weight')"
   ]
  },
  {
   "cell_type": "code",
   "execution_count": 13,
   "metadata": {},
   "outputs": [],
   "source": [
    "conv = GridConv(device, 1027, 1027, grid_size, f_message).to(device)"
   ]
  },
  {
   "cell_type": "code",
   "execution_count": 14,
   "metadata": {},
   "outputs": [],
   "source": [
    "g_i = gridify_indices(batch, grid_size)\n",
    "with batch.local_scope():\n",
    "   h = conv(batch, 'h', g_i)\n",
    "   h2 = conv(batch, 'h', g_i)\n",
    "\n",
    "with batch.local_scope():\n",
    "   h3 = conv(batch, 'h', g_i)"
   ]
  },
  {
   "cell_type": "code",
   "execution_count": 15,
   "metadata": {},
   "outputs": [
    {
     "data": {
      "text/plain": [
       "(tensor(False, device='cuda:0'), tensor(True, device='cuda:0'))"
      ]
     },
     "execution_count": 15,
     "metadata": {},
     "output_type": "execute_result"
    }
   ],
   "source": [
    "torch.all(h == h2), torch.all(h == h3)"
   ]
  },
  {
   "cell_type": "code",
   "execution_count": 16,
   "metadata": {},
   "outputs": [
    {
     "data": {
      "text/plain": [
       "torch.Size([721, 1027])"
      ]
     },
     "execution_count": 16,
     "metadata": {},
     "output_type": "execute_result"
    }
   ],
   "source": [
    "h.shape"
   ]
  },
  {
   "cell_type": "markdown",
   "metadata": {},
   "source": [
    "Defining readout to be, for each grid cell, the concatenation of the sum of the cell's nodes duration with the convolved features"
   ]
  },
  {
   "cell_type": "code",
   "execution_count": 17,
   "metadata": {},
   "outputs": [],
   "source": [
    "from dgl_reflacx_tools.tools import Readout"
   ]
  },
  {
   "cell_type": "code",
   "execution_count": 18,
   "metadata": {},
   "outputs": [],
   "source": [
    "class ReflacxReadout(Readout):\n",
    "    def __init__(self):\n",
    "        feats_and_aggrs = [('duration', lambda x, y: dgl.sum_nodes(x, y)),\n",
    "                           ('h', lambda x, y: dgl.mean_nodes(x, y))]\n",
    "        super().__init__(feats_and_aggrs)"
   ]
  },
  {
   "cell_type": "code",
   "execution_count": 19,
   "metadata": {},
   "outputs": [],
   "source": [
    "class ReflacxClassifier(nn.Module):\n",
    "    def __init__(self,\n",
    "                 device,\n",
    "                 input_dim,\n",
    "                 readout_dim,\n",
    "                 n_classes,\n",
    "                 grid_size,\n",
    "                 pass_messages,\n",
    "                 readout,\n",
    "                 conv_activation=F.relu,\n",
    "                 mlp_activation=F.relu): # TODO make possibel to have diff activations for conv and fc\n",
    "        super(ReflacxClassifier, self).__init__()\n",
    "        self.grid_size = grid_size\n",
    "        new_conv = lambda in_feats, out_feats: GridConv(device,\n",
    "                                                        in_feats,\n",
    "                                                        out_feats,\n",
    "                                                        self.grid_size,\n",
    "                                                        pass_messages,\n",
    "                                                        conv_activation)\n",
    "        self.conv1 = new_conv(input_dim, 512)\n",
    "        self.conv2 = new_conv(512, 256)\n",
    "\n",
    "        self.fc1 = nn.Linear(readout_dim, 256).to(device)\n",
    "        self.fc2 = nn.Linear(256, 64).to(device)\n",
    "\n",
    "        self.fcf = nn.Linear(64, n_classes).to(device)\n",
    "        \n",
    "        self.readout = readout\n",
    "        self.conv_activation = conv_activation\n",
    "        self.mlp_activation = mlp_activation\n",
    "\n",
    "\n",
    "\n",
    "    def forward(self, graph, conv_feat_nm, grid_indices):\n",
    "        with graph.local_scope():\n",
    "            h = self.conv1(graph, conv_feat_nm, grid_indices)\n",
    "            h = self.conv2(graph, conv_feat_nm, grid_indices)\n",
    "            ro = self.readout(gridify_by_indices(graph, grid_indices))\n",
    "        h = self.mlp_activation(self.fc1(ro))\n",
    "        h = self.mlp_activation(self.fc2(h))\n",
    "        return self.fcf(h)\n",
    "\n",
    "        "
   ]
  },
  {
   "cell_type": "code",
   "execution_count": 20,
   "metadata": {},
   "outputs": [],
   "source": [
    "clf = ReflacxClassifier(device,\n",
    "                        1027,\n",
    "                        4112,\n",
    "                        6,\n",
    "                        grid_size,\n",
    "                        f_message,\n",
    "                        ReflacxReadout())"
   ]
  },
  {
   "cell_type": "code",
   "execution_count": 21,
   "metadata": {},
   "outputs": [],
   "source": [
    "h = clf(batch, 'h', gridify_indices(batch, grid_size))"
   ]
  },
  {
   "cell_type": "code",
   "execution_count": 22,
   "metadata": {},
   "outputs": [
    {
     "data": {
      "text/plain": [
       "torch.Size([5, 6])"
      ]
     },
     "execution_count": 22,
     "metadata": {},
     "output_type": "execute_result"
    }
   ],
   "source": [
    "h.shape"
   ]
  },
  {
   "cell_type": "code",
   "execution_count": 23,
   "metadata": {},
   "outputs": [
    {
     "data": {
      "text/plain": [
       "tensor([[-0.1350,  0.0447, -0.1107, -0.0893, -0.0383,  0.1142],\n",
       "        [-0.1392,  0.0296, -0.1065, -0.0864, -0.0450,  0.1048],\n",
       "        [-0.1418, -0.0012, -0.1608, -0.0764, -0.0730,  0.0861],\n",
       "        [-0.1807, -0.0118, -0.1457, -0.1331, -0.0824,  0.0853],\n",
       "        [-0.1235,  0.0427, -0.1037, -0.0954, -0.0436,  0.1128]],\n",
       "       device='cuda:0', grad_fn=<AddmmBackward0>)"
      ]
     },
     "execution_count": 23,
     "metadata": {},
     "output_type": "execute_result"
    }
   ],
   "source": [
    "h"
   ]
  },
  {
   "cell_type": "markdown",
   "metadata": {},
   "source": [
    "### Train"
   ]
  },
  {
   "cell_type": "markdown",
   "metadata": {},
   "source": [
    "one training step"
   ]
  },
  {
   "cell_type": "code",
   "execution_count": 24,
   "metadata": {},
   "outputs": [],
   "source": [
    "opt = torch.optim.Adam(clf.parameters())\n",
    "h = clf(batch, 'h', gridify_indices(batch, grid_size))\n",
    "loss = F.mse_loss(h, labels)\n",
    "opt.zero_grad()\n",
    "loss.backward()\n",
    "opt.step()"
   ]
  },
  {
   "cell_type": "markdown",
   "metadata": {},
   "source": [
    "loading from DGL dataset"
   ]
  },
  {
   "cell_type": "code",
   "execution_count": 25,
   "metadata": {},
   "outputs": [],
   "source": [
    "from dgl.data.utils import split_dataset\n",
    "from dgl.dataloading import GraphDataLoader\n",
    "from dgl.data import DGLDataset"
   ]
  },
  {
   "cell_type": "code",
   "execution_count": 26,
   "metadata": {},
   "outputs": [],
   "source": [
    "data_split = [0.8, 0.1, 0.1] # train, val, test"
   ]
  },
  {
   "cell_type": "code",
   "execution_count": 27,
   "metadata": {},
   "outputs": [
    {
     "name": "stdout",
     "output_type": "stream",
     "text": [
      "Done loading data from cached files.\n"
     ]
    }
   ],
   "source": [
    "dataset = dgl.data.CSVDataset(dataset_pth)"
   ]
  },
  {
   "cell_type": "code",
   "execution_count": 28,
   "metadata": {},
   "outputs": [
    {
     "data": {
      "text/plain": [
       "(Graph(num_nodes=88, num_edges=898,\n",
       "       ndata_schemes={'feats': Scheme(shape=(1024,), dtype=torch.float32), 'duration': Scheme(shape=(), dtype=torch.float32), 'norm_bottom_right': Scheme(shape=(2,), dtype=torch.float32), 'norm_top_left': Scheme(shape=(2,), dtype=torch.float32), 'norm_y': Scheme(shape=(), dtype=torch.float32), 'norm_x': Scheme(shape=(), dtype=torch.float32)}\n",
       "       edata_schemes={'weight': Scheme(shape=(), dtype=torch.float32)}),\n",
       " tensor([0., 0., 1., 0., 0., 0.]))"
      ]
     },
     "execution_count": 28,
     "metadata": {},
     "output_type": "execute_result"
    }
   ],
   "source": [
    "dataset[1]"
   ]
  },
  {
   "cell_type": "code",
   "execution_count": 33,
   "metadata": {},
   "outputs": [
    {
     "data": {
      "text/plain": [
       "(2440, 305, 306, dgl.data.utils.Subset)"
      ]
     },
     "execution_count": 33,
     "metadata": {},
     "output_type": "execute_result"
    }
   ],
   "source": [
    "train, val, test = split_dataset(dataset, data_split, shuffle=True)\n",
    "len(train), len(val), len(test), train.__class__"
   ]
  },
  {
   "cell_type": "code",
   "execution_count": 91,
   "metadata": {},
   "outputs": [],
   "source": [
    "loader = GraphDataLoader(train, batch_size=100, shuffle=False, drop_last=False)"
   ]
  },
  {
   "cell_type": "code",
   "execution_count": 34,
   "metadata": {},
   "outputs": [
    {
     "ename": "KeyError",
     "evalue": "'norm_x'",
     "output_type": "error",
     "traceback": [
      "\u001b[0;31m---------------------------------------------------------------------------\u001b[0m",
      "\u001b[0;31mKeyError\u001b[0m                                  Traceback (most recent call last)",
      "Cell \u001b[0;32mIn[34], line 9\u001b[0m\n\u001b[1;32m      7\u001b[0m b \u001b[38;5;241m=\u001b[39m b\u001b[38;5;241m.\u001b[39mto(device)\n\u001b[1;32m      8\u001b[0m l \u001b[38;5;241m=\u001b[39m l\u001b[38;5;241m.\u001b[39mto(device)\n\u001b[0;32m----> 9\u001b[0m \u001b[43minit_graph\u001b[49m\u001b[43m(\u001b[49m\u001b[43mb\u001b[49m\u001b[43m)\u001b[49m\n\u001b[1;32m     10\u001b[0m graph_indices \u001b[38;5;241m=\u001b[39m gridify_indices(b, grid_size)\n\u001b[1;32m     11\u001b[0m h \u001b[38;5;241m=\u001b[39m clf(b, \u001b[38;5;124m'\u001b[39m\u001b[38;5;124mh\u001b[39m\u001b[38;5;124m'\u001b[39m, graph_indices)\n",
      "Cell \u001b[0;32mIn[8], line 2\u001b[0m, in \u001b[0;36minit_graph\u001b[0;34m(g)\u001b[0m\n\u001b[1;32m      1\u001b[0m \u001b[38;5;28;01mdef\u001b[39;00m \u001b[38;5;21minit_graph\u001b[39m(g):\n\u001b[0;32m----> 2\u001b[0m     g\u001b[38;5;241m.\u001b[39mndata[\u001b[38;5;124m'\u001b[39m\u001b[38;5;124mh\u001b[39m\u001b[38;5;124m'\u001b[39m] \u001b[38;5;241m=\u001b[39m torch\u001b[38;5;241m.\u001b[39mcat([\u001b[43mg\u001b[49m\u001b[38;5;241;43m.\u001b[39;49m\u001b[43mndata\u001b[49m\u001b[43m[\u001b[49m\u001b[38;5;124;43m'\u001b[39;49m\u001b[38;5;124;43mnorm_x\u001b[39;49m\u001b[38;5;124;43m'\u001b[39;49m\u001b[43m]\u001b[49m\u001b[38;5;241m.\u001b[39munsqueeze(\u001b[38;5;241m1\u001b[39m),\n\u001b[1;32m      3\u001b[0m                               g\u001b[38;5;241m.\u001b[39mndata[\u001b[38;5;124m'\u001b[39m\u001b[38;5;124mnorm_y\u001b[39m\u001b[38;5;124m'\u001b[39m]\u001b[38;5;241m.\u001b[39munsqueeze(\u001b[38;5;241m1\u001b[39m),\n\u001b[1;32m      4\u001b[0m                               g\u001b[38;5;241m.\u001b[39mndata[\u001b[38;5;124m'\u001b[39m\u001b[38;5;124mduration\u001b[39m\u001b[38;5;124m'\u001b[39m]\u001b[38;5;241m.\u001b[39munsqueeze(\u001b[38;5;241m1\u001b[39m),\n\u001b[1;32m      5\u001b[0m                               g\u001b[38;5;241m.\u001b[39mndata[\u001b[38;5;124m'\u001b[39m\u001b[38;5;124mfeats\u001b[39m\u001b[38;5;124m'\u001b[39m]],\n\u001b[1;32m      6\u001b[0m                               dim\u001b[38;5;241m=\u001b[39m\u001b[38;5;241m1\u001b[39m)\n\u001b[1;32m      7\u001b[0m     g\u001b[38;5;241m.\u001b[39mupdate_all(fn\u001b[38;5;241m.\u001b[39mcopy_e(\u001b[38;5;124m'\u001b[39m\u001b[38;5;124mweight\u001b[39m\u001b[38;5;124m'\u001b[39m, \u001b[38;5;124m'\u001b[39m\u001b[38;5;124mm\u001b[39m\u001b[38;5;124m'\u001b[39m), fn\u001b[38;5;241m.\u001b[39msum(\u001b[38;5;124m'\u001b[39m\u001b[38;5;124mm\u001b[39m\u001b[38;5;124m'\u001b[39m, \u001b[38;5;124m'\u001b[39m\u001b[38;5;124mneigh_weight\u001b[39m\u001b[38;5;124m'\u001b[39m))\n",
      "File \u001b[0;32m~/dev/pyvenvs/graph_classification/lib/python3.8/site-packages/dgl/view.py:80\u001b[0m, in \u001b[0;36mHeteroNodeDataView.__getitem__\u001b[0;34m(self, key)\u001b[0m\n\u001b[1;32m     78\u001b[0m     \u001b[38;5;28;01mreturn\u001b[39;00m ret\n\u001b[1;32m     79\u001b[0m \u001b[38;5;28;01melse\u001b[39;00m:\n\u001b[0;32m---> 80\u001b[0m     \u001b[38;5;28;01mreturn\u001b[39;00m \u001b[38;5;28;43mself\u001b[39;49m\u001b[38;5;241;43m.\u001b[39;49m\u001b[43m_graph\u001b[49m\u001b[38;5;241;43m.\u001b[39;49m\u001b[43m_get_n_repr\u001b[49m\u001b[43m(\u001b[49m\u001b[38;5;28;43mself\u001b[39;49m\u001b[38;5;241;43m.\u001b[39;49m\u001b[43m_ntid\u001b[49m\u001b[43m,\u001b[49m\u001b[43m \u001b[49m\u001b[38;5;28;43mself\u001b[39;49m\u001b[38;5;241;43m.\u001b[39;49m\u001b[43m_nodes\u001b[49m\u001b[43m)\u001b[49m\u001b[43m[\u001b[49m\u001b[43mkey\u001b[49m\u001b[43m]\u001b[49m\n",
      "File \u001b[0;32m~/dev/pyvenvs/graph_classification/lib/python3.8/site-packages/dgl/frame.py:688\u001b[0m, in \u001b[0;36mFrame.__getitem__\u001b[0;34m(self, name)\u001b[0m\n\u001b[1;32m    675\u001b[0m \u001b[38;5;28;01mdef\u001b[39;00m \u001b[38;5;21m__getitem__\u001b[39m(\u001b[38;5;28mself\u001b[39m, name):\n\u001b[1;32m    676\u001b[0m \u001b[38;5;250m    \u001b[39m\u001b[38;5;124;03m\"\"\"Return the column of the given name.\u001b[39;00m\n\u001b[1;32m    677\u001b[0m \n\u001b[1;32m    678\u001b[0m \u001b[38;5;124;03m    Parameters\u001b[39;00m\n\u001b[0;32m   (...)\u001b[0m\n\u001b[1;32m    686\u001b[0m \u001b[38;5;124;03m        Column data.\u001b[39;00m\n\u001b[1;32m    687\u001b[0m \u001b[38;5;124;03m    \"\"\"\u001b[39;00m\n\u001b[0;32m--> 688\u001b[0m     \u001b[38;5;28;01mreturn\u001b[39;00m \u001b[38;5;28;43mself\u001b[39;49m\u001b[38;5;241;43m.\u001b[39;49m\u001b[43m_columns\u001b[49m\u001b[43m[\u001b[49m\u001b[43mname\u001b[49m\u001b[43m]\u001b[49m\u001b[38;5;241m.\u001b[39mdata\n",
      "\u001b[0;31mKeyError\u001b[0m: 'norm_x'"
     ]
    }
   ],
   "source": [
    "outnow = False\n",
    "errg = {}\n",
    "for epoch in range(1):\n",
    "    i = 0\n",
    "    for b, l in train:\n",
    "        #try:\n",
    "            b = b.to(device)\n",
    "            l = l.to(device)\n",
    "            init_graph(b)\n",
    "            graph_indices = gridify_indices(b, grid_size)\n",
    "            h = clf(b, 'h', graph_indices)\n",
    "            loss = F.mse_loss(h, l)\n",
    "            opt.zero_grad()\n",
    "            loss.backward()\n",
    "            opt.step()\n",
    "            i += 1\n",
    "            \n",
    "        #except DGLErr:\n",
    "        #    errg[i] = b\n",
    "        #    raise(DGLErr)"
   ]
  },
  {
   "cell_type": "code",
   "execution_count": null,
   "metadata": {},
   "outputs": [],
   "source": []
  },
  {
   "cell_type": "code",
   "execution_count": 100,
   "metadata": {},
   "outputs": [],
   "source": [
    "torch.save(clf.state_dict(), 'test.pt')"
   ]
  }
 ],
 "metadata": {
  "kernelspec": {
   "display_name": "graph_classification",
   "language": "python",
   "name": "python3"
  },
  "language_info": {
   "codemirror_mode": {
    "name": "ipython",
    "version": 3
   },
   "file_extension": ".py",
   "mimetype": "text/x-python",
   "name": "python",
   "nbconvert_exporter": "python",
   "pygments_lexer": "ipython3",
   "version": "3.8.10"
  }
 },
 "nbformat": 4,
 "nbformat_minor": 2
}
