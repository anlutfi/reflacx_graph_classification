{
 "cells": [
  {
   "cell_type": "code",
   "execution_count": null,
   "metadata": {},
   "outputs": [],
   "source": [
    "import dgl\n",
    "import dgl.function as fn\n",
    "import torch\n",
    "import torch.nn as nn\n",
    "import torch.nn.functional as F\n",
    "\n",
    "\n",
    "from iou_graph import IOUGraph\n",
    "from dgl_reflacx_tools.tools import gridify, gridify_indices, gridify_by_indices, grid_readout\n",
    "\n",
    "from dgl_reflacx_tools.dgl_reflacx_collection import GraphCollection"
   ]
  },
  {
   "cell_type": "code",
   "execution_count": null,
   "metadata": {},
   "outputs": [],
   "source": [
    "dataset_pth = 'datasets/reflacx_densnet225_iou'\n",
    "collection = GraphCollection(dataset_pth, IOUGraph)"
   ]
  },
  {
   "cell_type": "markdown",
   "metadata": {},
   "source": [
    "#### Getting sample batch"
   ]
  },
  {
   "cell_type": "code",
   "execution_count": null,
   "metadata": {},
   "outputs": [],
   "source": [
    "batch_size = 5\n",
    "grid_size = 4"
   ]
  },
  {
   "cell_type": "code",
   "execution_count": null,
   "metadata": {},
   "outputs": [],
   "source": [
    "pairs = [collection.fetch_by_dgl_index(i) for i in range(batch_size)]"
   ]
  },
  {
   "cell_type": "code",
   "execution_count": null,
   "metadata": {},
   "outputs": [],
   "source": [
    "graphs = [pair.dgl_graph for pair in pairs]\n",
    "labels = [pair.dgl_labels for pair in pairs]\n"
   ]
  },
  {
   "cell_type": "code",
   "execution_count": null,
   "metadata": {},
   "outputs": [],
   "source": [
    "batch = dgl.batch(graphs)\n",
    "labels = torch.cat(labels).reshape((batch_size, len(labels[0])))\n",
    "\n",
    "batch, labels.shape"
   ]
  },
  {
   "cell_type": "markdown",
   "metadata": {},
   "source": [
    "#### initialization"
   ]
  },
  {
   "cell_type": "code",
   "execution_count": null,
   "metadata": {},
   "outputs": [],
   "source": [
    "batch.ndata['h'] = torch.cat([batch.ndata['duration'].unsqueeze(1), batch.ndata['feats']], dim=1)\n",
    "batch.update_all(fn.copy_e('weight', 'm'), fn.sum('m', 'neigh_weight'))\n"
   ]
  },
  {
   "cell_type": "code",
   "execution_count": null,
   "metadata": {},
   "outputs": [],
   "source": [
    "batch.ndata['h'].shape"
   ]
  },
  {
   "cell_type": "code",
   "execution_count": null,
   "metadata": {},
   "outputs": [],
   "source": [
    "batch.ndata.keys()"
   ]
  },
  {
   "cell_type": "code",
   "execution_count": null,
   "metadata": {},
   "outputs": [],
   "source": [
    "batch.edata.keys()"
   ]
  },
  {
   "cell_type": "markdown",
   "metadata": {},
   "source": [
    "#### convolution module on a grid"
   ]
  },
  {
   "cell_type": "code",
   "execution_count": null,
   "metadata": {},
   "outputs": [],
   "source": [
    "def pass_messages(g, feat_nm, w_nm, sum_w_nm):\n",
    "    g.update_all(fn.v_mul_e(feat_nm, w_nm, 'm'), fn.sum('m', feat_nm))\n",
    "    g.ndata[feat_nm] = torch.divide(batch.ndata[feat_nm], batch.ndata[sum_w_nm].unsqueeze(1))"
   ]
  },
  {
   "cell_type": "code",
   "execution_count": null,
   "metadata": {},
   "outputs": [],
   "source": [
    "class GridConv(nn.Module):\n",
    "    def __init__(self,\n",
    "                 in_feats,\n",
    "                 out_feats,\n",
    "                 grid_indices,\n",
    "                 pass_messages,\n",
    "                 activation=F.relu):\n",
    "        super(GridConv, self).__init__()\n",
    "        self.grid_lin = [[nn.Linear(in_feats, out_feats) for j in range(len(grid_indices[0]))]\n",
    "                         for i in range(len(grid_indices))]\n",
    "        self.grid_indices = grid_indices\n",
    "        self.pass_messages = pass_messages\n",
    "        self.activation = activation\n",
    "\n",
    "    def forward(self, graph, feat_nm):\n",
    "        # pass messages (convolution) in whole graph\n",
    "        self.pass_messages(graph, feat_nm)\n",
    "        \n",
    "        # activation on grid cell model\n",
    "        grid = gridify_by_indices(graph, self.grid_indices)\n",
    "        new_feats = None\n",
    "        i_s = None\n",
    "        for i, line in enumerate(grid):\n",
    "            for j, sg in enumerate(line):\n",
    "                conv_feats = self.activation(self.grid_lin[i][j](sg.ndata[feat_nm]))\n",
    "                \n",
    "                #concatenate new features to uptadate parent graph\n",
    "                if new_feats is None:\n",
    "                    new_feats = conv_feats\n",
    "                    i_s = self.grid_indices[i][j]\n",
    "                else:\n",
    "                    new_feats = torch.cat([new_feats, conv_feats])\n",
    "                    i_s = torch.cat([i_s, self.grid_indices[i][j]])\n",
    "        \n",
    "        #update parent graph with features calculated by grid\n",
    "        i_s = torch.sort(i_s).indices\n",
    "        new_feats = new_feats[i_s]\n",
    "        graph.ndata[feat_nm] = new_feats\n",
    "        \n",
    "        return new_feats"
   ]
  },
  {
   "cell_type": "code",
   "execution_count": null,
   "metadata": {},
   "outputs": [],
   "source": [
    "f_message = lambda g, feat_nm: pass_messages(g, feat_nm, 'weight', 'neigh_weight')"
   ]
  },
  {
   "cell_type": "code",
   "execution_count": null,
   "metadata": {},
   "outputs": [],
   "source": [
    "conv = GridConv(1025, 1025, gridify_indices(batch, grid_size), f_message)"
   ]
  },
  {
   "cell_type": "code",
   "execution_count": null,
   "metadata": {},
   "outputs": [],
   "source": [
    "with batch.local_scope():\n",
    "   h = conv(batch, 'h')"
   ]
  },
  {
   "cell_type": "code",
   "execution_count": null,
   "metadata": {},
   "outputs": [],
   "source": [
    "h.shape"
   ]
  },
  {
   "cell_type": "code",
   "execution_count": null,
   "metadata": {},
   "outputs": [],
   "source": [
    "from dgl_reflacx_tools.tools import Readout"
   ]
  },
  {
   "cell_type": "code",
   "execution_count": null,
   "metadata": {},
   "outputs": [],
   "source": [
    "class ReflacxReadout(Readout):\n",
    "    def __init__(self):\n",
    "        feats_and_aggrs = [('duration', lambda x, y: dgl.sum_nodes(x, y).cpu()),\n",
    "                           ('h', lambda x, y: dgl.mean_nodes(x, y).cpu())]\n",
    "        super().__init__(feats_and_aggrs)"
   ]
  },
  {
   "cell_type": "code",
   "execution_count": null,
   "metadata": {},
   "outputs": [],
   "source": [
    "class Classifier(nn.Module):\n",
    "    def __init__(self,\n",
    "                 input_dim,\n",
    "                 conv_dims,\n",
    "                 class_dims,\n",
    "                 n_classes,\n",
    "                 grid_indices,\n",
    "                 pass_messages,\n",
    "                 readout,\n",
    "                 activation=F.relu): # TODO make possibel to have diff activations for conv and fc\n",
    "        super(Classifier, self).__init__()\n",
    "        self.grid_indices = grid_indices\n",
    "        new_conv = lambda in_dims, out_dims: GridConv(in_dims,\n",
    "                                                      out_dims,\n",
    "                                                      grid_indices,\n",
    "                                                      pass_messages,\n",
    "                                                      activation)\n",
    "        self.convs = [new_conv(input_dim,\n",
    "                               (conv_dims[0]\n",
    "                                if len(conv_dims) > 0\n",
    "                                else input_dim))]\n",
    "        for i, dim in enumerate(conv_dims[1:], start=1):\n",
    "            self.convs.append(new_conv(conv_dims[i - 1], dim))\n",
    "\n",
    "        # TODO fix hardcoded hell\n",
    "        self.fcs = [nn.Linear(grid_size * grid_size * (conv_dims[-1] + 1) if len(conv_dims) > 0 else input_dim,\n",
    "                              class_dims[0] if len(class_dims) > 0 else n_classes)]\n",
    "        for i, dim in enumerate(class_dims[1:], start=1):\n",
    "            self.fcs.append(nn.Linear(class_dims[i - 1], dim))\n",
    "        if len(self.fcs) > 1:\n",
    "            self.fcs.append(nn.Linear(class_dims[-1], n_classes))\n",
    "\n",
    "        self.readout = readout\n",
    "        self.activation = activation\n",
    "\n",
    "\n",
    "    def forward(self, graph, conv_feat_nm):\n",
    "        h = None\n",
    "        with graph.local_scope():\n",
    "            for conv_l in self.convs:\n",
    "                h = conv_l(graph, conv_feat_nm)\n",
    "                print('h', h.shape)\n",
    "            grid = gridify_by_indices(graph, self.grid_indices)\n",
    "            h = self.readout(grid)\n",
    "            print('ro', h.shape)\n",
    "            for fc_l in self.fcs[:-1]:\n",
    "                h = self.activation(fc_l(h))\n",
    "                print('h', h.shape)\n",
    "            h = self.fcs[-1](h)\n",
    "            print('preds', h.shape)\n",
    "\n",
    "        return h\n",
    "\n",
    "        "
   ]
  },
  {
   "cell_type": "code",
   "execution_count": null,
   "metadata": {},
   "outputs": [],
   "source": [
    "clf = Classifier(1025,\n",
    "                 [100, 200],\n",
    "                 [50, 40],\n",
    "                 10,\n",
    "                 gridify_indices(batch, grid_size),\n",
    "                 f_message,\n",
    "                 ReflacxReadout())"
   ]
  },
  {
   "cell_type": "code",
   "execution_count": null,
   "metadata": {},
   "outputs": [],
   "source": [
    "h = clf(batch, 'h')"
   ]
  },
  {
   "cell_type": "code",
   "execution_count": null,
   "metadata": {},
   "outputs": [],
   "source": [
    "h.shape"
   ]
  },
  {
   "cell_type": "code",
   "execution_count": null,
   "metadata": {},
   "outputs": [],
   "source": [
    "h"
   ]
  }
 ],
 "metadata": {
  "kernelspec": {
   "display_name": "graph_classification",
   "language": "python",
   "name": "python3"
  },
  "language_info": {
   "codemirror_mode": {
    "name": "ipython",
    "version": 3
   },
   "file_extension": ".py",
   "mimetype": "text/x-python",
   "name": "python",
   "nbconvert_exporter": "python",
   "pygments_lexer": "ipython3",
   "version": "3.8.10"
  }
 },
 "nbformat": 4,
 "nbformat_minor": 2
}
