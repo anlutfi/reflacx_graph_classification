{
 "cells": [
  {
   "cell_type": "code",
   "execution_count": 1,
   "metadata": {},
   "outputs": [],
   "source": [
    "import numpy as np\n",
    "import matplotlib.pyplot as plot\n",
    "from math import ceil"
   ]
  },
  {
   "cell_type": "code",
   "execution_count": 3,
   "metadata": {},
   "outputs": [
    {
     "name": "stdout",
     "output_type": "stream",
     "text": [
      "loading metadata\n",
      "metadata loaded from file\n"
     ]
    }
   ],
   "source": [
    "full_meta_path = '../reflacx_lib/full_meta.json' # if file doesn't exist, it will be created\n",
    "reflacx_dir = \"../data/reflacx\"\n",
    "mimic_dir = \"../data/mimic/reflacx_imgs\"\n",
    "\n",
    "from metadata import Metadata\n",
    "\n",
    "metadata = Metadata(reflacx_dir, mimic_dir, full_meta_path)"
   ]
  },
  {
   "cell_type": "code",
   "execution_count": 4,
   "metadata": {},
   "outputs": [],
   "source": [
    "dicom_id = '0658ad3c-b4f77a56-2ed1609f-ea71a443-d847a975'\n",
    "reflacx_id = 'P109R167865'"
   ]
  },
  {
   "cell_type": "code",
   "execution_count": 5,
   "metadata": {},
   "outputs": [
    {
     "data": {
      "text/plain": [
       "{'split': 'train',\n",
       " 'image': '../data/mimic/reflacx_imgs/0658ad3c-b4f77a56-2ed1609f-ea71a443-d847a975.dcm',\n",
       " 'subject_id': 13855491,\n",
       " 'image_size_x': 2544,\n",
       " 'image_size_y': 3056,\n",
       " 'Airway wall thickening': 0,\n",
       " 'Atelectasis': 0,\n",
       " 'Consolidation': 0,\n",
       " 'Emphysema': 0,\n",
       " 'Enlarged cardiac silhouette': 0,\n",
       " 'Fibrosis': 0,\n",
       " 'Fracture': 0,\n",
       " 'Groundglass opacity': 0,\n",
       " 'Mass': 0,\n",
       " 'Nodule': 0,\n",
       " 'Other': nan,\n",
       " 'Pleural effusion': 0,\n",
       " 'Pleural thickening': 0,\n",
       " 'Pneumothorax': 0,\n",
       " 'Pulmonary edema': 0,\n",
       " 'Quality issue': False,\n",
       " 'Support devices': False,\n",
       " 'Wide mediastinum': 1,\n",
       " 'fixations': '../data/reflacx/main_data/P109R167865/fixations.csv',\n",
       " 'transcription': '../data/reflacx/main_data/P109R167865/transcription.txt',\n",
       " 'anomaly_location_ellipses': '../data/reflacx/main_data/P109R167865/anomaly_location_ellipses.csv',\n",
       " 'chest_bounding_box': '../data/reflacx/main_data/P109R167865/chest_bounding_box.csv',\n",
       " 'timestamps_transcription': '../data/reflacx/main_data/P109R167865/timestamps_transcription.csv',\n",
       " 'heatmaps': '../data/reflacx/heatmaps_phase_1/20_1.npy'}"
      ]
     },
     "execution_count": 5,
     "metadata": {},
     "output_type": "execute_result"
    }
   ],
   "source": [
    "sample = metadata.get_sample(dicom_id, reflacx_id)\n",
    "sample.data"
   ]
  },
  {
   "cell_type": "code",
   "execution_count": null,
   "metadata": {},
   "outputs": [],
   "source": [
    "maxf = -1\n",
    "minf = -1\n",
    "s = 0\n",
    "count = 0\n",
    "for did in metadata.list_dicom_ids():\n",
    "    for rid in metadata.list_reflacx_ids(did):\n",
    "        sample = metadata.get_sample(did, rid)\n",
    "        if 'fixations' in sample.data:\n",
    "            fixations = len(sample.get_fixations())\n",
    "            count += 1\n",
    "            s += fixations\n",
    "            if maxf == -1:\n",
    "                maxf = fixations\n",
    "                minf = fixations\n",
    "            elif fixations > maxf:\n",
    "                maxf = fixations\n",
    "            elif fixations < minf:\n",
    "                minf = fixations\n",
    "\n",
    "print(\"max fixations per exam: {}\\nmin fixations per exam: {}\\navg fixations per exam: {:.2f}\".format(maxf, minf, s / count))"
   ]
  },
  {
   "cell_type": "code",
   "execution_count": null,
   "metadata": {},
   "outputs": [],
   "source": [
    "[s['sentence'] for s in sentences]"
   ]
  },
  {
   "cell_type": "code",
   "execution_count": null,
   "metadata": {},
   "outputs": [],
   "source": [
    "fbs = sample.draw_fixations_by_sentence()\n"
   ]
  },
  {
   "cell_type": "code",
   "execution_count": null,
   "metadata": {},
   "outputs": [],
   "source": [
    "fbs.keys()"
   ]
  },
  {
   "cell_type": "code",
   "execution_count": null,
   "metadata": {},
   "outputs": [],
   "source": [
    "\n",
    "f = plot.figure(figsize=(25, 50))\n",
    "\n",
    "for i, sentence in enumerate(fbs, start=1):\n",
    "    sp = f.add_subplot(6, 2, i)\n",
    "    sp.title.set_text(sentence)\n",
    "    plot.axis('off')\n",
    "    plot.imshow(fbs[sentence])"
   ]
  },
  {
   "cell_type": "code",
   "execution_count": null,
   "metadata": {},
   "outputs": [],
   "source": [
    "xray = sample.get_dicom_img()"
   ]
  },
  {
   "cell_type": "code",
   "execution_count": null,
   "metadata": {},
   "outputs": [],
   "source": [
    "plot.imshow(xray, cmap='gray')"
   ]
  },
  {
   "cell_type": "code",
   "execution_count": null,
   "metadata": {},
   "outputs": [],
   "source": [
    "sentences[1].keys()"
   ]
  },
  {
   "cell_type": "code",
   "execution_count": null,
   "metadata": {},
   "outputs": [],
   "source": [
    "fixations = sentences[1]['fixations']\n",
    "fixations[0]"
   ]
  },
  {
   "cell_type": "code",
   "execution_count": null,
   "metadata": {},
   "outputs": [],
   "source": [
    "fixations_by_sentence = sample.draw_fixations_by_sentence()\n",
    "for sentence in list(fixations_by_sentence.keys())[1:-1]:\n",
    "    print(sentence)\n",
    "\n"
   ]
  },
  {
   "cell_type": "code",
   "execution_count": null,
   "metadata": {},
   "outputs": [],
   "source": [
    "img = fixations_by_sentence['the ascending aorta may be slightly dilated']\n",
    "plot.imshow(img)"
   ]
  },
  {
   "cell_type": "code",
   "execution_count": null,
   "metadata": {},
   "outputs": [],
   "source": [
    "import cv2"
   ]
  },
  {
   "cell_type": "code",
   "execution_count": null,
   "metadata": {},
   "outputs": [],
   "source": [
    "img2 = cv2.rectangle(img, (125, 420), (2265, 2544), (255, 150, 0), 20)\n",
    "img2 = cv2.rectangle(img, (505, 779), (769, 1043), (0, 255, 0), 20)\n",
    "plot.imshow(img2)"
   ]
  },
  {
   "cell_type": "code",
   "execution_count": null,
   "metadata": {},
   "outputs": [],
   "source": [
    "sample.get_chest_bounding_box(), fixations[3]"
   ]
  },
  {
   "cell_type": "code",
   "execution_count": null,
   "metadata": {},
   "outputs": [],
   "source": [
    "n = get_fixation_node(fixations[3], chest_bb)\n",
    "print('duration: {:.2f}'.format(n.duration))\n",
    "print('norm_x: {:.2f}'.format(n.norm_x))\n",
    "print('norm_y: {:.2f}'.format(n.norm_y))\n",
    "print('viewed_x_min: {}'.format(n.viewed_x_min))\n",
    "print('viewed_x_max: {}'.format(n.viewed_x_max))\n",
    "print('viewed_y_min: {}'.format(n.viewed_y_min))\n",
    "print('viewed_y_max: {}'.format(n.viewed_y_max))"
   ]
  },
  {
   "cell_type": "markdown",
   "metadata": {},
   "source": [
    "### Attempting to structure fixations as a graph"
   ]
  },
  {
   "cell_type": "code",
   "execution_count": null,
   "metadata": {},
   "outputs": [],
   "source": [
    "from pyvis.network import Network\n",
    "import networkx as nx"
   ]
  },
  {
   "cell_type": "code",
   "execution_count": null,
   "metadata": {},
   "outputs": [],
   "source": [
    "f = fixations[0]\n",
    "f"
   ]
  },
  {
   "cell_type": "code",
   "execution_count": null,
   "metadata": {},
   "outputs": [],
   "source": [
    "[{'w': f['xmax_shown_from_image'] - f['xmin_shown_from_image'],\n",
    "  'h': f['ymax_shown_from_image'] - f['ymin_shown_from_image']}\n",
    "  for f in fixations]"
   ]
  },
  {
   "cell_type": "code",
   "execution_count": null,
   "metadata": {},
   "outputs": [],
   "source": [
    "g = Network(notebook=True, cdn_resources='remote', directed=True)\n",
    "g.toggle_physics(False)\n",
    "\n",
    "for i, node in enumerate(fixations, start=1):\n",
    "    g.add_node(i,\n",
    "              label=i,\n",
    "              title=str(i),\n",
    "              value=node['timestamp_end_fixation'] - node['timestamp_start_fixation'],\n",
    "              x=node['x_position'],\n",
    "              y=node['y_position'],\n",
    "              color='green' if i == 1 else 'cyan' if i == len(fixations) else \"#97c2fc\")\n"
   ]
  },
  {
   "cell_type": "markdown",
   "metadata": {},
   "source": [
    "scan order edges"
   ]
  },
  {
   "cell_type": "code",
   "execution_count": null,
   "metadata": {},
   "outputs": [],
   "source": [
    "for i in range(1, len(g.node_ids)):\n",
    "    g.add_edge(g.node_ids[i - 1], g.node_ids[i], width=10, color='purple')"
   ]
  },
  {
   "cell_type": "markdown",
   "metadata": {},
   "source": [
    "euclidean edges"
   ]
  },
  {
   "cell_type": "code",
   "execution_count": null,
   "metadata": {},
   "outputs": [],
   "source": [
    "for i, head in enumerate(g.nodes):\n",
    "    for j, tail in enumerate(g.nodes):\n",
    "        if i == j:\n",
    "            continue\n",
    "        g.add_edge(head['id'],\n",
    "                   tail['id'],\n",
    "                   weight=((head['x'] - tail['x']) ** 2 + (head['y'] - tail['y']) ** 2) ** 0.5,\n",
    "                   color='0x00cccc',\n",
    "                   hidden=True)"
   ]
  },
  {
   "cell_type": "markdown",
   "metadata": {},
   "source": [
    "hierarchical (zoom) edges"
   ]
  },
  {
   "cell_type": "code",
   "execution_count": null,
   "metadata": {},
   "outputs": [],
   "source": [
    "g.save_graph('example.html')"
   ]
  },
  {
   "cell_type": "code",
   "execution_count": null,
   "metadata": {},
   "outputs": [],
   "source": [
    "g = Network(notebook=True, cdn_resources='remote')\n",
    "nxg = nx.complete_graph(5)\n",
    "g.from_nx(nxg)\n",
    "g.show(\"example.html\")"
   ]
  },
  {
   "cell_type": "markdown",
   "metadata": {},
   "source": [
    "### Getting relevant info from sample"
   ]
  },
  {
   "cell_type": "code",
   "execution_count": null,
   "metadata": {},
   "outputs": [],
   "source": [
    "sample = metadata.get_sample(dicom_id, reflacx_id)"
   ]
  },
  {
   "cell_type": "code",
   "execution_count": null,
   "metadata": {},
   "outputs": [],
   "source": [
    "sentences = sample.get_timed_sentences()\n",
    "sentences[1]"
   ]
  },
  {
   "cell_type": "code",
   "execution_count": null,
   "metadata": {},
   "outputs": [],
   "source": [
    "chest = sample.get_chest_bounding_box()\n",
    "xmin = chest['xmin']\n",
    "ymin = chest['ymin']\n",
    "xmax = chest['xmax']\n",
    "ymax = chest['ymax']\n",
    "xmin, ymin, xmax, ymax"
   ]
  },
  {
   "cell_type": "code",
   "execution_count": null,
   "metadata": {},
   "outputs": [],
   "source": [
    "fixation = sentences[1]['fixations'][0]\n",
    "fixation"
   ]
  },
  {
   "cell_type": "code",
   "execution_count": null,
   "metadata": {},
   "outputs": [],
   "source": [
    "duration = fixation['timestamp_end_fixation'] - fixation['timestamp_start_fixation']\n",
    "norm_x = (fixation['x_position'] - xmin) / (xmax - xmin)\n",
    "norm_y = (fixation['y_position'] - ymin) / (ymax - ymin)\n",
    "norm_x,"
   ]
  },
  {
   "cell_type": "markdown",
   "metadata": {},
   "source": [
    "### getting underlying crop, using angular resolution"
   ]
  },
  {
   "cell_type": "code",
   "execution_count": null,
   "metadata": {},
   "outputs": [],
   "source": [
    "xray.shape"
   ]
  },
  {
   "cell_type": "code",
   "execution_count": null,
   "metadata": {},
   "outputs": [],
   "source": [
    "# assuming 1 degree of fov and doubling it for margin\n",
    "viewed_x_min = int(max(0, fixation['x_position'] - fixation['angular_resolution_x_pixels_per_degree']))\n",
    "viewed_x_max = int(min(xray.shape[1], fixation['x_position'] + fixation['angular_resolution_x_pixels_per_degree']))\n",
    "viewed_y_min = int(max(0, fixation['y_position'] - fixation['angular_resolution_y_pixels_per_degree']))\n",
    "viewed_y_max = int(min(xray.shape[0], fixation['y_position'] + fixation['angular_resolution_y_pixels_per_degree']))\n",
    "\n",
    "viewed_x_min, viewed_x_max, viewed_y_min, viewed_y_max\n"
   ]
  },
  {
   "cell_type": "code",
   "execution_count": null,
   "metadata": {},
   "outputs": [],
   "source": [
    "plot.imshow(fixations_by_sentence['the ascending aorta may be slightly dilated'][1294:1552, 625:887])"
   ]
  },
  {
   "cell_type": "markdown",
   "metadata": {},
   "source": [
    "consolidating into function"
   ]
  },
  {
   "cell_type": "code",
   "execution_count": null,
   "metadata": {},
   "outputs": [],
   "source": [
    "class FixationNode:\n",
    "    def __init__(self,\n",
    "                 duration,\n",
    "                 norm_x,\n",
    "                 norm_y,\n",
    "                 viewed_x_min,\n",
    "                 viewed_x_max,\n",
    "                 viewed_y_min,\n",
    "                 viewed_y_max):\n",
    "        self.duration = duration\n",
    "        self.norm_x = norm_x\n",
    "        self.norm_y = norm_y\n",
    "        self.viewed_x_min = viewed_x_min\n",
    "        self.viewed_x_max = viewed_x_max\n",
    "        self.viewed_y_min = viewed_y_min\n",
    "        self.viewed_y_max = viewed_y_max\n",
    "        "
   ]
  },
  {
   "cell_type": "code",
   "execution_count": null,
   "metadata": {},
   "outputs": [],
   "source": [
    "def get_fixation_node(fixation, chest_bb, std_devs=1):\n",
    "    duration = fixation['timestamp_end_fixation'] - fixation['timestamp_start_fixation']\n",
    "    norm_x = (fixation['x_position'] - chest_bb['xmin']) / (chest_bb['xmax'] - chest_bb['xmin'])\n",
    "    norm_y = (fixation['y_position'] - chest_bb['ymin']) / (chest_bb['ymax'] - chest_bb['ymin'])\n",
    "\n",
    "    if norm_x < 0 or norm_x > 1 or norm_y < 0 or norm_y > 1:\n",
    "        return None\n",
    "\n",
    "    ang_x = fixation['angular_resolution_x_pixels_per_degree']\n",
    "    ang_y = fixation['angular_resolution_y_pixels_per_degree']\n",
    "\n",
    "    viewed_x_min = int(max(0, fixation['x_position'] - ang_x * std_devs))\n",
    "    viewed_x_max = int(min(xray.shape[1], fixation['x_position'] + ang_x * std_devs))\n",
    "    viewed_y_min = int(max(0, fixation['y_position'] - ang_y * std_devs))\n",
    "    viewed_y_max = int(min(xray.shape[0], fixation['y_position'] + ang_y * std_devs))\n",
    "\n",
    "    return FixationNode(duration,\n",
    "                        norm_x,\n",
    "                        norm_y,\n",
    "                        viewed_x_min,\n",
    "                        viewed_x_max,\n",
    "                        viewed_y_min,\n",
    "                        viewed_y_max\n",
    "                       )\n",
    "    \n",
    "     "
   ]
  },
  {
   "cell_type": "code",
   "execution_count": null,
   "metadata": {},
   "outputs": [],
   "source": [
    "d = {}\n",
    "for did in metadata.list_dicom_ids():\n",
    "    for rid in metadata.list_reflacx_ids(did):\n",
    "        sample = metadata.get_sample(did, rid)\n",
    "        for k in sample.data.keys():\n",
    "            if k not in d:\n",
    "                d[k] = 0\n",
    "            d[k] += 1\n",
    "\n",
    "d"
   ]
  },
  {
   "cell_type": "code",
   "execution_count": null,
   "metadata": {},
   "outputs": [],
   "source": [
    "sample.get_fixations()"
   ]
  },
  {
   "cell_type": "code",
   "execution_count": null,
   "metadata": {},
   "outputs": [],
   "source": [
    "class ScanPathGraph:\n",
    "    def __init__(self, calc_edge, reflacx_sample=None, dicom_id=None, reflacx_id=None, metadata=None, std_devs=1):\n",
    "        if reflacx_sample is None:\n",
    "            reflacx_sample = metadata.get_sample(dicom_id, reflacx_id)\n",
    "        self.dicom_id = dicom_id\n",
    "        self.reflacx_id = reflacx_id\n",
    "        self.xray = sample.get_dicom_img()\n",
    "        self.chest_bb = sample.get_chest_bounding_box()\n",
    "\n",
    "        self.phase1_labels = {reflacx_sample.data[k] \n",
    "                              for k in [\"Airway wall thickening\",\n",
    "                                        \"Atelectasis\",\n",
    "                                        \"Consolidation\",\n",
    "                                        \"Emphysema\",\n",
    "                                        \"Enlarged cardiac silhouette\",\n",
    "                                        \"Fibrosis\",\n",
    "                                        \"Fracture\",\n",
    "                                        \"Groundglass opacity\",\n",
    "                                        \"Mass\",\n",
    "                                        \"Nodule\",\n",
    "                                        \"Pleural effusion\",\n",
    "                                        \"Pleural thickening\",\n",
    "                                        \"Pneumothorax\",\n",
    "                                        \"Pulmonary edema\",\n",
    "                                        \"Wide mediastinum\"]\n",
    "                              if k in reflacx_sample.data}\n",
    "        \n",
    "        self.phase2_3_labels = {reflacx_sample.data[k] \n",
    "                                for k in [\"Abnormal mediastinal contour\",\n",
    "                                          \"Acute fracture\",\n",
    "                                          \"Atelectasis\",\n",
    "                                          \"Consolidation\",\n",
    "                                          \"Enlarged cardiac silhouette\",\n",
    "                                          \"Enlarged hilum\",\n",
    "                                          \"Groundglass opacity\",\n",
    "                                          \"Hiatal hernia\",\n",
    "                                          \"High lung volume / emphysema, Interstitial lung disease\",\n",
    "                                          \"Lung nodule or mass\",\n",
    "                                          \"Pleural abnormality\",\n",
    "                                          \"Pneumothorax\",\n",
    "                                          \"Pulmonary edema\"]\n",
    "                                if k in reflacx_sample.data}\n",
    "        \n",
    "        fixations = reflacx_sample.get_fixations()\n",
    "        self.nodes = []\n",
    "\n",
    "        for fixation in fixations:\n",
    "            duration = fixation['timestamp_end_fixation'] - fixation['timestamp_start_fixation']\n",
    "            norm_x = (fixation['x_position'] - self.chest_bb['xmin']) / (self.chest_bb['xmax'] - self.chest_bb['xmin'])\n",
    "            norm_y = (fixation['y_position'] - self.chest_bb['ymin']) / (self.chest_bb['ymax'] - self.chest_bb['ymin'])\n",
    "\n",
    "            if norm_x < 0 or norm_x > 1 or norm_y < 0 or norm_y > 1: # fixation out of chest bb\n",
    "                continue\n",
    "\n",
    "            ang_x = fixation['angular_resolution_x_pixels_per_degree']\n",
    "            ang_y = fixation['angular_resolution_y_pixels_per_degree']\n",
    "\n",
    "            viewed_x_min = int(max(0, fixation['x_position'] - ang_x * std_devs))\n",
    "            viewed_x_max = int(min(xray.shape[1], fixation['x_position'] + ang_x * std_devs))\n",
    "            viewed_y_min = int(max(0, fixation['y_position'] - ang_y * std_devs))\n",
    "            viewed_y_max = int(min(xray.shape[0], fixation['y_position'] + ang_y * std_devs))\n",
    "\n",
    "            self.nodes.append(FixationNode(duration,\n",
    "                                           norm_x,\n",
    "                                           norm_y,\n",
    "                                           viewed_x_min,\n",
    "                                           viewed_x_max,\n",
    "                                           viewed_y_min,\n",
    "                                           viewed_y_max))\n",
    "            \n",
    "        self.adj_mat = np.array([[calc_edge(node_a, node_b)\n",
    "                                  for node_b in self.nodes]\n",
    "                                for node_a in self.nodes])\n",
    "        \n",
    "        \n",
    "    \n",
    "    \n",
    "    def __init__(self, sentence, xray, chest_bb, std_devs=1):\n",
    "        fixations = sentence['fixations']\n",
    "        node_list = []\n",
    "        self.xray = xray\n",
    "        self.chest_bb = chest_bb\n",
    "\n",
    "        for fixation in fixations:\n",
    "            duration = fixation['timestamp_end_fixation'] - fixation['timestamp_start_fixation']\n",
    "            norm_x = (fixation['x_position'] - chest_bb['xmin']) / (chest_bb['xmax'] - chest_bb['xmin'])\n",
    "            norm_y = (fixation['y_position'] - chest_bb['ymin']) / (chest_bb['ymax'] - chest_bb['ymin'])\n",
    "\n",
    "            if norm_x < 0 or norm_x > 1 or norm_y < 0 or norm_y > 1: # fixation out of chest bb\n",
    "                continue\n",
    "\n",
    "            ang_x = fixation['angular_resolution_x_pixels_per_degree']\n",
    "            ang_y = fixation['angular_resolution_y_pixels_per_degree']\n",
    "\n",
    "            viewed_x_min = int(max(0, fixation['x_position'] - ang_x * std_devs))\n",
    "            viewed_x_max = int(min(xray.shape[1], fixation['x_position'] + ang_x * std_devs))\n",
    "            viewed_y_min = int(max(0, fixation['y_position'] - ang_y * std_devs))\n",
    "            viewed_y_max = int(min(xray.shape[0], fixation['y_position'] + ang_y * std_devs))\n",
    "\n",
    "            node_list.append(FixationNode(duration,\n",
    "                                          norm_x,\n",
    "                                          norm_y,\n",
    "                                          viewed_x_min,\n",
    "                                          viewed_x_max,\n",
    "                                          viewed_y_min,\n",
    "                                          viewed_y_max))\n",
    "            \n",
    "        self.nodes = dict(enumerate(node_list))\n",
    "        self._make_scanpath_edges()\n",
    "        self._make_iou_edges()\n",
    "        self._make_euclidean_edges()\n",
    "        \n",
    "    \n",
    "    def _make_scanpath_edges(self):\n",
    "        self.scanpath_adj_mat = np.array([[1 if abs(i - j) <= 1 else 0\n",
    "                                          for j in range(len(self.nodes))]\n",
    "                                         for i in range(len(self.nodes))]) # TODO review self edges\n",
    "\n",
    "\n",
    "    def _make_iou_edges(self):\n",
    "        iou_adj_mat = [[0.0 for j in range(len(self.nodes))]\n",
    "                        for i in range(len(self.nodes))]\n",
    "        for i in self.nodes:\n",
    "            for j in self.nodes:\n",
    "                if i == j:\n",
    "                    iou_adj_mat[i][j] = 1.0 # TODO review self edges\n",
    "                    continue\n",
    "                node_i = self.nodes[i]\n",
    "                node_j = self.nodes[j]\n",
    "\n",
    "                xA = max(node_i.viewed_x_min, node_j.viewed_x_min)\n",
    "                yA = max(node_i.viewed_y_min, node_j.viewed_y_min)\n",
    "                xB = min(node_i.viewed_x_max, node_j.viewed_x_max)\n",
    "                yB = min(node_i.viewed_y_max, node_j.viewed_y_max)\n",
    "                \n",
    "                intersec = max(0, xB - xA + 1) * max(0, yB - yA + 1)\n",
    "                \n",
    "                i_area = ((node_i.viewed_x_max - node_i.viewed_x_min + 1) *\n",
    "                            (node_i.viewed_y_max - node_i.viewed_y_min + 1))\n",
    "                j_area = ((node_j.viewed_x_max - node_j.viewed_x_min + 1) *\n",
    "                            (node_j.viewed_y_max - node_j.viewed_y_min + 1))\n",
    "                \n",
    "                iou = intersec / (i_area + j_area - intersec)\n",
    "\n",
    "                iou_adj_mat[i][j] = iou\n",
    "\n",
    "        self.iou_adj_mat = np.array(iou_adj_mat)\n",
    "\n",
    "\n",
    "    def _make_euclidean_edges(self):\n",
    "        euc_adj_mat = [[(2 ** 0.5 - \n",
    "                         ((self.nodes[i].norm_x - self.nodes[j].norm_x) ** 2 +\n",
    "                          (self.nodes[i].norm_y - self.nodes[j].norm_y) ** 2\n",
    "                         ) ** 0.5\n",
    "                        ) / (2 ** 0.5)\n",
    "                       for j in range(len(self.nodes))]\n",
    "                       for i in range(len(self.nodes))\n",
    "                      ] # TODO review self edges\n",
    "        self.euc_adj_mat = np.array(euc_adj_mat)\n",
    "\n",
    "    \n",
    "    def draw(self, outdir='.'):\n",
    "        def start_graph():\n",
    "            g = Network(notebook=True, cdn_resources='remote')\n",
    "            g.toggle_physics(False)\n",
    "\n",
    "            for k in self.nodes:\n",
    "                n = self.nodes[k]\n",
    "                g.add_node(k,\n",
    "                        label=str(k),\n",
    "                        title=str(k),\n",
    "                        value=int(n.duration * 1000),\n",
    "                        x=n.norm_x * 1000,\n",
    "                        y=n.norm_y * 1000,\n",
    "                        color=('orange'\n",
    "                            if k == 0\n",
    "                            else ('cyan' if k == len(self.nodes) - 1\n",
    "                                    else \"#97c2fc\")),\n",
    "                        shape='circle')\n",
    "            return g\n",
    "        \n",
    "        g = start_graph()\n",
    "        for i in range(len(self.scanpath_adj_mat)):\n",
    "            for j in range(i + 1, len(self.scanpath_adj_mat)):\n",
    "                if i == j or self.scanpath_adj_mat[i][j] == 0:\n",
    "                    continue\n",
    "                g.add_edge(i,\n",
    "                           j,\n",
    "                           color='#88cccc')\n",
    "        g.save_graph('{}/scanpath.html'.format(outdir))\n",
    "\n",
    "        g = start_graph()\n",
    "        for i in range(len(self.euc_adj_mat)):\n",
    "            for j in range(i + 1, len(self.euc_adj_mat)):\n",
    "                if i == j:\n",
    "                    continue\n",
    "                g.add_edge(i,\n",
    "                           j,\n",
    "                           weight=self.euc_adj_mat[i][j],\n",
    "                           color='#cc88cc')\n",
    "        g.save_graph('{}/euclidean.html'.format(outdir))\n",
    "        \n",
    "        g = start_graph()\n",
    "        for i in range(len(self.iou_adj_mat)):\n",
    "            for j in range(i + 1, len(self.iou_adj_mat)):\n",
    "                if i == j or self.iou_adj_mat[i][j] == 0:\n",
    "                    continue\n",
    "                g.add_edge(i,\n",
    "                           j,\n",
    "                           weight=self.iou_adj_mat[i][j],\n",
    "                           label=\"{:.2f}\".format(self.iou_adj_mat[i][j]),\n",
    "                           color='#cccc88')\n",
    "        g.save_graph('{}/iou.html'.format(outdir))"
   ]
  },
  {
   "cell_type": "code",
   "execution_count": null,
   "metadata": {},
   "outputs": [],
   "source": [
    "class ScanPathGraph:\n",
    "    def __init__(self, calc_edge, reflacx_sample=None, dicom_id=None, reflacx_id=None, metadata=None, std_devs=1):\n",
    "        if reflacx_sample is None:\n",
    "            reflacx_sample = metadata.get_sample(dicom_id, reflacx_id)\n",
    "        self.dicom_id = dicom_id\n",
    "        self.reflacx_id = reflacx_id\n",
    "        self.xray = sample.get_dicom_img()\n",
    "        self.chest_bb = sample.get_chest_bounding_box()\n",
    "\n",
    "        self.phase1_labels = {reflacx_sample.data[k] \n",
    "                              for k in [\"Airway wall thickening\",\n",
    "                                        \"Atelectasis\",\n",
    "                                        \"Consolidation\",\n",
    "                                        \"Emphysema\",\n",
    "                                        \"Enlarged cardiac silhouette\",\n",
    "                                        \"Fibrosis\",\n",
    "                                        \"Fracture\",\n",
    "                                        \"Groundglass opacity\",\n",
    "                                        \"Mass\",\n",
    "                                        \"Nodule\",\n",
    "                                        \"Pleural effusion\",\n",
    "                                        \"Pleural thickening\",\n",
    "                                        \"Pneumothorax\",\n",
    "                                        \"Pulmonary edema\",\n",
    "                                        \"Wide mediastinum\"]\n",
    "                              if k in reflacx_sample.data}\n",
    "        \n",
    "        self.phase2_3_labels = {reflacx_sample.data[k] \n",
    "                                for k in [\"Abnormal mediastinal contour\",\n",
    "                                          \"Acute fracture\",\n",
    "                                          \"Atelectasis\",\n",
    "                                          \"Consolidation\",\n",
    "                                          \"Enlarged cardiac silhouette\",\n",
    "                                          \"Enlarged hilum\",\n",
    "                                          \"Groundglass opacity\",\n",
    "                                          \"Hiatal hernia\",\n",
    "                                          \"High lung volume / emphysema, Interstitial lung disease\",\n",
    "                                          \"Lung nodule or mass\",\n",
    "                                          \"Pleural abnormality\",\n",
    "                                          \"Pneumothorax\",\n",
    "                                          \"Pulmonary edema\"]\n",
    "                                if k in reflacx_sample.data}\n",
    "        \n",
    "        fixations = reflacx_sample.get_fixations()\n",
    "        self.nodes = []\n",
    "\n",
    "        for fixation in fixations:\n",
    "            duration = fixation['timestamp_end_fixation'] - fixation['timestamp_start_fixation']\n",
    "            norm_x = (fixation['x_position'] - self.chest_bb['xmin']) / (self.chest_bb['xmax'] - self.chest_bb['xmin'])\n",
    "            norm_y = (fixation['y_position'] - self.chest_bb['ymin']) / (self.chest_bb['ymax'] - self.chest_bb['ymin'])\n",
    "\n",
    "            if norm_x < 0 or norm_x > 1 or norm_y < 0 or norm_y > 1: # fixation out of chest bb\n",
    "                continue\n",
    "\n",
    "            ang_x = fixation['angular_resolution_x_pixels_per_degree']\n",
    "            ang_y = fixation['angular_resolution_y_pixels_per_degree']\n",
    "\n",
    "            viewed_x_min = int(max(0, fixation['x_position'] - ang_x * std_devs))\n",
    "            viewed_x_max = int(min(self.xray.shape[1], fixation['x_position'] + ang_x * std_devs))\n",
    "            viewed_y_min = int(max(0, fixation['y_position'] - ang_y * std_devs))\n",
    "            viewed_y_max = int(min(self.xray.shape[0], fixation['y_position'] + ang_y * std_devs))\n",
    "\n",
    "            self.nodes.append(FixationNode(duration,\n",
    "                                           norm_x,\n",
    "                                           norm_y,\n",
    "                                           viewed_x_min,\n",
    "                                           viewed_x_max,\n",
    "                                           viewed_y_min,\n",
    "                                           viewed_y_max))\n",
    "            \n",
    "        self.adj_mat = calc_edge(self.nodes)\n",
    "\n",
    "    def draw(self, fpath='./graph.html', color='#88cccc', edge_labels=True):\n",
    "        g = Network(notebook=True, cdn_resources='remote')\n",
    "        g.toggle_physics(False)\n",
    "\n",
    "        for k, n in enumerate(self.nodes):\n",
    "            g.add_node(k,\n",
    "                    label=str(k),\n",
    "                    title=str(k),\n",
    "                    value=int(n.duration * 1000),\n",
    "                    x=n.norm_x * 1000,\n",
    "                    y=n.norm_y * 1000,\n",
    "                    color=('orange'\n",
    "                        if k == 0\n",
    "                        else ('cyan' if k == len(self.nodes) - 1\n",
    "                                else \"#97c2fc\")),\n",
    "                    shape='circle')\n",
    "        \n",
    "        for i in range(len(self.adj_mat)):\n",
    "            for j in range(i + 1, len(self.adj_mat)):\n",
    "                if i == j or self.adj_mat[i][j] == 0:\n",
    "                    continue\n",
    "                g.add_edge(i,\n",
    "                           j,\n",
    "                           label=(\"{:.2f}\".format(self.adj_mat[i][j])\n",
    "                                  if edge_labels\n",
    "                                  else \"\"),\n",
    "                           color=color)\n",
    "        g.save_graph(fpath)\n",
    "        \n",
    "        \n",
    "    \n",
    "    \n",
    "    \n",
    "def scanpath_edges(nodes):\n",
    "    return np.array([[1.0 if abs(i - j) <= 1 else 0.0\n",
    "                      for j in range(len(nodes))]\n",
    "                     for i in range(len(nodes))])\n",
    "\n",
    "\n",
    "def iou_edges(nodes):\n",
    "    result = [[0.0 for j in range(len(nodes))] for i in range(len(nodes))]\n",
    "    for i, node_i in enumerate(nodes):\n",
    "        for j, node_j in enumerate(nodes):\n",
    "            if i == j:\n",
    "                result[i][j] = 1.0 # TODO review self edges\n",
    "                continue\n",
    "            xA = max(node_i.viewed_x_min, node_j.viewed_x_min)\n",
    "            yA = max(node_i.viewed_y_min, node_j.viewed_y_min)\n",
    "            xB = min(node_i.viewed_x_max, node_j.viewed_x_max)\n",
    "            yB = min(node_i.viewed_y_max, node_j.viewed_y_max)\n",
    "            \n",
    "            intersec = max(0, xB - xA + 1) * max(0, yB - yA + 1)\n",
    "            \n",
    "            i_area = ((node_i.viewed_x_max - node_i.viewed_x_min + 1) *\n",
    "                      (node_i.viewed_y_max - node_i.viewed_y_min + 1))\n",
    "            j_area = ((node_j.viewed_x_max - node_j.viewed_x_min + 1) *\n",
    "                      (node_j.viewed_y_max - node_j.viewed_y_min + 1))\n",
    "            \n",
    "            iou = intersec / (i_area + j_area - intersec)\n",
    "\n",
    "            result[i][j] = iou\n",
    "\n",
    "    return np.array(result)\n",
    "\n",
    "\n",
    "def euclidean_edges(nodes): # TODO review min value being 0\n",
    "    return np.array([[(2 ** 0.5 - \n",
    "                       ((nodes[i].norm_x - nodes[j].norm_x) ** 2 +\n",
    "                       (nodes[i].norm_y - nodes[j].norm_y) ** 2\n",
    "                       ) ** 0.5\n",
    "                      ) / (2 ** 0.5)\n",
    "                      for j in range(len(nodes))]\n",
    "                     for i in range(len(nodes))]) # TODO review self edges\n",
    "\n",
    "\n"
   ]
  },
  {
   "cell_type": "code",
   "execution_count": 6,
   "metadata": {},
   "outputs": [],
   "source": [
    "from scanpath_graph import ScanPathGraph\n",
    "from scanpath_edges import scanpath_edges, iou_edges, euclidean_edges"
   ]
  },
  {
   "cell_type": "code",
   "execution_count": 8,
   "metadata": {},
   "outputs": [
    {
     "ename": "KeyError",
     "evalue": "'position_x'",
     "output_type": "error",
     "traceback": [
      "\u001b[0;31m---------------------------------------------------------------------------\u001b[0m",
      "\u001b[0;31mKeyError\u001b[0m                                  Traceback (most recent call last)",
      "Cell \u001b[0;32mIn[8], line 1\u001b[0m\n\u001b[0;32m----> 1\u001b[0m g_scan_path \u001b[38;5;241m=\u001b[39m \u001b[43mScanPathGraph\u001b[49m\u001b[43m(\u001b[49m\u001b[43mscanpath_edges\u001b[49m\u001b[43m,\u001b[49m\u001b[43m \u001b[49m\u001b[43mdicom_id\u001b[49m\u001b[43m,\u001b[49m\u001b[43m \u001b[49m\u001b[43mreflacx_id\u001b[49m\u001b[43m,\u001b[49m\u001b[43m \u001b[49m\u001b[43mreflacx_sample\u001b[49m\u001b[38;5;241;43m=\u001b[39;49m\u001b[43msample\u001b[49m\u001b[43m)\u001b[49m\n",
      "File \u001b[0;32m/media/antonio/ubuntail/Dropbox/education/phd/thesis/graph_classification/scanpath_graph.py:65\u001b[0m, in \u001b[0;36mScanPathGraph.__init__\u001b[0;34m(self, calc_edge, dicom_id, reflacx_id, reflacx_sample, metadata, std_devs, feature_extractor, mean_features)\u001b[0m\n\u001b[1;32m     62\u001b[0m img_features \u001b[38;5;241m=\u001b[39m feature_extractor\u001b[38;5;241m.\u001b[39mget_img_features(\u001b[38;5;28mself\u001b[39m\u001b[38;5;241m.\u001b[39mxray, \n\u001b[1;32m     63\u001b[0m                                                   mean_features\u001b[38;5;241m=\u001b[39mmean_features)\n\u001b[1;32m     64\u001b[0m \u001b[38;5;28;01mfor\u001b[39;00m i, fixation \u001b[38;5;129;01min\u001b[39;00m \u001b[38;5;28menumerate\u001b[39m(reflacx_sample\u001b[38;5;241m.\u001b[39mget_fixations()):\n\u001b[0;32m---> 65\u001b[0m     node \u001b[38;5;241m=\u001b[39m \u001b[43mFixationNode\u001b[49m\u001b[38;5;241;43m.\u001b[39;49m\u001b[43mnew_node\u001b[49m\u001b[43m(\u001b[49m\u001b[43mi\u001b[49m\u001b[43m,\u001b[49m\n\u001b[1;32m     66\u001b[0m \u001b[43m                                 \u001b[49m\u001b[43mfixation\u001b[49m\u001b[43m,\u001b[49m\n\u001b[1;32m     67\u001b[0m \u001b[43m                                 \u001b[49m\u001b[38;5;28;43mself\u001b[39;49m\u001b[38;5;241;43m.\u001b[39;49m\u001b[43mchest_bb\u001b[49m\u001b[43m,\u001b[49m\n\u001b[1;32m     68\u001b[0m \u001b[43m                                 \u001b[49m\u001b[38;5;28;43mself\u001b[39;49m\u001b[38;5;241;43m.\u001b[39;49m\u001b[43mxray\u001b[49m\u001b[43m,\u001b[49m\n\u001b[1;32m     69\u001b[0m \u001b[43m                                 \u001b[49m\u001b[43mfeature_extractor\u001b[49m\u001b[38;5;241;43m=\u001b[39;49m\u001b[43mfeature_extractor\u001b[49m\u001b[43m,\u001b[49m\n\u001b[1;32m     70\u001b[0m \u001b[43m                                 \u001b[49m\u001b[43mimg_features\u001b[49m\u001b[38;5;241;43m=\u001b[39;49m\u001b[43mimg_features\u001b[49m\u001b[43m,\u001b[49m\n\u001b[1;32m     71\u001b[0m \u001b[43m                                 \u001b[49m\u001b[43mstd_devs\u001b[49m\u001b[38;5;241;43m=\u001b[39;49m\u001b[43mstd_devs\u001b[49m\u001b[43m)\u001b[49m\n\u001b[1;32m     72\u001b[0m     \u001b[38;5;28;01mif\u001b[39;00m node \u001b[38;5;129;01mis\u001b[39;00m \u001b[38;5;129;01mnot\u001b[39;00m \u001b[38;5;28;01mNone\u001b[39;00m:\n\u001b[1;32m     73\u001b[0m         \u001b[38;5;28mself\u001b[39m\u001b[38;5;241m.\u001b[39mnodes\u001b[38;5;241m.\u001b[39mappend(node)\n",
      "File \u001b[0;32m/media/antonio/ubuntail/Dropbox/education/phd/thesis/graph_classification/fixation_node.py:17\u001b[0m, in \u001b[0;36mFixationNode.new_node\u001b[0;34m(id, fixation, chest_bb, img, feature_extractor, img_features, std_devs)\u001b[0m\n\u001b[1;32m     15\u001b[0m \u001b[38;5;28;01mif\u001b[39;00m norm_x \u001b[38;5;241m<\u001b[39m \u001b[38;5;241m0\u001b[39m \u001b[38;5;129;01mor\u001b[39;00m norm_x \u001b[38;5;241m>\u001b[39m \u001b[38;5;241m1\u001b[39m \u001b[38;5;129;01mor\u001b[39;00m norm_y \u001b[38;5;241m<\u001b[39m \u001b[38;5;241m0\u001b[39m \u001b[38;5;129;01mor\u001b[39;00m norm_y \u001b[38;5;241m>\u001b[39m \u001b[38;5;241m1\u001b[39m:\n\u001b[1;32m     16\u001b[0m     \u001b[38;5;28;01mreturn\u001b[39;00m \u001b[38;5;28;01mNone\u001b[39;00m\n\u001b[0;32m---> 17\u001b[0m \u001b[38;5;28;01mreturn\u001b[39;00m \u001b[43mFixationNode\u001b[49m\u001b[43m(\u001b[49m\u001b[38;5;28;43mid\u001b[39;49m\u001b[43m,\u001b[49m\n\u001b[1;32m     18\u001b[0m \u001b[43m                    \u001b[49m\u001b[43mfixation\u001b[49m\u001b[43m,\u001b[49m\n\u001b[1;32m     19\u001b[0m \u001b[43m                    \u001b[49m\u001b[43mnorm_x\u001b[49m\u001b[43m,\u001b[49m\n\u001b[1;32m     20\u001b[0m \u001b[43m                    \u001b[49m\u001b[43mnorm_y\u001b[49m\u001b[43m,\u001b[49m\n\u001b[1;32m     21\u001b[0m \u001b[43m                    \u001b[49m\u001b[43mimg\u001b[49m\u001b[43m,\u001b[49m\n\u001b[1;32m     22\u001b[0m \u001b[43m                    \u001b[49m\u001b[43mfeature_extractor\u001b[49m\u001b[43m,\u001b[49m\n\u001b[1;32m     23\u001b[0m \u001b[43m                    \u001b[49m\u001b[43mimg_features\u001b[49m\u001b[38;5;241;43m=\u001b[39;49m\u001b[43mimg_features\u001b[49m\u001b[43m,\u001b[49m\n\u001b[1;32m     24\u001b[0m \u001b[43m                    \u001b[49m\u001b[43mstd_devs\u001b[49m\u001b[38;5;241;43m=\u001b[39;49m\u001b[43mstd_devs\u001b[49m\u001b[43m)\u001b[49m\n",
      "File \u001b[0;32m/media/antonio/ubuntail/Dropbox/education/phd/thesis/graph_classification/fixation_node.py:52\u001b[0m, in \u001b[0;36mFixationNode.__init__\u001b[0;34m(self, id, fixation, norm_x, norm_y, img, feature_extractor, img_features, std_devs)\u001b[0m\n\u001b[1;32m     48\u001b[0m \u001b[38;5;28mself\u001b[39m\u001b[38;5;241m.\u001b[39mviewed_y_min \u001b[38;5;241m=\u001b[39m \u001b[38;5;28mint\u001b[39m(\u001b[38;5;28mmax\u001b[39m(\u001b[38;5;241m0\u001b[39m, fixation[\u001b[38;5;124m'\u001b[39m\u001b[38;5;124my_position\u001b[39m\u001b[38;5;124m'\u001b[39m] \u001b[38;5;241m-\u001b[39m ang_y \u001b[38;5;241m*\u001b[39m std_devs))\n\u001b[1;32m     49\u001b[0m \u001b[38;5;28mself\u001b[39m\u001b[38;5;241m.\u001b[39mviewed_y_max \u001b[38;5;241m=\u001b[39m \u001b[38;5;28mint\u001b[39m(\u001b[38;5;28mmin\u001b[39m(img\u001b[38;5;241m.\u001b[39mshape[\u001b[38;5;241m0\u001b[39m],\n\u001b[1;32m     50\u001b[0m                             fixation[\u001b[38;5;124m'\u001b[39m\u001b[38;5;124my_position\u001b[39m\u001b[38;5;124m'\u001b[39m] \u001b[38;5;241m+\u001b[39m ang_y \u001b[38;5;241m*\u001b[39m std_devs))\n\u001b[0;32m---> 52\u001b[0m fs \u001b[38;5;241m=\u001b[39m feature_extractor\u001b[38;5;241m.\u001b[39mget_fixation_features((\u001b[43mfixation\u001b[49m\u001b[43m[\u001b[49m\u001b[38;5;124;43m'\u001b[39;49m\u001b[38;5;124;43mposition_x\u001b[39;49m\u001b[38;5;124;43m'\u001b[39;49m\u001b[43m]\u001b[49m,\n\u001b[1;32m     53\u001b[0m                                               fixation[\u001b[38;5;124m'\u001b[39m\u001b[38;5;124mposition_y\u001b[39m\u001b[38;5;124m'\u001b[39m]),\n\u001b[1;32m     54\u001b[0m                                               ang_x,\n\u001b[1;32m     55\u001b[0m                                               ang_y,\n\u001b[1;32m     56\u001b[0m                                               img\u001b[38;5;241m=\u001b[39mimg,\n\u001b[1;32m     57\u001b[0m                                               img_features\u001b[38;5;241m=\u001b[39mimg_features,\n\u001b[1;32m     58\u001b[0m                                               std_devs\u001b[38;5;241m=\u001b[39mstd_devs)\n\u001b[1;32m     60\u001b[0m \u001b[38;5;28mself\u001b[39m\u001b[38;5;241m.\u001b[39mfeatures \u001b[38;5;241m=\u001b[39m fs\n",
      "\u001b[0;31mKeyError\u001b[0m: 'position_x'"
     ]
    }
   ],
   "source": [
    "g_scan_path = ScanPathGraph(scanpath_edges, dicom_id, reflacx_id, reflacx_sample=sample)"
   ]
  },
  {
   "cell_type": "code",
   "execution_count": null,
   "metadata": {},
   "outputs": [],
   "source": [
    "g_scan_path = ScanPathGraph(scanpath_edges, sample)\n",
    "g_euc = ScanPathGraph(euclidean_edges, sample)\n",
    "g_iou = ScanPathGraph(iou_edges, sample)\n"
   ]
  },
  {
   "cell_type": "code",
   "execution_count": null,
   "metadata": {},
   "outputs": [],
   "source": [
    "fixations = sentences[1]['fixations']\n",
    "chest_bb = sample.get_chest_bounding_box()\n"
   ]
  },
  {
   "cell_type": "code",
   "execution_count": null,
   "metadata": {},
   "outputs": [],
   "source": [
    "g = ScanPathGraph(sentences[1], sample.get_dicom_img(), chest_bb)"
   ]
  },
  {
   "cell_type": "code",
   "execution_count": null,
   "metadata": {},
   "outputs": [],
   "source": [
    "g.draw()"
   ]
  },
  {
   "cell_type": "code",
   "execution_count": null,
   "metadata": {},
   "outputs": [],
   "source": [
    "g_scan_path.draw(\"g_scan_path.html\", edge_labels=False)\n",
    "g_euc.draw(\"g_euc.html\", edge_labels=False)\n",
    "g_iou.draw(\"g_iou.html\")"
   ]
  },
  {
   "cell_type": "code",
   "execution_count": null,
   "metadata": {},
   "outputs": [],
   "source": [
    "np.set_printoptions(formatter={'float': lambda x: \"{0:0.1f}\".format(x)})\n",
    "print(g_scan_path.adj_mat)\n",
    "print('\\n\\n')\n",
    "print(g_euc.adj_mat)\n",
    "print('\\n\\n')\n",
    "print(g_iou.adj_mat)"
   ]
  },
  {
   "cell_type": "code",
   "execution_count": null,
   "metadata": {},
   "outputs": [],
   "source": [
    "np.set_printoptions(formatter={'float': lambda x: \"{0:0.1f}\".format(x)})\n",
    "print(g.scanpath_adj_mat)\n",
    "print('\\n\\n')\n",
    "print(g.iou_adj_mat)\n",
    "print('\\n\\n')\n",
    "print(g.euc_adj_mat)"
   ]
  }
 ],
 "metadata": {
  "kernelspec": {
   "display_name": "data_viz",
   "language": "python",
   "name": "python3"
  },
  "language_info": {
   "codemirror_mode": {
    "name": "ipython",
    "version": 3
   },
   "file_extension": ".py",
   "mimetype": "text/x-python",
   "name": "python",
   "nbconvert_exporter": "python",
   "pygments_lexer": "ipython3",
   "version": "3.8.10"
  }
 },
 "nbformat": 4,
 "nbformat_minor": 2
}
