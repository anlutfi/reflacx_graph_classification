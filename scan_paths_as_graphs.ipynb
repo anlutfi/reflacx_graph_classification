{
 "cells": [
  {
   "cell_type": "code",
   "execution_count": null,
   "metadata": {},
   "outputs": [],
   "source": [
    "from math import ceil\n",
    "from scanpath_graph import ScanPathGraph\n",
    "from iou_graph import IOUGraph\n",
    "from euclidean_graph import EuclideanGraph\n",
    "\n",
    "from reflacx_graph_dataset import generate_dataset"
   ]
  },
  {
   "cell_type": "code",
   "execution_count": null,
   "metadata": {},
   "outputs": [],
   "source": [
    "full_meta_path = '../reflacx_lib/full_meta.json' # if file doesn't exist, it will be created\n",
    "reflacx_dir = \"../data/reflacx\"\n",
    "mimic_dir = \"../data/mimic/reflacx_imgs\"\n",
    "\n",
    "from metadata import Metadata\n",
    "\n",
    "metadata = Metadata(reflacx_dir, mimic_dir, full_meta_path, max_dicom_lib_ram_percent=30)"
   ]
  },
  {
   "cell_type": "markdown",
   "metadata": {},
   "source": [
    "#### Generating Dataset"
   ]
  },
  {
   "cell_type": "code",
   "execution_count": null,
   "metadata": {},
   "outputs": [],
   "source": [
    "print('scanpath dataset:')\n",
    "name = 'reflacx_densnet225_scanpath'\n",
    "generate_dataset(name,\n",
    "                 metadata,\n",
    "                 graph_class=ScanPathGraph,\n",
    "                 mean_features_fpath='avg_DensNet_REFLACX_features.npy',\n",
    "                 log_dir='./log/{}'.format(name))"
   ]
  },
  {
   "cell_type": "code",
   "execution_count": null,
   "metadata": {},
   "outputs": [],
   "source": [
    "print('iou dataset:')\n",
    "name = 'reflacx_densnet225_iou'\n",
    "generate_dataset(name,\n",
    "                 metadata,\n",
    "                 graph_class=IOUGraph,\n",
    "                 mean_features_fpath='avg_DensNet_REFLACX_features.npy',\n",
    "                 log_dir='./log/{}'.format(name))\n",
    "\n",
    "print('euclidean dataset:')\n",
    "name = 'reflacx_densnet225_euclidean'\n",
    "generate_dataset(name,\n",
    "                 metadata,\n",
    "                 graph_class=EuclideanGraph,\n",
    "                 mean_features_fpath='avg_DensNet_REFLACX_features.npy',\n",
    "                 log_dir='./log/{}'.format(name))"
   ]
  },
  {
   "cell_type": "markdown",
   "metadata": {},
   "source": [
    "#### Testing Dataset"
   ]
  },
  {
   "cell_type": "code",
   "execution_count": null,
   "metadata": {},
   "outputs": [],
   "source": [
    "import dgl"
   ]
  },
  {
   "cell_type": "code",
   "execution_count": null,
   "metadata": {},
   "outputs": [],
   "source": [
    "scp_pth = 'reflacx_densnet225_scanpath'\n",
    "iou_pth = 'reflacx_densnet225_iou'\n",
    "euc_pth = 'reflacx_densnet225_euclidean'"
   ]
  },
  {
   "cell_type": "code",
   "execution_count": null,
   "metadata": {},
   "outputs": [],
   "source": [
    "scp_ds = dgl.data.CSVDataset(scp_pth)\n",
    "len(scp_ds)"
   ]
  },
  {
   "cell_type": "code",
   "execution_count": null,
   "metadata": {},
   "outputs": [],
   "source": [
    "iou_ds = dgl.data.CSVDataset(iou_pth)\n",
    "len(iou_ds)"
   ]
  },
  {
   "cell_type": "code",
   "execution_count": null,
   "metadata": {},
   "outputs": [],
   "source": [
    "euc_ds = dgl.data.CSVDataset(euc_pth)\n",
    "len(euc_ds)"
   ]
  }
 ],
 "metadata": {
  "kernelspec": {
   "display_name": "data_viz",
   "language": "python",
   "name": "python3"
  },
  "language_info": {
   "codemirror_mode": {
    "name": "ipython",
    "version": 3
   },
   "file_extension": ".py",
   "mimetype": "text/x-python",
   "name": "python",
   "nbconvert_exporter": "python",
   "pygments_lexer": "ipython3",
   "version": "3.8.10"
  }
 },
 "nbformat": 4,
 "nbformat_minor": 2
}
