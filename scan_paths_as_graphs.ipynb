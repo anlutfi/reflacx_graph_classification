{
 "cells": [
  {
   "cell_type": "code",
   "execution_count": null,
   "metadata": {},
   "outputs": [],
   "source": [
    "from math import ceil\n",
    "from scanpath_graph import ScanPathGraph\n",
    "from iou_graph import IOUGraph\n",
    "from euclidean_graph import EuclideanGraph\n",
    "from feature_extraction.dense_feature_extraction import DenseFeatureExtractor\n",
    "\n",
    "from reflacx_graph_dataset import generate_dataset"
   ]
  },
  {
   "cell_type": "code",
   "execution_count": null,
   "metadata": {},
   "outputs": [],
   "source": [
    "full_meta_path = '../reflacx_lib/full_meta.json' # if file doesn't exist, it will be created\n",
    "reflacx_dir = \"../data/reflacx\"\n",
    "mimic_dir = \"../data/mimic/reflacx_imgs\"\n",
    "\n",
    "from metadata import Metadata\n",
    "\n",
    "metadata = Metadata(reflacx_dir, mimic_dir, full_meta_path, max_dicom_lib_ram_percent=30)"
   ]
  },
  {
   "cell_type": "code",
   "execution_count": null,
   "metadata": {},
   "outputs": [],
   "source": [
    "print('scanpath dataset:')\n",
    "name = 'reflacx_densnet225_scanpath'\n",
    "generate_dataset(name,\n",
    "                 metadata,\n",
    "                 graph_class=ScanPathGraph,\n",
    "                 mean_features_fpath='avg_DensNet_REFLACX_features.npy',\n",
    "                 log_dir='./log/{}'.format(name))\n",
    "\n",
    "print('iou dataset:')\n",
    "name = 'reflacx_densnet225_iou'\n",
    "generate_dataset(name,\n",
    "                 metadata,\n",
    "                 graph_class=IOUGraph,\n",
    "                 mean_features_fpath='avg_DensNet_REFLACX_features.npy',\n",
    "                 log_dir='./log/{}'.format(name))\n",
    "\n",
    "print('euclidean dataset:')\n",
    "name = 'reflacx_densnet225_euclidean'\n",
    "generate_dataset(name,\n",
    "                 metadata,\n",
    "                 graph_class=EuclideanGraph,\n",
    "                 mean_features_fpath='avg_DensNet_REFLACX_features.npy',\n",
    "                 log_dir='./log/{}'.format(name))"
   ]
  }
 ],
 "metadata": {
  "kernelspec": {
   "display_name": "data_viz",
   "language": "python",
   "name": "python3"
  },
  "language_info": {
   "codemirror_mode": {
    "name": "ipython",
    "version": 3
   },
   "file_extension": ".py",
   "mimetype": "text/x-python",
   "name": "python",
   "nbconvert_exporter": "python",
   "pygments_lexer": "ipython3",
   "version": "3.8.10"
  }
 },
 "nbformat": 4,
 "nbformat_minor": 2
}
