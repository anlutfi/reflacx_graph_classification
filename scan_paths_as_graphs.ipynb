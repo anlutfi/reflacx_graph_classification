{
 "cells": [
  {
   "cell_type": "code",
   "execution_count": null,
   "metadata": {},
   "outputs": [],
   "source": [
    "import numpy as np\n",
    "import matplotlib.pyplot as plot\n",
    "from math import ceil\n",
    "from scanpath_graph import ScanPathGraph\n",
    "from iou_graph import IOUGraph\n",
    "from euclidean_graph import EuclideanGraph\n",
    "import torch"
   ]
  },
  {
   "cell_type": "code",
   "execution_count": null,
   "metadata": {},
   "outputs": [],
   "source": [
    "full_meta_path = '../reflacx_lib/full_meta.json' # if file doesn't exist, it will be created\n",
    "reflacx_dir = \"../data/reflacx\"\n",
    "mimic_dir = \"../data/mimic/reflacx_imgs\"\n",
    "\n",
    "from metadata import Metadata\n",
    "\n",
    "metadata = Metadata(reflacx_dir, mimic_dir, full_meta_path)"
   ]
  },
  {
   "cell_type": "code",
   "execution_count": null,
   "metadata": {},
   "outputs": [],
   "source": [
    "dicom_id = '0658ad3c-b4f77a56-2ed1609f-ea71a443-d847a975'\n",
    "reflacx_id = 'P109R167865'"
   ]
  },
  {
   "cell_type": "code",
   "execution_count": null,
   "metadata": {},
   "outputs": [],
   "source": [
    "sample = metadata.get_sample(dicom_id, reflacx_id)"
   ]
  },
  {
   "cell_type": "code",
   "execution_count": null,
   "metadata": {},
   "outputs": [],
   "source": [
    "mean_features = torch.from_numpy(np.load('avg_DensNet_REFLACX_features.npy'))"
   ]
  },
  {
   "cell_type": "code",
   "execution_count": null,
   "metadata": {},
   "outputs": [],
   "source": [
    "g_scan_path = ScanPathGraph(dicom_id,\n",
    "                            reflacx_id,\n",
    "                            reflacx_sample=sample,\n",
    "                            mean_features=mean_features)"
   ]
  },
  {
   "cell_type": "code",
   "execution_count": null,
   "metadata": {},
   "outputs": [],
   "source": [
    "img = sample.draw_fixations()\n",
    "bb = sample.get_chest_bounding_box()\n",
    "bb"
   ]
  },
  {
   "cell_type": "code",
   "execution_count": null,
   "metadata": {},
   "outputs": [],
   "source": [
    "plot.imshow(img[bb['ymin']: bb['ymax'] + 1, bb['xmin']: bb['xmax'] + 1])"
   ]
  },
  {
   "cell_type": "code",
   "execution_count": null,
   "metadata": {},
   "outputs": [],
   "source": [
    "print(str(g_scan_path))"
   ]
  },
  {
   "cell_type": "code",
   "execution_count": null,
   "metadata": {},
   "outputs": [],
   "source": [
    "img = sample.draw_fixations()\n",
    "bb = sample.get_chest_bounding_box()\n"
   ]
  },
  {
   "cell_type": "code",
   "execution_count": null,
   "metadata": {},
   "outputs": [],
   "source": [
    "g_scan_path = ScanPathGraph(dicom_id,\n",
    "                            reflacx_id,\n",
    "                            reflacx_sample=sample,\n",
    "                            mean_features=mean_features)\n",
    "g_euc = IOUGraph(dicom_id,\n",
    "                      reflacx_id,\n",
    "                      reflacx_sample=sample,\n",
    "                      mean_features=mean_features)\n",
    "g_iou = EuclideanGraph(dicom_id,\n",
    "                      reflacx_id,\n",
    "                      reflacx_sample=sample,\n",
    "                      mean_features=mean_features)\n",
    "\n",
    "g_scan_path.draw()\n",
    "g_euc.draw()\n",
    "g_iou.draw()\n"
   ]
  },
  {
   "cell_type": "code",
   "execution_count": null,
   "metadata": {},
   "outputs": [],
   "source": [
    "g_scan_path.nodes[0].features"
   ]
  },
  {
   "cell_type": "code",
   "execution_count": null,
   "metadata": {},
   "outputs": [],
   "source": [
    "from feature_extraction.dense_feature_extraction import DenseFeatureExtractor\n",
    "from gaze_tracking_graph import GazeTrackingGraph\n",
    "import os"
   ]
  },
  {
   "cell_type": "code",
   "execution_count": null,
   "metadata": {},
   "outputs": [],
   "source": [
    "class ReflacxGraphDataset:\n",
    "    def __init__(self,\n",
    "                 name,\n",
    "                 metadata,\n",
    "                 graph_class=GazeTrackingGraph,\n",
    "                 stdevs=1,\n",
    "                 feature_extractor=DenseFeatureExtractor(),\n",
    "                 mean_normalize_features=True,\n",
    "                 mean_features_fpath=None):\n",
    "        self.name = name\n",
    "        mean_features = None\n",
    "        if mean_normalize_features:\n",
    "            if mean_features_fpath is None:\n",
    "                mean_features = feature_extractor.get_reflacx_avg_features(metadata)\n",
    "            elif not os.path.exists(mean_features_fpath):\n",
    "                mean_features = feature_extractor.get_reflacx_avg_features(metadata,\n",
    "                                                                           fname=mean_features_fpath)\n",
    "            elif mean_features_fpath.split('.')[-1] == 'pt':\n",
    "                mean_features = torch.load(mean_features_fpath)\n",
    "            else:\n",
    "                mean_features = torch.from_numpy(np.load(mean_features_fpath))\n",
    "\n",
    "        self.graphs = []\n",
    "\n",
    "        for dicom_id in metadata.list_dicom_ids():\n",
    "            for reflacx_id in metadata.list_reflacx_id(dicom_id):\n",
    "                g = graph_class(dicom_id,\n",
    "                                reflacx_id,\n",
    "                                reflacx_sample=metadata.get_sample(dicom_id, reflacx_id),\n",
    "                                metadata=metadata,\n",
    "                                stdevs=stdevs,\n",
    "                                feature_extractor=feature_extractor,\n",
    "                                mean_features=mean_features)\n",
    "                self.graphs.append(g)\n",
    "\n",
    "    \n",
    "    def save(self, dst_dir):\n",
    "        pass\n",
    "            "
   ]
  },
  {
   "cell_type": "code",
   "execution_count": null,
   "metadata": {},
   "outputs": [],
   "source": [
    "metadata.get_sample()"
   ]
  }
 ],
 "metadata": {
  "kernelspec": {
   "display_name": "data_viz",
   "language": "python",
   "name": "python3"
  },
  "language_info": {
   "codemirror_mode": {
    "name": "ipython",
    "version": 3
   },
   "file_extension": ".py",
   "mimetype": "text/x-python",
   "name": "python",
   "nbconvert_exporter": "python",
   "pygments_lexer": "ipython3",
   "version": "3.8.10"
  }
 },
 "nbformat": 4,
 "nbformat_minor": 2
}
