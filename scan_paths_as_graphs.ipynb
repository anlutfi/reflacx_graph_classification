{
 "cells": [
  {
   "cell_type": "code",
   "execution_count": 1,
   "metadata": {},
   "outputs": [],
   "source": [
    "import numpy as np\n",
    "import matplotlib.pyplot as plot\n",
    "from math import ceil\n",
    "from scanpath_graph import ScanPathGraph\n",
    "from iou_graph import IOUGraph\n",
    "from euclidean_graph import EuclideanGraph\n",
    "import torch\n",
    "from feature_extraction.dense_feature_extraction import DenseFeatureExtractor\n",
    "from gaze_tracking_graph import GazeTrackingGraph\n",
    "import os"
   ]
  },
  {
   "cell_type": "code",
   "execution_count": 2,
   "metadata": {},
   "outputs": [
    {
     "name": "stdout",
     "output_type": "stream",
     "text": [
      "loading metadata\n",
      "metadata loaded from file\n"
     ]
    }
   ],
   "source": [
    "full_meta_path = '../reflacx_lib/full_meta.json' # if file doesn't exist, it will be created\n",
    "reflacx_dir = \"../data/reflacx\"\n",
    "mimic_dir = \"../data/mimic/reflacx_imgs\"\n",
    "\n",
    "from metadata import Metadata\n",
    "\n",
    "metadata = Metadata(reflacx_dir, mimic_dir, full_meta_path, max_dicom_lib_ram_percent=30)"
   ]
  },
  {
   "cell_type": "code",
   "execution_count": null,
   "metadata": {},
   "outputs": [],
   "source": [
    "errors = []\n",
    "from rlogger import RLogger\n",
    "import os\n",
    "from fixation_node import FixationNode\n",
    "\n",
    "def generate_dataset(name,\n",
    "                     metadata,\n",
    "                     outdir=None,\n",
    "                     filenames={'meta': 'meta.yaml',\n",
    "                                'edges': 'edges.csv',\n",
    "                                'nodes': 'nodes.csv',\n",
    "                                'graphs': 'graphs.csv'\n",
    "                                },\n",
    "                     g_id = 'graph_id',\n",
    "                     sep=', ',\n",
    "                     graph_class=GazeTrackingGraph,\n",
    "                     stdevs=1,\n",
    "                     feature_extractor=DenseFeatureExtractor(),\n",
    "                     mean_normalize_features=True,\n",
    "                     mean_features_fpath=None,\n",
    "                     log_dir='.'):\n",
    "    log = RLogger(__name__)\n",
    "    \n",
    "    outdir = './{}'.format(name) if outdir is None else outdir\n",
    "    os.makedirs(outdir, exist_ok=True)\n",
    "\n",
    "    mean_features = None\n",
    "    if mean_normalize_features:\n",
    "        if mean_features_fpath is None:\n",
    "            mean_features = feature_extractor.get_reflacx_avg_features(metadata)\n",
    "        elif not os.path.exists(mean_features_fpath):\n",
    "            mean_features = feature_extractor.get_reflacx_avg_features(metadata,\n",
    "                                                                        fname=mean_features_fpath)\n",
    "        elif mean_features_fpath.split('.')[-1] == 'pt':\n",
    "            mean_features = torch.load(mean_features_fpath)\n",
    "        else: # .npy\n",
    "            mean_features = torch.from_numpy(np.load(mean_features_fpath))\n",
    "\n",
    "    with open(os.sep.join([outdir, filenames['meta']]), 'w') as f:\n",
    "        f.writelines(['dataset_name: {}'.format(name),\n",
    "                        '\\nedge_data:',\n",
    "                        '\\n- file_name: {}'.format(filenames['edges']),\n",
    "                        '\\nnode_data:',\n",
    "                        '\\n- file_name: {}'.format(filenames['nodes']),\n",
    "                        '\\ngraph_data:',\n",
    "                        '\\nfile_name: {}'.format(filenames['graphs'])])\n",
    "\n",
    "    e_csv = open(os.sep.join([outdir, filenames['edges']]), 'w')\n",
    "    n_csv = open(os.sep.join([outdir, filenames['nodes']]), 'w')\n",
    "    g_csv = open(os.sep.join([outdir, filenames['graphs']]), 'w')        \n",
    "    \n",
    "    csv_line = lambda prefix, line: sep.join([prefix, line]) + '\\n'\n",
    "    csv_header = lambda line: csv_line(g_id, line)\n",
    "    \n",
    "    n_csv.write(csv_header(FixationNode.csv_header()))\n",
    "    e_csv.write(csv_header(graph_class.edge_csv_header()))\n",
    "    g_csv.write(csv_header('labels'))\n",
    "    \n",
    "    i = 0\n",
    "    for dicom_id in metadata.list_dicom_ids(n_samples=10): #TODO remove after debug\n",
    "        for reflacx_id in metadata.list_reflacx_ids(dicom_id):\n",
    "            RLogger.start(os.path.sep.join([log_dir,\n",
    "                                    '{}__{}.log'.format(dicom_id, reflacx_id)]))\n",
    "            try:\n",
    "                curr_line = lambda line: csv_line(i, line)\n",
    "                g = graph_class(dicom_id,\n",
    "                            reflacx_id,\n",
    "                            reflacx_sample=metadata.get_sample(dicom_id, reflacx_id),\n",
    "                            metadata=metadata,\n",
    "                            stdevs=stdevs,\n",
    "                            feature_extractor=feature_extractor,\n",
    "                            mean_features=mean_features)\n",
    "                g_csv.write(curr_line(g.graph_csv(labels='common')))\n",
    "                g.write_nodes_csv(n_csv, curr_line)\n",
    "                g.write_edges_csv(e_csv, curr_line)\n",
    "            except:\n",
    "                errors.append((dicom_id, reflacx_id))\n",
    "                log('bad graph for pair {} --- {}'.format(dicom_id,\n",
    "                                                            reflacx_id),\n",
    "                    exception=True)\n",
    "                continue\n",
    "\n",
    "    n_csv.close()\n",
    "    e_csv.close()\n",
    "    g_csv.close()\n",
    "\n",
    "        "
   ]
  },
  {
   "cell_type": "code",
   "execution_count": 3,
   "metadata": {},
   "outputs": [],
   "source": [
    "x = metadata.get_sample('34cedb74-d0996b40-6d218312-a9174bea-d48dc033', 'P102R108387')\n",
    "img = x.get_dicom_img()\n",
    "img"
   ]
  },
  {
   "cell_type": "code",
   "execution_count": null,
   "metadata": {},
   "outputs": [],
   "source": [
    "g = ScanPathGraph('34cedb74-d0996b40-6d218312-a9174bea-d48dc033', 'P102R108387', metadata.get_sample('34cedb74-d0996b40-6d218312-a9174bea-d48dc033', 'P102R108387'))"
   ]
  },
  {
   "cell_type": "code",
   "execution_count": null,
   "metadata": {},
   "outputs": [],
   "source": [
    "generate_dataset('test',\n",
    "                 metadata,\n",
    "                 outdir='./dataset',\n",
    "                 graph_class=ScanPathGraph,\n",
    "                 mean_features_fpath='avg_DensNet_REFLACX_features.npy',\n",
    "                 log_dir='./log')"
   ]
  },
  {
   "cell_type": "code",
   "execution_count": null,
   "metadata": {},
   "outputs": [],
   "source": [
    "ds = ReflacxGraphDataset('',\n",
    "                         metadata,\n",
    "                         ScanPathGraph,\n",
    "                         mean_features_fpath='avg_DensNet_REFLACX_features.npy')"
   ]
  },
  {
   "cell_type": "code",
   "execution_count": null,
   "metadata": {},
   "outputs": [],
   "source": [
    "import logging\n",
    "logger = logging.getLogger()\n",
    "logging.basicConfig(filename='example.log', level=logging.DEBUG)"
   ]
  },
  {
   "cell_type": "code",
   "execution_count": null,
   "metadata": {},
   "outputs": [],
   "source": [
    "errors = [('9678dc02-54a05e84-f5efffa5-bc62e0a2-83dac014', 'P300R050750'),\n",
    " ('7a1165df-fc1f2e7a-f901fa11-d73f3ee4-91abd6ae', 'P300R430029'),\n",
    " ('767626c8-a068ea4b-578a5042-7bbdaec4-efc21ef2', 'P300R038991')]"
   ]
  },
  {
   "cell_type": "code",
   "execution_count": null,
   "metadata": {},
   "outputs": [],
   "source": [
    "did, rid = errors[0]\n",
    "sample = metadata.get_sample(did, rid)\n",
    "print('lalala')"
   ]
  },
  {
   "cell_type": "code",
   "execution_count": null,
   "metadata": {},
   "outputs": [],
   "source": [
    "g = ScanPathGraph(errors[0][0], errors[0][1], metadata=metadata, mean_features=mean_features)"
   ]
  },
  {
   "cell_type": "code",
   "execution_count": null,
   "metadata": {},
   "outputs": [],
   "source": [
    "import inspect\n",
    "inspect.stack()[0][3]"
   ]
  },
  {
   "cell_type": "code",
   "execution_count": null,
   "metadata": {},
   "outputs": [],
   "source": [
    "sample = metadata.get_sample(*errors[1])\n",
    "fixations = sample.get_fixations()"
   ]
  },
  {
   "cell_type": "code",
   "execution_count": null,
   "metadata": {},
   "outputs": [],
   "source": [
    "extractor = DenseFeatureExtractor()\n",
    "img_features = extractor.get_img_features(sample.get_dicom_img(),\n",
    "                                          mean_features=mean_features,\n",
    "                                          to_numpy=True)\n",
    "fix = fixations[42]\n",
    "fix, sample.get_dicom_img().shape"
   ]
  },
  {
   "cell_type": "code",
   "execution_count": null,
   "metadata": {},
   "outputs": [],
   "source": [
    "trans_fix = extractor.transform_fixation((fix['x_position'], fix['y_position']),\n",
    "                             fix['angular_resolution_x_pixels_per_degree'],\n",
    "                             fix['angular_resolution_y_pixels_per_degree'],\n",
    "                             img_size=sample.get_dicom_img().shape,\n",
    "                             normalize=True)\n",
    "\n",
    "fixation_pos, fixation_crop = trans_fix\n",
    "\n",
    "        \n",
    "tl = fixation_crop[0]\n",
    "br = fixation_crop[1]\n",
    "tr = (br[0], tl[1])\n",
    "bl = (tl[0], br[1])\n",
    "\n",
    "adjustpos = lambda point:(point[0] * img_features.shape[2],\n",
    "                                  point[1] * img_features.shape[1])\n",
    "        \n",
    "tl = adjustpos(tl)\n",
    "bl = adjustpos(bl)\n",
    "tr = adjustpos(tr)\n",
    "br = adjustpos(br)\n",
    "\n",
    "(fixation_pos, fixation_crop), (tl, bl, tr, br)"
   ]
  },
  {
   "cell_type": "code",
   "execution_count": null,
   "metadata": {},
   "outputs": [],
   "source": [
    "from math import ceil, floor"
   ]
  },
  {
   "cell_type": "code",
   "execution_count": null,
   "metadata": {},
   "outputs": [],
   "source": [
    "h_region_count = ceil(tr[0]) - floor(tl[0])\n",
    "v_region_count = ceil(bl[1]) - floor(tl[1])\n",
    "\n",
    "h_region_count, v_region_count"
   ]
  },
  {
   "cell_type": "code",
   "execution_count": null,
   "metadata": {},
   "outputs": [],
   "source": [
    "list(range(floor(tl[0]), ceil(tr[0]))), list(range(floor(tl[1]), ceil(bl[1])))"
   ]
  },
  {
   "cell_type": "code",
   "execution_count": null,
   "metadata": {},
   "outputs": [],
   "source": [
    "crop_area = (tr[0] - tl[0]) * (bl[1] - tl[1])\n",
    "\n",
    "# calculate intersection between fixation crop\n",
    "# and each of the feature regions\n",
    "result = np.zeros(img_features.shape[0], dtype=img_features.dtype)\n",
    "\n",
    "for i in range(int(tl[0]), int(tl[0]) + h_region_count):\n",
    "    for j in range(int(tl[1]), int(tl[1]) + v_region_count):\n",
    "        xmin = max(tl[0], i)\n",
    "        ymin = max(tl[1], j)\n",
    "        xmax = min(br[0], i + 1)\n",
    "        ymax = min(br[1], j + 1)\n",
    "\n",
    "        coef = (xmax - xmin) * (ymax - ymin) / crop_area\n",
    "        result = np.sum([result,\n",
    "                                img_features[:, i, j] * coef],\n",
    "                                     axis=0)"
   ]
  },
  {
   "cell_type": "code",
   "execution_count": null,
   "metadata": {},
   "outputs": [],
   "source": [
    "ff = extractor.get_fixation_features((fix['x_position'], fix['y_position']),\n",
    "                                     fix['angular_resolution_x_pixels_per_degree'],\n",
    "                                     fix['angular_resolution_y_pixels_per_degree'],\n",
    "                                     img_features=img_features,\n",
    "                                     mean_features=mean_features,\n",
    "                                     img_size=None)#sample.get_dicom_img().shape)"
   ]
  },
  {
   "cell_type": "code",
   "execution_count": null,
   "metadata": {},
   "outputs": [],
   "source": [
    "extractor.last_img_size, sample.get_dicom_img().shape"
   ]
  }
 ],
 "metadata": {
  "kernelspec": {
   "display_name": "data_viz",
   "language": "python",
   "name": "python3"
  },
  "language_info": {
   "codemirror_mode": {
    "name": "ipython",
    "version": 3
   },
   "file_extension": ".py",
   "mimetype": "text/x-python",
   "name": "python",
   "nbconvert_exporter": "python",
   "pygments_lexer": "ipython3",
   "version": "3.8.10"
  }
 },
 "nbformat": 4,
 "nbformat_minor": 2
}
